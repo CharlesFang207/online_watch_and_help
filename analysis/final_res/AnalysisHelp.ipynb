{
 "cells": [
  {
   "cell_type": "markdown",
   "id": "32c62084",
   "metadata": {},
   "source": [
    "# Analysis helping episodes"
   ]
  },
  {
   "cell_type": "code",
   "execution_count": 1,
   "id": "380b9363",
   "metadata": {},
   "outputs": [],
   "source": [
    "import glob\n",
    "import pickle as pkl"
   ]
  },
  {
   "cell_type": "code",
   "execution_count": 2,
   "id": "09913162",
   "metadata": {},
   "outputs": [
    {
     "data": {
      "text/plain": [
       "'/data/vision/torralba/frames/data_acquisition/SyntheticStories/online_wah/agent_preferences/analysis/final_res'"
      ]
     },
     "execution_count": 2,
     "metadata": {},
     "output_type": "execute_result"
    }
   ],
   "source": [
    "pwd"
   ]
  },
  {
   "cell_type": "code",
   "execution_count": 3,
   "id": "a2193d10",
   "metadata": {},
   "outputs": [],
   "source": [
    "paths_dict = {\n",
    "    'VAE': 'outputs/helping_states_ip1_newvaefull_encoder_task_graph.kl0.001_20_1.0_1.0_5.0',\n",
    "    'DET': 'outputs/helping_states_1_3_ip1_detfull_encoder_task_graph_20_1.0_1.0_5.0',\n",
    "    'GT': 'outputs/helping_gt_goal'\n",
    "}"
   ]
  },
  {
   "cell_type": "code",
   "execution_count": 4,
   "id": "ecd3b4ff",
   "metadata": {},
   "outputs": [],
   "source": [
    "def build_path(goal='GT'):\n",
    "    # init_path = '/data/vision/torralba/frames/data_acquisition/SyntheticStories/agent_preferences/tshu/agent_preferences/'\n",
    "    init_path = '/data/vision/torralba/frames/data_acquisition/SyntheticStories/online_wah/agent_preferences/'\n",
    "    path = '{}/{}/test_env_task_set_60_full_task.all'.format(init_path, paths_dict[goal])\n",
    "    paths = glob.glob('{}/logs*'.format(path))\n",
    "    \n",
    "    cont_dict = {}\n",
    "    ind = 4\n",
    "    path_res = '{}/results_{}.pik'.format(path, ind)\n",
    "    with open(path_res, 'rb') as f:\n",
    "        cont = pkl.load(f)\n",
    "    path_dict = {}\n",
    "    for path in paths:\n",
    "        path_index = path.split('.')[-3].split('_')[0]\n",
    "        seed_index = path.split('.')[-2]\n",
    "        path_dict[(int(path_index), int(seed_index))] = path\n",
    "    return path_dict, cont\n",
    "\n",
    "def find_strange_episodes(cont):\n",
    "    index_bad = []\n",
    "    res_bad = []\n",
    "    for index, elem in cont.items():\n",
    "        if min(elem['L']) < 100 and max(elem['L']) == 250:\n",
    "            index_bad.append(index)\n",
    "            res_bad.append(elem['L'])\n",
    "    return index_bad, res_bad"
   ]
  },
  {
   "cell_type": "markdown",
   "id": "28e19bc1",
   "metadata": {},
   "source": [
    "## What happens with episodes that have the 250 and then low?\n"
   ]
  },
  {
   "cell_type": "code",
   "execution_count": 5,
   "id": "c13a578f",
   "metadata": {},
   "outputs": [
    {
     "ename": "FileNotFoundError",
     "evalue": "[Errno 2] No such file or directory: '/data/vision/torralba/frames/data_acquisition/SyntheticStories/online_wah/agent_preferences//outputs/helping_gt_goal/test_env_task_set_60_full_task.all/results_4.pik'",
     "output_type": "error",
     "traceback": [
      "\u001b[0;31m---------------------------------------------------------------------------\u001b[0m",
      "\u001b[0;31mFileNotFoundError\u001b[0m                         Traceback (most recent call last)",
      "Input \u001b[0;32mIn [5]\u001b[0m, in \u001b[0;36m<cell line: 1>\u001b[0;34m()\u001b[0m\n\u001b[0;32m----> 1\u001b[0m path_dict, cont \u001b[38;5;241m=\u001b[39m \u001b[43mbuild_path\u001b[49m\u001b[43m(\u001b[49m\u001b[43m)\u001b[49m\n\u001b[1;32m      2\u001b[0m bad_indices, bad_res \u001b[38;5;241m=\u001b[39m find_strange_episodes(cont)\n",
      "Input \u001b[0;32mIn [4]\u001b[0m, in \u001b[0;36mbuild_path\u001b[0;34m(goal)\u001b[0m\n\u001b[1;32m      8\u001b[0m ind \u001b[38;5;241m=\u001b[39m \u001b[38;5;241m4\u001b[39m\n\u001b[1;32m      9\u001b[0m path_res \u001b[38;5;241m=\u001b[39m \u001b[38;5;124m'\u001b[39m\u001b[38;5;132;01m{}\u001b[39;00m\u001b[38;5;124m/results_\u001b[39m\u001b[38;5;132;01m{}\u001b[39;00m\u001b[38;5;124m.pik\u001b[39m\u001b[38;5;124m'\u001b[39m\u001b[38;5;241m.\u001b[39mformat(path, ind)\n\u001b[0;32m---> 10\u001b[0m \u001b[38;5;28;01mwith\u001b[39;00m \u001b[38;5;28;43mopen\u001b[39;49m\u001b[43m(\u001b[49m\u001b[43mpath_res\u001b[49m\u001b[43m,\u001b[49m\u001b[43m \u001b[49m\u001b[38;5;124;43m'\u001b[39;49m\u001b[38;5;124;43mrb\u001b[39;49m\u001b[38;5;124;43m'\u001b[39;49m\u001b[43m)\u001b[49m \u001b[38;5;28;01mas\u001b[39;00m f:\n\u001b[1;32m     11\u001b[0m     cont \u001b[38;5;241m=\u001b[39m pkl\u001b[38;5;241m.\u001b[39mload(f)\n\u001b[1;32m     12\u001b[0m path_dict \u001b[38;5;241m=\u001b[39m {}\n",
      "\u001b[0;31mFileNotFoundError\u001b[0m: [Errno 2] No such file or directory: '/data/vision/torralba/frames/data_acquisition/SyntheticStories/online_wah/agent_preferences//outputs/helping_gt_goal/test_env_task_set_60_full_task.all/results_4.pik'"
     ]
    }
   ],
   "source": [
    "path_dict, cont = build_path()\n",
    "bad_indices, bad_res = find_strange_episodes(cont)"
   ]
  },
  {
   "cell_type": "code",
   "execution_count": 6,
   "id": "40253b3a",
   "metadata": {},
   "outputs": [
    {
     "name": "stdout",
     "output_type": "stream",
     "text": [
      "total 353809\r\n",
      "-rw-rw-r-- 1 xavierpuig vision-torralba      634 May  1 13:47 results_2.pik\r\n",
      "-rw-rw-r-- 1 xavierpuig vision-torralba  4866396 May  1 13:47 logs_episode.621_iter.2.pik\r\n",
      "-rw-rw-r-- 1 xavierpuig vision-torralba 11827723 May  1 13:47 logs_episode.606_iter.2.pik\r\n",
      "-rw-rw-r-- 1 xavierpuig vision-torralba 12543758 May  1 13:46 logs_episode.591_iter.2.pik\r\n",
      "-rw-rw-r-- 1 xavierpuig vision-torralba 10558846 May  1 13:46 logs_episode.573_iter.2.pik\r\n",
      "-rw-rw-r-- 1 xavierpuig vision-torralba 21023351 May  1 13:45 logs_episode.556_iter.2.pik\r\n",
      "-rw-rw-r-- 1 xavierpuig vision-torralba 12593358 May  1 13:29 logs_episode.523_iter.2.pik\r\n",
      "-rw-rw-r-- 1 xavierpuig vision-torralba  4488005 May  1 13:27 logs_episode.466_iter.2.pik\r\n",
      "-rw-rw-r-- 1 xavierpuig vision-torralba 16475024 May  1 13:27 logs_episode.428_iter.2.pik\r\n",
      "-rw-rw-r-- 1 xavierpuig vision-torralba  6692058 May  1 13:26 logs_episode.419_iter.2.pik\r\n",
      "-rw-rw-r-- 1 xavierpuig vision-torralba 19105698 May  1 13:26 logs_episode.401_iter.2.pik\r\n",
      "-rw-rw-r-- 1 xavierpuig vision-torralba 12327004 May  1 13:25 logs_episode.366_iter.2.pik\r\n",
      "-rw-rw-r-- 1 xavierpuig vision-torralba  5502548 May  1 13:24 logs_episode.323_iter.2.pik\r\n",
      "-rw-rw-r-- 1 xavierpuig vision-torralba 15353630 May  1 13:24 logs_episode.304_iter.2.pik\r\n",
      "-rw-rw-r-- 1 xavierpuig vision-torralba 14293647 May  1 13:23 logs_episode.290_iter.2.pik\r\n",
      "-rw-rw-r-- 1 xavierpuig vision-torralba  6142585 May  1 13:22 logs_episode.225_iter.2.pik\r\n",
      "-rw-rw-r-- 1 xavierpuig vision-torralba 15405491 May  1 13:22 logs_episode.193_iter.2.pik\r\n",
      "-rw-rw-r-- 1 xavierpuig vision-torralba 21279919 May  1 13:21 logs_episode.180_iter.2.pik\r\n",
      "-rw-rw-r-- 1 xavierpuig vision-torralba 25531093 May  1 13:20 logs_episode.162_iter.2.pik\r\n",
      "-rw-rw-r-- 1 xavierpuig vision-torralba 14041703 May  1 13:18 logs_episode.139_iter.2.pik\r\n",
      "-rw-rw-r-- 1 xavierpuig vision-torralba 12518435 May  1 13:17 logs_episode.3_iter.2.pik\r\n",
      "-rw-rw-r-- 1 xavierpuig vision-torralba      554 May  1 13:16 results_1.pik\r\n",
      "-rw-rw-r-- 1 xavierpuig vision-torralba  7436337 May  1 13:16 logs_episode.621_iter.1.pik\r\n",
      "-rw-rw-r-- 1 xavierpuig vision-torralba 31856439 May  1 13:16 logs_episode.606_iter.1.pik\r\n",
      "-rw-rw-r-- 1 xavierpuig vision-torralba  7941930 May  1 13:14 logs_episode.591_iter.1.pik\r\n",
      "-rw-rw-r-- 1 xavierpuig vision-torralba 10304616 May  1 13:14 logs_episode.573_iter.1.pik\r\n",
      "-rw-rw-r-- 1 xavierpuig vision-torralba 14530622 May  1 13:13 logs_episode.556_iter.1.pik\r\n",
      "-rw-rw-r-- 1 xavierpuig vision-torralba 21558515 May  1 13:12 logs_episode.523_iter.1.pik\r\n",
      "-rw-rw-r-- 1 xavierpuig vision-torralba  5154250 May  1 13:10 logs_episode.466_iter.1.pik\r\n",
      "-rw-rw-r-- 1 xavierpuig vision-torralba 15255269 May  1 13:10 logs_episode.428_iter.1.pik\r\n",
      "-rw-rw-r-- 1 xavierpuig vision-torralba  7188155 May  1 13:09 logs_episode.419_iter.1.pik\r\n",
      "-rw-rw-r-- 1 xavierpuig vision-torralba 20846758 May  1 13:09 logs_episode.401_iter.1.pik\r\n",
      "-rw-rw-r-- 1 xavierpuig vision-torralba 11926765 May  1 13:08 logs_episode.366_iter.1.pik\r\n",
      "-rw-rw-r-- 1 xavierpuig vision-torralba  5497740 May  1 13:07 logs_episode.323_iter.1.pik\r\n",
      "-rw-rw-r-- 1 xavierpuig vision-torralba 14621614 May  1 13:06 logs_episode.304_iter.1.pik\r\n",
      "-rw-rw-r-- 1 xavierpuig vision-torralba 13288213 May  1 13:06 logs_episode.290_iter.1.pik\r\n",
      "-rw-rw-r-- 1 xavierpuig vision-torralba  6678462 May  1 13:05 logs_episode.225_iter.1.pik\r\n",
      "-rw-rw-r-- 1 xavierpuig vision-torralba 18389099 May  1 13:05 logs_episode.193_iter.1.pik\r\n",
      "-rw-rw-r-- 1 xavierpuig vision-torralba 37377453 May  1 13:04 logs_episode.180_iter.1.pik\r\n",
      "-rw-rw-r-- 1 xavierpuig vision-torralba 24764051 May  1 13:02 logs_episode.162_iter.1.pik\r\n",
      "-rw-rw-r-- 1 xavierpuig vision-torralba  7552805 May  1 13:00 logs_episode.139_iter.1.pik\r\n",
      "-rw-rw-r-- 1 xavierpuig vision-torralba  9729950 May  1 12:59 logs_episode.3_iter.1.pik\r\n",
      "-rw-rw-r-- 1 xavierpuig vision-torralba      434 May  1 12:58 results_0.pik\r\n",
      "-rw-rw-r-- 1 xavierpuig vision-torralba  6406600 May  1 12:58 logs_episode.621_iter.0.pik\r\n",
      "-rw-rw-r-- 1 xavierpuig vision-torralba 11209078 May  1 12:58 logs_episode.606_iter.0.pik\r\n",
      "-rw-rw-r-- 1 xavierpuig vision-torralba 15642868 May  1 12:57 logs_episode.591_iter.0.pik\r\n",
      "-rw-rw-r-- 1 xavierpuig vision-torralba 11057783 May  1 12:56 logs_episode.573_iter.0.pik\r\n",
      "-rw-rw-r-- 1 xavierpuig vision-torralba 21276058 May  1 12:56 logs_episode.556_iter.0.pik\r\n",
      "-rw-rw-r-- 1 xavierpuig vision-torralba 15147150 May  1 12:54 logs_episode.523_iter.0.pik\r\n",
      "-rw-rw-r-- 1 xavierpuig vision-torralba  4634367 May  1 12:53 logs_episode.466_iter.0.pik\r\n",
      "-rw-rw-r-- 1 xavierpuig vision-torralba 17212901 May  1 12:53 logs_episode.428_iter.0.pik\r\n",
      "-rw-rw-r-- 1 xavierpuig vision-torralba  6939634 May  1 12:52 logs_episode.419_iter.0.pik\r\n",
      "-rw-rw-r-- 1 xavierpuig vision-torralba 20846907 May  1 12:51 logs_episode.401_iter.0.pik\r\n",
      "-rw-rw-r-- 1 xavierpuig vision-torralba 10434943 May  1 12:50 logs_episode.366_iter.0.pik\r\n",
      "-rw-rw-r-- 1 xavierpuig vision-torralba  5249310 May  1 12:49 logs_episode.323_iter.0.pik\r\n",
      "-rw-rw-r-- 1 xavierpuig vision-torralba 14736735 May  1 12:49 logs_episode.304_iter.0.pik\r\n",
      "-rw-rw-r-- 1 xavierpuig vision-torralba 12785195 May  1 12:48 logs_episode.290_iter.0.pik\r\n",
      "-rw-rw-r-- 1 xavierpuig vision-torralba  5871028 May  1 12:48 logs_episode.225_iter.0.pik\r\n",
      "-rw-rw-r-- 1 xavierpuig vision-torralba 19883812 May  1 12:47 logs_episode.193_iter.0.pik\r\n",
      "-rw-rw-r-- 1 xavierpuig vision-torralba 21782051 May  1 12:46 logs_episode.180_iter.0.pik\r\n",
      "-rw-rw-r-- 1 xavierpuig vision-torralba 26168652 May  1 12:45 logs_episode.162_iter.0.pik\r\n",
      "-rw-rw-r-- 1 xavierpuig vision-torralba 18641025 May  1 12:43 logs_episode.139_iter.0.pik\r\n",
      "-rw-rw-r-- 1 xavierpuig vision-torralba 11968584 May  1 12:42 logs_episode.3_iter.0.pik\r\n",
      "-rw-rw-r-- 1 xavierpuig vision-torralba 21148104 May  1 12:40 logs_episode.600_iter.1.pik\r\n",
      "-rw-rw-r-- 1 xavierpuig vision-torralba 20566003 May  1 12:39 logs_episode.597_iter.1.pik\r\n",
      "-rw-rw-r-- 1 xavierpuig vision-torralba 12596131 May  1 12:38 logs_episode.589_iter.1.pik\r\n",
      "-rw-rw-r-- 1 xavierpuig vision-torralba 22153855 May  1 12:36 logs_episode.552_iter.1.pik\r\n",
      "-rw-rw-r-- 1 xavierpuig vision-torralba 12227796 May  1 12:35 logs_episode.551_iter.1.pik\r\n",
      "-rw-rw-r-- 1 xavierpuig vision-torralba  7123559 May  1 12:34 logs_episode.426_iter.1.pik\r\n",
      "-rw-rw-r-- 1 xavierpuig vision-torralba  7726087 May  1 12:33 logs_episode.417_iter.1.pik\r\n",
      "-rw-rw-r-- 1 xavierpuig vision-torralba 35774931 May  1 12:32 logs_episode.410_iter.1.pik\r\n",
      "-rw-rw-r-- 1 xavierpuig vision-torralba 21295868 May  1 12:30 logs_episode.322_iter.1.pik\r\n",
      "-rw-rw-r-- 1 xavierpuig vision-torralba  9196764 May  1 12:29 logs_episode.311_iter.1.pik\r\n",
      "-rw-rw-r-- 1 xavierpuig vision-torralba 19133591 May  1 12:29 logs_episode.295_iter.1.pik\r\n",
      "-rw-rw-r-- 1 xavierpuig vision-torralba 19737373 May  1 12:27 logs_episode.274_iter.1.pik\r\n",
      "-rw-rw-r-- 1 xavierpuig vision-torralba 28426337 May  1 12:27 logs_episode.204_iter.1.pik\r\n",
      "-rw-rw-r-- 1 xavierpuig vision-torralba 12171621 May  1 12:24 logs_episode.190_iter.1.pik\r\n",
      "-rw-rw-r-- 1 xavierpuig vision-torralba  6629133 May  1 12:23 logs_episode.157_iter.1.pik\r\n",
      "-rw-rw-r-- 1 xavierpuig vision-torralba 11141833 May  1 12:23 logs_episode.41_iter.1.pik\r\n",
      "-rw-rw-r-- 1 xavierpuig vision-torralba  8491171 May  1 12:22 logs_episode.627_iter.0.pik\r\n",
      "-rw-rw-r-- 1 xavierpuig vision-torralba 22863482 May  1 12:21 logs_episode.600_iter.0.pik\r\n",
      "-rw-rw-r-- 1 xavierpuig vision-torralba 19442546 May  1 12:20 logs_episode.597_iter.0.pik\r\n",
      "-rw-rw-r-- 1 xavierpuig vision-torralba  7546169 May  1 12:20 logs_episode.589_iter.0.pik\r\n",
      "-rw-rw-r-- 1 xavierpuig vision-torralba 28418681 May  1 12:18 logs_episode.552_iter.0.pik\r\n",
      "-rw-rw-r-- 1 xavierpuig vision-torralba 12480979 May  1 12:17 logs_episode.551_iter.0.pik\r\n",
      "-rw-rw-r-- 1 xavierpuig vision-torralba  5752139 May  1 12:15 logs_episode.426_iter.0.pik\r\n",
      "-rw-rw-r-- 1 xavierpuig vision-torralba  6477797 May  1 12:14 logs_episode.417_iter.0.pik\r\n",
      "-rw-rw-r-- 1 xavierpuig vision-torralba 12798260 May  1 12:14 logs_episode.410_iter.0.pik\r\n",
      "-rw-rw-r-- 1 xavierpuig vision-torralba 17175873 May  1 12:13 logs_episode.322_iter.0.pik\r\n",
      "-rw-rw-r-- 1 xavierpuig vision-torralba  8200439 May  1 12:12 logs_episode.311_iter.0.pik\r\n",
      "-rw-rw-r-- 1 xavierpuig vision-torralba 14811286 May  1 12:12 logs_episode.295_iter.0.pik\r\n",
      "-rw-rw-r-- 1 xavierpuig vision-torralba 12150612 May  1 12:11 logs_episode.274_iter.0.pik\r\n",
      "-rw-rw-r-- 1 xavierpuig vision-torralba 28064310 May  1 12:10 logs_episode.204_iter.0.pik\r\n",
      "-rw-rw-r-- 1 xavierpuig vision-torralba  8189408 May  1 12:08 logs_episode.190_iter.0.pik\r\n",
      "-rw-rw-r-- 1 xavierpuig vision-torralba  7643102 May  1 12:07 logs_episode.157_iter.0.pik\r\n",
      "-rw-rw-r-- 1 xavierpuig vision-torralba  7501880 May  1 12:07 logs_episode.41_iter.0.pik\r\n",
      "-rw-rw-r-- 1 xavierpuig vision-torralba  8522107 Apr 30 16:55 logs_episode.612_iter.2.pik\r\n",
      "-rw-rw-r-- 1 xavierpuig vision-torralba 13446449 Apr 30 16:55 logs_episode.616_iter.2.pik\r\n",
      "-rw-rw-r-- 1 xavierpuig vision-torralba 11579097 Apr 30 16:54 logs_episode.589_iter.2.pik\r\n",
      "-rw-rw-r-- 1 xavierpuig vision-torralba  6461132 Apr 30 16:54 logs_episode.186_iter.2.pik\r\n",
      "-rw-rw-r-- 1 xavierpuig vision-torralba 13414940 Apr 30 16:53 logs_episode.152_iter.2.pik\r\n",
      "-rw-rw-r-- 1 xavierpuig vision-torralba  7777607 Apr 30 16:52 logs_episode.179_iter.2.pik\r\n",
      "-rw-rw-r-- 1 xavierpuig vision-torralba  7376810 Apr 30 16:51 logs_episode.202_iter.2.pik\r\n",
      "-rw-rw-r-- 1 xavierpuig vision-torralba  7898228 Apr 30 16:51 logs_episode.157_iter.2.pik\r\n",
      "-rw-rw-r-- 1 xavierpuig vision-torralba  9476509 Apr 30 16:49 logs_episode.446_iter.2.pik\r\n",
      "-rw-rw-r-- 1 xavierpuig vision-torralba  9979229 Apr 30 16:48 logs_episode.427_iter.2.pik\r\n",
      "-rw-rw-r-- 1 xavierpuig vision-torralba  6166720 Apr 30 16:48 logs_episode.391_iter.2.pik\r\n",
      "-rw-rw-r-- 1 xavierpuig vision-torralba  5504960 Apr 30 16:48 logs_episode.426_iter.2.pik\r\n",
      "-rw-rw-r-- 1 xavierpuig vision-torralba 14888792 Apr 30 16:46 logs_episode.326_iter.2.pik\r\n",
      "-rw-rw-r-- 1 xavierpuig vision-torralba 10909003 Apr 30 16:46 logs_episode.298_iter.2.pik\r\n",
      "-rw-rw-r-- 1 xavierpuig vision-torralba  9197309 Apr 30 16:45 logs_episode.311_iter.2.pik\r\n",
      "-rw-rw-r-- 1 xavierpuig vision-torralba 13468306 Apr 30 16:44 logs_episode.535_iter.2.pik\r\n",
      "-rw-rw-r-- 1 xavierpuig vision-torralba 15233113 Apr 30 16:44 logs_episode.569_iter.2.pik\r\n",
      "-rw-rw-r-- 1 xavierpuig vision-torralba 21451334 Apr 30 16:43 logs_episode.563_iter.2.pik\r\n",
      "-rw-rw-r-- 1 xavierpuig vision-torralba  9896338 Apr 30 16:41 logs_episode.82_iter.2.pik\r\n",
      "-rw-rw-r-- 1 xavierpuig vision-torralba 12598821 Apr 30 16:40 logs_episode.551_iter.2.pik\r\n",
      "-rw-rw-r-- 1 xavierpuig vision-torralba  7227925 Apr 30 16:39 logs_episode.612_iter.1.pik\r\n",
      "-rw-rw-r-- 1 xavierpuig vision-torralba 14203685 Apr 30 16:38 logs_episode.616_iter.1.pik\r\n",
      "-rw-rw-r-- 1 xavierpuig vision-torralba  7232768 Apr 30 16:37 logs_episode.186_iter.1.pik\r\n",
      "-rw-rw-r-- 1 xavierpuig vision-torralba 15457105 Apr 30 16:37 logs_episode.152_iter.1.pik\r\n",
      "-rw-rw-r-- 1 xavierpuig vision-torralba  8283619 Apr 30 16:35 logs_episode.179_iter.1.pik\r\n",
      "-rw-rw-r-- 1 xavierpuig vision-torralba  7114101 Apr 30 16:34 logs_episode.202_iter.1.pik\r\n",
      "-rw-rw-r-- 1 xavierpuig vision-torralba  9998272 Apr 30 16:33 logs_episode.446_iter.1.pik\r\n",
      "-rw-rw-r-- 1 xavierpuig vision-torralba  7784832 Apr 30 16:32 logs_episode.427_iter.1.pik\r\n",
      "-rw-rw-r-- 1 xavierpuig vision-torralba 30356029 Apr 30 16:32 logs_episode.391_iter.1.pik\r\n",
      "-rw-rw-r-- 1 xavierpuig vision-torralba 15374134 Apr 30 16:29 logs_episode.326_iter.1.pik\r\n",
      "-rw-rw-r-- 1 xavierpuig vision-torralba 10907334 Apr 30 16:29 logs_episode.298_iter.1.pik\r\n",
      "-rw-rw-r-- 1 xavierpuig vision-torralba 12953175 Apr 30 16:27 logs_episode.535_iter.1.pik\r\n",
      "-rw-rw-r-- 1 xavierpuig vision-torralba 16488113 Apr 30 16:26 logs_episode.569_iter.1.pik\r\n",
      "-rw-rw-r-- 1 xavierpuig vision-torralba 17940032 Apr 30 16:25 logs_episode.563_iter.1.pik\r\n",
      "-rw-rw-r-- 1 xavierpuig vision-torralba 13391801 Apr 30 16:24 logs_episode.82_iter.1.pik\r\n",
      "-rw-rw-r-- 1 xavierpuig vision-torralba  9552064 Apr 30 16:21 logs_episode.612_iter.0.pik\r\n",
      "-rw-rw-r-- 1 xavierpuig vision-torralba 13951640 Apr 30 16:21 logs_episode.616_iter.0.pik\r\n",
      "-rw-rw-r-- 1 xavierpuig vision-torralba  3874110 Apr 30 16:20 logs_episode.186_iter.0.pik\r\n",
      "-rw-rw-r-- 1 xavierpuig vision-torralba 12638255 Apr 30 16:19 logs_episode.152_iter.0.pik\r\n",
      "-rw-rw-r-- 1 xavierpuig vision-torralba  7530903 Apr 30 16:18 logs_episode.179_iter.0.pik\r\n",
      "-rw-rw-r-- 1 xavierpuig vision-torralba  7368678 Apr 30 16:17 logs_episode.202_iter.0.pik\r\n",
      "-rw-rw-r-- 1 xavierpuig vision-torralba 10511873 Apr 30 16:11 logs_episode.446_iter.0.pik\r\n",
      "-rw-rw-r-- 1 xavierpuig vision-torralba  7785666 Apr 30 16:10 logs_episode.427_iter.0.pik\r\n",
      "-rw-rw-r-- 1 xavierpuig vision-torralba  6662432 Apr 30 16:09 logs_episode.391_iter.0.pik\r\n",
      "-rw-rw-r-- 1 xavierpuig vision-torralba 15618313 Apr 30 16:08 logs_episode.326_iter.0.pik\r\n",
      "-rw-rw-r-- 1 xavierpuig vision-torralba 10666411 Apr 30 16:07 logs_episode.298_iter.0.pik\r\n",
      "-rw-rw-r-- 1 xavierpuig vision-torralba 12960792 Apr 30 16:06 logs_episode.535_iter.0.pik\r\n",
      "-rw-rw-r-- 1 xavierpuig vision-torralba 16736986 Apr 30 16:05 logs_episode.569_iter.0.pik\r\n",
      "-rw-rw-r-- 1 xavierpuig vision-torralba 17942324 Apr 30 16:04 logs_episode.563_iter.0.pik\r\n",
      "-rw-rw-r-- 1 xavierpuig vision-torralba 10438736 Apr 30 16:03 logs_episode.82_iter.0.pik\r\n"
     ]
    }
   ],
   "source": [
    "! ls -lt /data/vision/torralba/frames/data_acquisition/SyntheticStories/online_wah/agent_preferences/outputs/helping_gt_goal/test_env_task_set_60_full_task.all/"
   ]
  },
  {
   "cell_type": "code",
   "execution_count": 56,
   "id": "e504e0e8",
   "metadata": {},
   "outputs": [],
   "source": [
    "with open(path_dict[(426, 1)], 'rb') as f:\n",
    "    cont = pkl.load(f)\n",
    "    "
   ]
  },
  {
   "cell_type": "code",
   "execution_count": 69,
   "id": "e98e3ca1",
   "metadata": {},
   "outputs": [
    {
     "data": {
      "text/plain": [
       "'/data/vision/torralba/frames/data_acquisition/SyntheticStories/agent_preferences/tshu/agent_preferences//outputs/helping_gt_goal/test_env_task_set_60_full_task.all/logs_episode.426_iter.1.pik'"
      ]
     },
     "execution_count": 69,
     "metadata": {},
     "output_type": "execute_result"
    }
   ],
   "source": [
    "path_dict[(426, 1)]"
   ]
  },
  {
   "cell_type": "code",
   "execution_count": 67,
   "id": "5e1c7ad1",
   "metadata": {},
   "outputs": [
    {
     "name": "stdout",
     "output_type": "stream",
     "text": [
      "0 : Action0: [walktowards] <kitchen> (11)             Action1: [grab] <salmon> (372)\n",
      "1 : Action0: [walktowards] <kitchen> (11)             Action1: [walktowards] <fridge> (103)\n",
      "2 : Action0: [walktowards] <kitchen> (11)             Action1: [walktowards] <fridge> (103)\n",
      "3 : Action0: [walktowards] <kitchen> (11)             Action1: [open] <fridge> (103)\n",
      "4 : Action0: [walktowards] <kitchen> (11)             Action1: [putin] <salmon> (372) <fridge> (103)\n",
      "5 : Action0: [walktowards] <kitchen> (11)             Action1: [walktowards] <salmon> (369)\n",
      "6 : Action0: [walktowards] <kitchen> (11)             Action1: [grab] <salmon> (369)\n",
      "7 : Action0: [walktowards] <kitchen> (11)             Action1: [grab] <salmon> (371)\n",
      "8 : Action0: [walktowards] <kitchen> (11)             Action1: [walktowards] <fridge> (103)\n",
      "9 : Action0: [walktowards] <kitchen> (11)             Action1: [walktowards] <fridge> (103)\n",
      "10: Action0: [walktowards] <kitchen> (11)             Action1: [walktowards] <fridge> (103)\n",
      "11: Action0: [walktowards] <salmon> (369)             Action1: [putin] <salmon> (369) <fridge> (103)\n",
      "12: Action0: [walktowards] <salmon> (369)             Action1: [putin] <salmon> (369) <fridge> (103)\n",
      "13: Action0: [walktowards] <salmon> (369)             Action1: [putin] <salmon> (371) <fridge> (103)\n",
      "14: Action0: [walktowards] <salmon> (369)             Action1: [walktowards] <salmon> (370)\n",
      "15: Action0: [walktowards] <salmon> (369)             Action1: [grab] <salmon> (370)\n",
      "16: Action0: [walktowards] <salmon> (369)             Action1: [walktowards] <fridge> (103)\n",
      "17: Action0: [grab] <salmon> (369)                    Action1: [putin] <salmon> (370) <fridge> (103)\n",
      "18: Action0: [walktowards] <fridge> (103)             Action1: [walktowards] <microwave> (109)\n",
      "19: Action0: [putin] <salmon> (369) <fridge> (103)    Action1: [walktowards] <microwave> (109)\n",
      "20: Action0: [walktowards] <microwave> (109)          Action1: [walktowards] <microwave> (109)\n",
      "21: Action0: [walktowards] <microwave> (109)          Action1: [open] <microwave> (109)\n",
      "22: Action0: [walktowards] <salmon> (368)             Action1: [grab] <salmon> (368)\n",
      "23: Action0: [walktowards] <salmon> (368)             Action1: [walktowards] <fridge> (103)\n",
      "24: Action0: [grab] <salmon> (368)                    Action1: [walktowards] <fridge> (103)\n",
      "25: Action0: [walktowards] <fridge> (103)             Action1: [walktowards] <fridge> (103)\n",
      "26: Action0: [walktowards] <fridge> (103)             Action1: [walktowards] <salmon> (369)\n",
      "27: Action0: [walktowards] <fridge> (103)             Action1: [grab] <salmon> (369)\n",
      "28: Action0: [putin] <salmon> (368) <fridge> (103)    Action1: [walktowards] <fridge> (103)\n",
      "29: Action0: [grab] <salmon> (369)                    Action1: [walktowards] <fridge> (103)\n",
      "30: Action0: [putin] <salmon> (369) <fridge> (103)    Action1: [putin] <salmon> (369) <fridge> (103)\n",
      "31: Action0: [walktowards] <salmon> (369)             Action1: [grab] <salmon> (369)\n",
      "32: Action0: [walktowards] <salmon> (369)             Action1: [putin] <salmon> (369) <fridge> (103)\n",
      "33: Action0: [walktowards] <salmon> (369)             Action1: [grab] <salmon> (369)\n",
      "34: Action0: [walktowards] <salmon> (369)             Action1: [putin] <salmon> (369) <fridge> (103)\n",
      "35: Action0: [walktowards] <salmon> (369)             Action1: [grab] <salmon> (369)\n",
      "36: Action0: [grab] <salmon> (369)                    Action1: [putin] <salmon> (369) <fridge> (103)\n",
      "37: Action0: [putin] <salmon> (369) <fridge> (103)    Action1: None\n",
      "38: Action0: [grab] <salmon> (369)                    Action1: [walktowards] <salmon> (369)\n",
      "39: Action0: [putin] <salmon> (369) <fridge> (103)    Action1: [walktowards] <salmon> (369)\n",
      "40: Action0: [putin] <salmon> (369) <fridge> (103)    Action1: [grab] <salmon> (369)\n"
     ]
    },
    {
     "ename": "TypeError",
     "evalue": "unsupported format string passed to NoneType.__format__",
     "output_type": "error",
     "traceback": [
      "\u001b[0;31m---------------------------------------------------------------------------\u001b[0m",
      "\u001b[0;31mTypeError\u001b[0m                                 Traceback (most recent call last)",
      "\u001b[0;32m/tmp/ipykernel_11927/1258661111.py\u001b[0m in \u001b[0;36m<module>\u001b[0;34m\u001b[0m\n\u001b[1;32m      2\u001b[0m \u001b[0;32mfor\u001b[0m \u001b[0mact\u001b[0m \u001b[0;32min\u001b[0m \u001b[0mcont\u001b[0m\u001b[0;34m[\u001b[0m\u001b[0;34m'action'\u001b[0m\u001b[0;34m]\u001b[0m\u001b[0;34m[\u001b[0m\u001b[0;36m0\u001b[0m\u001b[0;34m]\u001b[0m\u001b[0;34m:\u001b[0m\u001b[0;34m\u001b[0m\u001b[0;34m\u001b[0m\u001b[0m\n\u001b[1;32m      3\u001b[0m     \u001b[0mact2\u001b[0m \u001b[0;34m=\u001b[0m \u001b[0mcont\u001b[0m\u001b[0;34m[\u001b[0m\u001b[0;34m'action'\u001b[0m\u001b[0;34m]\u001b[0m\u001b[0;34m[\u001b[0m\u001b[0;36m1\u001b[0m\u001b[0;34m]\u001b[0m\u001b[0;34m[\u001b[0m\u001b[0mind\u001b[0m\u001b[0;34m]\u001b[0m\u001b[0;34m\u001b[0m\u001b[0;34m\u001b[0m\u001b[0m\n\u001b[0;32m----> 4\u001b[0;31m     \u001b[0mprint\u001b[0m\u001b[0;34m(\u001b[0m\u001b[0;34m'{: <2}: Action0: {: <40} Action1: {}'\u001b[0m\u001b[0;34m.\u001b[0m\u001b[0mformat\u001b[0m\u001b[0;34m(\u001b[0m\u001b[0mind\u001b[0m\u001b[0;34m,\u001b[0m \u001b[0mact\u001b[0m\u001b[0;34m,\u001b[0m \u001b[0mact2\u001b[0m\u001b[0;34m)\u001b[0m\u001b[0;34m)\u001b[0m\u001b[0;34m\u001b[0m\u001b[0;34m\u001b[0m\u001b[0m\n\u001b[0m\u001b[1;32m      5\u001b[0m     \u001b[0mind\u001b[0m \u001b[0;34m+=\u001b[0m \u001b[0;36m1\u001b[0m\u001b[0;34m\u001b[0m\u001b[0;34m\u001b[0m\u001b[0m\n",
      "\u001b[0;31mTypeError\u001b[0m: unsupported format string passed to NoneType.__format__"
     ]
    }
   ],
   "source": [
    "ind = 0\n",
    "for act in cont['action'][0]:\n",
    "    act2 = cont['action'][1][ind]\n",
    "    print('{: <2}: Action0: {: <40} Action1: {}'.format(ind, act, act2))\n",
    "    ind += 1"
   ]
  },
  {
   "cell_type": "code",
   "execution_count": 98,
   "id": "06c71dc9",
   "metadata": {},
   "outputs": [],
   "source": [
    "with open('/data/vision/torralba/frames/data_acquisition/SyntheticStories/online_wah/agent_preferences/'\n",
    "   'outputs/helping_gt_goal/test_env_task_set_60_full_task.all/'\n",
    "   'logs_episode.426_iter.0_debug.pik', 'rb') as f:\n",
    "    cont = pkl.load(f)\n"
   ]
  },
  {
   "cell_type": "code",
   "execution_count": 3,
   "id": "35f0cb1c",
   "metadata": {},
   "outputs": [
    {
     "name": "stdout",
     "output_type": "stream",
     "text": [
      "ls: cannot access '/data/vision/torralba/frames/data_acquisition/SyntheticStories/online_wah/agent_preferences/outputs/helping_gt_goal/test_env_task_set_60_full_task.all/logs_episode.426.1.pik': No such file or directory\r\n"
     ]
    }
   ],
   "source": [
    "ls -lt /data/vision/torralba/frames/data_acquisition/SyntheticStories/online_wah/agent_preferences/outputs/helping_gt_goal/test_env_task_set_60_full_task.all/logs_episode.426.1.pik"
   ]
  },
  {
   "cell_type": "code",
   "execution_count": 103,
   "id": "09d6876f",
   "metadata": {},
   "outputs": [
    {
     "data": {
      "text/plain": [
       "{'inside_salmon_103': {'count': 5,\n",
       "  'grab_obj_ids': [368, 369, 370, 371, 372],\n",
       "  'container_ids': [103]}}"
      ]
     },
     "execution_count": 103,
     "metadata": {},
     "output_type": "execute_result"
    }
   ],
   "source": [
    "cont['gt_goals']"
   ]
  },
  {
   "cell_type": "code",
   "execution_count": 100,
   "id": "8dc60eba",
   "metadata": {},
   "outputs": [
    {
     "name": "stdout",
     "output_type": "stream",
     "text": [
      "0 : Action0: [walktowards] <kitchen> (11)             Action1: [walktowards] <salmon> (370)\n",
      "1 : Action0: [walktowards] <kitchen> (11)             Action1: [walktowards] <salmon> (370)\n",
      "2 : Action0: [walktowards] <kitchen> (11)             Action1: [grab] <salmon> (370)\n",
      "3 : Action0: [walktowards] <kitchen> (11)             Action1: [walktowards] <fridge> (103)\n",
      "4 : Action0: [walktowards] <kitchen> (11)             Action1: [walktowards] <fridge> (103)\n",
      "5 : Action0: [walktowards] <kitchen> (11)             Action1: [walktowards] <fridge> (103)\n",
      "6 : Action0: [walktowards] <kitchen> (11)             Action1: [open] <fridge> (103)\n",
      "7 : Action0: [walktowards] <kitchen> (11)             Action1: [putin] <salmon> (370) <fridge> (103)\n",
      "8 : Action0: [walktowards] <salmon> (369)             Action1: [walktowards] <salmon> (369)\n",
      "9 : Action0: [walktowards] <salmon> (369)             Action1: [grab] <salmon> (369)\n",
      "10: Action0: [walktowards] <salmon> (369)             Action1: [grab] <salmon> (372)\n",
      "11: Action0: [grab] <salmon> (369)                    Action1: [walktowards] <fridge> (103)\n",
      "12: Action0: [walktowards] <fridge> (103)             Action1: [walktowards] <fridge> (103)\n",
      "13: Action0: [walktowards] <fridge> (103)             Action1: [walktowards] <fridge> (103)\n",
      "14: Action0: [walktowards] <fridge> (103)             Action1: [walktowards] <salmon> (371)\n",
      "15: Action0: [putin] <salmon> (369) <fridge> (103)    Action1: [walktowards] <salmon> (371)\n",
      "16: Action0: [walktowards] <microwave> (109)          Action1: [grab] <salmon> (371)\n",
      "17: Action0: [walktowards] <microwave> (109)          Action1: [walktowards] <fridge> (103)\n",
      "18: Action0: [walktowards] <microwave> (109)          Action1: [putin] <salmon> (371) <fridge> (103)\n",
      "19: Action0: [walktowards] <microwave> (109)          Action1: [putin] <salmon> (372) <fridge> (103)\n",
      "20: Action0: [open] <microwave> (109)                 Action1: [walktowards] <microwave> (109)\n",
      "21: Action0: [grab] <salmon> (368)                    Action1: [walktowards] <salmon> (371)\n",
      "22: Action0: [walktowards] <fridge> (103)             Action1: [grab] <salmon> (371)\n",
      "23: Action0: [walktowards] <fridge> (103)             Action1: [walktowards] <salmon> (368)\n",
      "24: Action0: [walktowards] <fridge> (103)             Action1: [walktowards] <salmon> (368)\n",
      "25: Action0: [putin] <salmon> (368) <fridge> (103)    Action1: [walktowards] <salmon> (368)\n",
      "26: Action0: [walktowards] <salmon> (371)             Action1: [walktowards] <salmon> (368)\n",
      "27: Action0: [grab] <salmon> (371)                    Action1: [walktowards] <salmon> (368)\n",
      "28: Action0: [walktowards] <fridge> (103)             Action1: [walktowards] <salmon> (368)\n",
      "29: Action0: [walktowards] <fridge> (103)             Action1: [grab] <salmon> (368)\n",
      "30: Action0: [walktowards] <fridge> (103)             Action1: [putin] <salmon> (371) <fridge> (103)\n",
      "31: Action0: [grab] <salmon> (369)                    Action1: [putin] <salmon> (368) <fridge> (103)\n",
      "32: Action0: [putin] <salmon> (369) <fridge> (103)    Action1: [grab] <salmon> (369)\n",
      "33: Action0: [grab] <salmon> (371)                    Action1: [grab] <salmon> (371)\n",
      "34: Action0: [grab] <salmon> (369)                    Action1: [putin] <salmon> (371) <fridge> (103)\n",
      "35: Action0: [putin] <salmon> (369) <fridge> (103)    Action1: None\n",
      "36: Action0: [grab] <salmon> (371)                    Action1: [grab] <salmon> (371)\n",
      "37: Action0: [putin] <salmon> (371) <fridge> (103)    Action1: [putin] <salmon> (371) <fridge> (103)\n",
      "38: Action0: [grab] <salmon> (371)                    Action1: [grab] <salmon> (371)\n",
      "39: Action0: [grab] <salmon> (369)                    Action1: [putin] <salmon> (371) <fridge> (103)\n",
      "40: Action0: [putin] <salmon> (369) <fridge> (103)    Action1: None\n",
      "41: Action0: [grab] <salmon> (371)                    Action1: [grab] <salmon> (371)\n",
      "42: Action0: [grab] <salmon> (369)                    Action1: [putin] <salmon> (371) <fridge> (103)\n",
      "43: Action0: [putin] <salmon> (369) <fridge> (103)    Action1: None\n",
      "44: Action0: [grab] <salmon> (371)                    Action1: [grab] <salmon> (371)\n",
      "45: Action0: [putin] <salmon> (371) <fridge> (103)    Action1: [putin] <salmon> (371) <fridge> (103)\n",
      "46: Action0: [grab] <salmon> (371)                    Action1: [grab] <salmon> (371)\n",
      "47: Action0: [grab] <salmon> (369)                    Action1: [putin] <salmon> (371) <fridge> (103)\n",
      "48: Action0: [putin] <salmon> (369) <fridge> (103)    Action1: None\n",
      "49: Action0: [grab] <salmon> (371)                    Action1: [grab] <salmon> (371)\n",
      "50: Action0: [putin] <salmon> (371) <fridge> (103)    Action1: [putin] <salmon> (371) <fridge> (103)\n",
      "51: Action0: [grab] <salmon> (371)                    Action1: [grab] <salmon> (371)\n",
      "52: Action0: [putin] <salmon> (371) <fridge> (103)    Action1: [putin] <salmon> (371) <fridge> (103)\n",
      "53: Action0: [grab] <salmon> (371)                    Action1: [grab] <salmon> (371)\n",
      "54: Action0: [putin] <salmon> (371) <fridge> (103)    Action1: [putin] <salmon> (371) <fridge> (103)\n",
      "55: Action0: [grab] <salmon> (371)                    Action1: [grab] <salmon> (371)\n",
      "56: Action0: [putin] <salmon> (371) <fridge> (103)    Action1: [putin] <salmon> (371) <fridge> (103)\n"
     ]
    }
   ],
   "source": [
    "ind = 0\n",
    "for act in cont['action'][0]:\n",
    "    act2 = cont['action'][1][ind]\n",
    "    print('{: <2}: Action0: {: <40} Action1: {}'.format(ind, act, act2))\n",
    "    ind += 1"
   ]
  },
  {
   "cell_type": "markdown",
   "id": "2eabfa5d",
   "metadata": {},
   "source": [
    "### Compare GT vs Inference"
   ]
  },
  {
   "cell_type": "code",
   "execution_count": 7,
   "id": "701e4398",
   "metadata": {},
   "outputs": [
    {
     "name": "stdout",
     "output_type": "stream",
     "text": [
      "../../../../agent_preferences/tshu/agent_preferences//outputs/helping_states_1_3_ip1_detfull_encoder_task_graph_20_1.0_1.0_5.0\n"
     ]
    }
   ],
   "source": [
    "path_tianmin = '../../../../agent_preferences/tshu/agent_preferences/'\n",
    "path_file = paths_dict['DET']\n",
    "print('{}/{}'.format(path_tianmin, path_file))"
   ]
  },
  {
   "cell_type": "code",
   "execution_count": 8,
   "id": "2154be6a",
   "metadata": {},
   "outputs": [],
   "source": [
    "def build_path(goal='GT', tianmin=False):\n",
    "    if tianmin:\n",
    "        init_path = '/data/vision/torralba/frames/data_acquisition/SyntheticStories/agent_preferences/tshu/agent_preferences/'\n",
    "    else:\n",
    "        init_path = '/data/vision/torralba/frames/data_acquisition/SyntheticStories/online_wah/agent_preferences/'\n",
    "    path = '{}/{}/test_env_task_set_60_full_task.all'.format(init_path, paths_dict[goal])\n",
    "    print(path)\n",
    "    paths = glob.glob('{}/logs*'.format(path))\n",
    "    \n",
    "    cont_dict = {}\n",
    "    ind = 2\n",
    "    path_res = '{}/results_{}.pik'.format(path, ind)\n",
    "    with open(path_res, 'rb') as f:\n",
    "        cont = pkl.load(f)\n",
    "    path_dict = {}\n",
    "    for path in paths:\n",
    "        path_index = path.split('.')[-3].split('_')[0]\n",
    "        seed_index = path.split('.')[-2]\n",
    "        path_dict[(int(path_index), int(seed_index))] = path\n",
    "    return path_dict, cont"
   ]
  },
  {
   "cell_type": "code",
   "execution_count": 9,
   "id": "19557004",
   "metadata": {},
   "outputs": [
    {
     "name": "stdout",
     "output_type": "stream",
     "text": [
      "/data/vision/torralba/frames/data_acquisition/SyntheticStories/agent_preferences/tshu/agent_preferences//outputs/helping_states_1_3_ip1_detfull_encoder_task_graph_20_1.0_1.0_5.0/test_env_task_set_60_full_task.all\n",
      "/data/vision/torralba/frames/data_acquisition/SyntheticStories/online_wah/agent_preferences//outputs/helping_gt_goal/test_env_task_set_60_full_task.all\n"
     ]
    }
   ],
   "source": [
    "tianmin = build_path(goal='DET', tianmin=True)\n",
    "gt = build_path(goal='GT')"
   ]
  },
  {
   "cell_type": "code",
   "execution_count": 10,
   "id": "a8cf3d3f",
   "metadata": {},
   "outputs": [
    {
     "name": "stdout",
     "output_type": "stream",
     "text": [
      "3 [39, 33, 33] [42, 34, 44]\n",
      "139 [53, 54, 50] [68, 27, 51]\n",
      "162 [159, 152, 155] [103, 97, 100]\n",
      "180 [250, 250, 250] [86, 250, 84]\n",
      "193 [56, 55, 56] [79, 73, 61]\n",
      "225 [19, 22, 19] [21, 24, 22]\n",
      "290 [89, 89, 87] [50, 52, 56]\n",
      "304 [67, 66, 68] [58, 59, 64]\n",
      "323 [34, 37, 35] [20, 21, 21]\n",
      "366 [29, 26, 250] [38, 44, 45]\n",
      "401 [22, 23, 23] [84, 84, 76]\n",
      "419 [19, 20, 22] [27, 28, 26]\n",
      "428 [39, 39, 44] [69, 61, 66]\n",
      "466 [250, 250, 250] [17, 19, 19]\n",
      "523 [39, 35, 36] [58, 83, 48]\n",
      "556 [250, 63, 44] [81, 55, 80]\n",
      "573 [38, 41, 37] [44, 41, 42]\n",
      "591 [57, 250, 26] [62, 31, 50]\n",
      "606 [40, 42, 97] [44, 250, 47]\n",
      "621 [23, 17, 17] [24, 28, 18]\n"
     ]
    }
   ],
   "source": [
    "for index in tianmin[1].keys():\n",
    "    print(index, tianmin[1][index]['L'], gt[1][index]['L'])"
   ]
  },
  {
   "cell_type": "code",
   "execution_count": 11,
   "id": "3ddc5f2b",
   "metadata": {},
   "outputs": [],
   "source": [
    "with open(tianmin[0][180,0], 'rb') as f:\n",
    "    cont = pkl.load(f)"
   ]
  },
  {
   "cell_type": "code",
   "execution_count": 30,
   "id": "3ab5edf1",
   "metadata": {},
   "outputs": [],
   "source": [
    "def print_action(cont, action):\n",
    "    print(', '.join(['{}: {}'.format(key, elem['count']) for key, elem in cont['gt_goals'].items()]))\n",
    "    length = max(len(action[0]), len(action[1]))\n",
    "    print(len(action[0]), len(action[1]))\n",
    "    for i in range(length):\n",
    "        if i >= len(action[0]): a1 = None\n",
    "        else: a1 = action[0][i]\n",
    "        if i >= len(action[1]): a2 = None\n",
    "        else: a2 = action[1][i]\n",
    "        if a1 is None: a1 = ''\n",
    "        if a2 is None: a2 = ''\n",
    "        print('{: <3}: {: <50} | {: <50}'.format(i, a1, a2))"
   ]
  },
  {
   "cell_type": "code",
   "execution_count": 31,
   "id": "7393a58c",
   "metadata": {},
   "outputs": [
    {
     "name": "stdout",
     "output_type": "stream",
     "text": [
      "on_waterglass_130: 2, on_plate_130: 2, on_cutleryfork_130: 2\n",
      "53 51\n",
      "0  : [walktowards] <livingroom> (198)                   |                                                   \n",
      "1  : [walktowards] <livingroom> (198)                   |                                                   \n",
      "2  : [walktowards] <livingroom> (198)                   |                                                   \n",
      "3  : [walktowards] <livingroom> (198)                   |                                                   \n",
      "4  : [walktowards] <livingroom> (198)                   |                                                   \n",
      "5  : [walktowards] <livingroom> (198)                   |                                                   \n",
      "6  : [walktowards] <plate> (401)                        |                                                   \n",
      "7  : [walktowards] <plate> (401)                        |                                                   \n",
      "8  : [walktowards] <plate> (401)                        |                                                   \n",
      "9  : [walktowards] <plate> (401)                        |                                                   \n",
      "10 : [walktowards] <plate> (401)                        |                                                   \n",
      "11 : [grab] <plate> (401)                               |                                                   \n",
      "12 : [walktowards] <bedroom> (294)                      |                                                   \n",
      "13 : [walktowards] <bedroom> (294)                      |                                                   \n",
      "14 : [walktowards] <bedroom> (294)                      |                                                   \n",
      "15 : [walktowards] <bedroom> (294)                      |                                                   \n",
      "16 : [walktowards] <bedroom> (294)                      |                                                   \n",
      "17 : [walktowards] <bedroom> (294)                      |                                                   \n",
      "18 : [walktowards] <bedroom> (294)                      |                                                   \n",
      "19 : [walktowards] <bedroom> (294)                      |                                                   \n",
      "20 : [walktowards] <bedroom> (294)                      |                                                   \n",
      "21 : [walktowards] <bedroom> (294)                      |                                                   \n",
      "22 : [walktowards] <bedroom> (294)                      |                                                   \n",
      "23 : [walktowards] <bedroom> (294)                      |                                                   \n",
      "24 : [walktowards] <bedroom> (294)                      |                                                   \n",
      "25 : [walktowards] <bedroom> (294)                      |                                                   \n",
      "26 : [open] <cabinet> (328)                             |                                                   \n",
      "27 : [grab] <waterglass> (404)                          |                                                   \n",
      "28 : [walktowards] <kitchen> (56)                       |                                                   \n",
      "29 : [walktowards] <kitchentable> (130)                 |                                                   \n",
      "30 : [walktowards] <kitchentable> (130)                 |                                                   \n",
      "31 : [walktowards] <kitchentable> (130)                 |                                                   \n",
      "32 : [putback] <plate> (401) <kitchentable> (130)       | [walk] <waterglass> (399)                         \n",
      "33 : [walktowards] <kitchencabinet> (139)               | [grab] <waterglass> (399)                         \n",
      "34 : [walktowards] <kitchencabinet> (139)               | [walk] <kitchen> (56)                             \n",
      "35 : [walktowards] <kitchencabinet> (139)               | [putback] <waterglass> (399) <kitchentable> (130) \n",
      "36 : [open] <kitchencabinet> (139)                      | [walk] <dishwasher> (159)                         \n",
      "37 : [grab] <waterglass> (381)                          | [open] <dishwasher> (159)                         \n",
      "38 : [walktowards] <kitchentable> (130)                 | [grab] <cutleryfork> (384)                        \n",
      "39 : [putback] <waterglass> (404) <kitchentable> (130)  | [walk] <kitchentable> (130)                       \n",
      "40 : [walktowards] <cutleryfork> (385)                  | [putback] <cutleryfork> (384) <kitchentable> (130)\n",
      "41 : [walktowards] <cutleryfork> (385)                  | [walk] <cutleryfork> (386)                        \n",
      "42 : [walktowards] <cutleryfork> (385)                  | [grab] <waterglass> (380)                         \n",
      "43 : [grab] <cutleryfork> (385)                         | [walk] <kitchentable> (130)                       \n",
      "44 : [walktowards] <kitchentable> (130)                 | [putback] <waterglass> (380) <kitchentable> (130) \n",
      "45 : [putback] <cutleryfork> (385) <kitchentable> (130) | [walk] <cutleryfork> (386)                        \n",
      "46 : [walktowards] <fridge> (166)                       | [grab] <cutleryfork> (386)                        \n",
      "47 : [walktowards] <fridge> (166)                       | [walk] <kitchentable> (130)                       \n",
      "48 : [walktowards] <fridge> (166)                       | [putback] <cutleryfork> (386) <kitchentable> (130)\n",
      "49 : [open] <fridge> (166)                              | [walk] <plate> (382)                              \n",
      "50 : [grab] <plate> (383)                               | [grab] <plate> (382)                              \n",
      "51 : [walktowards] <kitchentable> (130)                 |                                                   \n",
      "52 : [putback] <plate> (383) <kitchentable> (130)       |                                                   \n"
     ]
    }
   ],
   "source": [
    "with open(tianmin[0][139,0], 'rb') as f:\n",
    "    cont = pkl.load(f)\n",
    "    print_action(cont, cont['action'])"
   ]
  },
  {
   "cell_type": "code",
   "execution_count": 37,
   "id": "718f4719",
   "metadata": {},
   "outputs": [
    {
     "name": "stdout",
     "output_type": "stream",
     "text": [
      "on_waterglass_130: 2, on_plate_130: 2, on_cutleryfork_130: 2\n",
      "46 46\n",
      "0  : [walktowards] <dishwasher> (159)                   | [walktowards] <kitchen> (56)                      \n",
      "1  : [walktowards] <dishwasher> (159)                   | [walktowards] <kitchen> (56)                      \n",
      "2  : [walktowards] <dishwasher> (159)                   | [walktowards] <kitchen> (56)                      \n",
      "3  : [walktowards] <dishwasher> (159)                   | [walktowards] <kitchen> (56)                      \n",
      "4  : [walktowards] <dishwasher> (159)                   | [walktowards] <kitchen> (56)                      \n",
      "5  : [walktowards] <dishwasher> (159)                   | [walktowards] <kitchen> (56)                      \n",
      "6  : [walktowards] <dishwasher> (159)                   | [walktowards] <dishwasher> (159)                  \n",
      "7  : [open] <dishwasher> (159)                          | [walktowards] <dishwasher> (159)                  \n",
      "8  : [walktowards] <kitchencabinet> (137)               | [walktowards] <plate> (382)                       \n",
      "9  : [walktowards] <kitchencabinet> (137)               | [walktowards] <plate> (382)                       \n",
      "10 : [walktowards] <kitchencabinet> (137)               | [walktowards] <plate> (382)                       \n",
      "11 : [walktowards] <kitchencabinet> (137)               | [walktowards] <plate> (382)                       \n",
      "12 : [walktowards] <kitchencabinet> (137)               | [grab] <plate> (382)                              \n",
      "13 : [open] <kitchencabinet> (137)                      | [grab] <waterglass> (380)                         \n",
      "14 : [grab] <cutleryfork> (387)                         | [walktowards] <kitchentable> (130)                \n",
      "15 : [open] <kitchencabinet> (139)                      | [walktowards] <kitchentable> (130)                \n",
      "16 : [grab] <cutleryfork> (385)                         | [putback] <waterglass> (380) <kitchentable> (130) \n",
      "17 : [walktowards] <kitchentable> (130)                 | [walktowards] <cutleryfork> (384)                 \n",
      "18 : [putback] <cutleryfork> (385) <kitchentable> (130) | [walktowards] <cutleryfork> (384)                 \n",
      "19 : [walktowards] <livingroom> (198)                   | [walktowards] <cutleryfork> (384)                 \n",
      "20 : [walktowards] <livingroom> (198)                   | [walktowards] <cutleryfork> (384)                 \n",
      "21 : [walktowards] <livingroom> (198)                   | [walktowards] <cutleryfork> (384)                 \n",
      "22 : [walktowards] <livingroom> (198)                   | [walktowards] <cutleryfork> (384)                 \n",
      "23 : [walktowards] <waterglass> (400)                   | [grab] <cutleryfork> (384)                        \n",
      "24 : [walktowards] <waterglass> (400)                   | [walktowards] <kitchentable> (130)                \n",
      "25 : [walktowards] <waterglass> (400)                   | [walktowards] <kitchentable> (130)                \n",
      "26 : [walktowards] <waterglass> (400)                   | [walktowards] <kitchentable> (130)                \n",
      "27 : [walktowards] <waterglass> (400)                   | [putback] <plate> (382) <kitchentable> (130)      \n",
      "28 : [grab] <waterglass> (400)                          | [walktowards] <livingroom> (198)                  \n",
      "29 : [walktowards] <kitchen> (56)                       | [walktowards] <livingroom> (198)                  \n",
      "30 : [walktowards] <kitchen> (56)                       | [walktowards] <livingroom> (198)                  \n",
      "31 : [walktowards] <kitchen> (56)                       | [walktowards] <livingroom> (198)                  \n",
      "32 : [walktowards] <kitchen> (56)                       | [walktowards] <waterglass> (399)                  \n",
      "33 : [walktowards] <kitchen> (56)                       | [walktowards] <waterglass> (399)                  \n",
      "34 : [walktowards] <kitchen> (56)                       | [walktowards] <waterglass> (399)                  \n",
      "35 : [walktowards] <kitchentable> (130)                 | [walktowards] <waterglass> (399)                  \n",
      "36 : [walktowards] <kitchentable> (130)                 | [walktowards] <waterglass> (399)                  \n",
      "37 : [putback] <waterglass> (400) <kitchentable> (130)  | [grab] <waterglass> (399)                         \n",
      "38 : [putback] <cutleryfork> (387) <kitchentable> (130) | [walktowards] <kitchen> (56)                      \n",
      "39 : [walktowards] <fridge> (166)                       | [walktowards] <kitchen> (56)                      \n",
      "40 : [walktowards] <fridge> (166)                       | [walktowards] <kitchen> (56)                      \n",
      "41 : [walktowards] <fridge> (166)                       | [walktowards] <kitchen> (56)                      \n",
      "42 : [open] <fridge> (166)                              | [walktowards] <kitchen> (56)                      \n",
      "43 : [grab] <plate> (383)                               | [walktowards] <kitchen> (56)                      \n",
      "44 : [walktowards] <kitchentable> (130)                 | [walktowards] <kitchentable> (130)                \n",
      "45 : [putback] <plate> (383) <kitchentable> (130)       | [putback] <cutleryfork> (384) <kitchentable> (130)\n"
     ]
    }
   ],
   "source": [
    "with open(gt[0][139,0], 'rb') as f:\n",
    "    cont = pkl.load(f)\n",
    "    print_action(cont, cont['action'])"
   ]
  },
  {
   "cell_type": "code",
   "execution_count": 35,
   "id": "c1a42fe3",
   "metadata": {},
   "outputs": [
    {
     "data": {
      "text/plain": [
       "'/data/vision/torralba/frames/data_acquisition/SyntheticStories/online_wah/agent_preferences//outputs/helping_gt_goal/test_env_task_set_60_full_task.all/logs_episode.139_iter.0.pik'"
      ]
     },
     "execution_count": 35,
     "metadata": {},
     "output_type": "execute_result"
    }
   ],
   "source": [
    "gt[0][139,0]"
   ]
  },
  {
   "cell_type": "code",
   "execution_count": 36,
   "id": "bb4be425",
   "metadata": {},
   "outputs": [
    {
     "name": "stdout",
     "output_type": "stream",
     "text": [
      "-rw-rw-r-- 1 xavierpuig vision-torralba 12716640 May  1 20:46 /data/vision/torralba/frames/data_acquisition/SyntheticStories/online_wah/agent_preferences//outputs/helping_gt_goal/test_env_task_set_60_full_task.all/logs_episode.139_iter.0.pik\r\n"
     ]
    }
   ],
   "source": [
    "ls -lt '/data/vision/torralba/frames/data_acquisition/SyntheticStories/online_wah/agent_preferences//outputs/helping_gt_goal/test_env_task_set_60_full_task.all/logs_episode.139_iter.0.pik'\n"
   ]
  },
  {
   "cell_type": "code",
   "execution_count": 34,
   "id": "ff1293f0",
   "metadata": {},
   "outputs": [
    {
     "name": "stdout",
     "output_type": "stream",
     "text": [
      "inside_pudding_103: 5\n",
      "84 84\n",
      "0  : [grab] <pudding> (368)                             | [walktowards] <kitchen> (11)                      \n",
      "1  : [walktowards] <fridge> (103)                       | [walktowards] <kitchen> (11)                      \n",
      "2  : [walktowards] <fridge> (103)                       | [walktowards] <kitchen> (11)                      \n",
      "3  : [walktowards] <fridge> (103)                       | [walktowards] <kitchen> (11)                      \n",
      "4  : [open] <fridge> (103)                              | [grab] <pudding> (368)                            \n",
      "5  : [walktowards] <livingroom> (267)                   | [walktowards] <livingroom> (267)                  \n",
      "6  : [walktowards] <livingroom> (267)                   | [walktowards] <livingroom> (267)                  \n",
      "7  : [walktowards] <livingroom> (267)                   | [walktowards] <livingroom> (267)                  \n",
      "8  : [walktowards] <livingroom> (267)                   | [walktowards] <livingroom> (267)                  \n",
      "9  : [walktowards] <livingroom> (267)                   | [walktowards] <livingroom> (267)                  \n",
      "10 : [walktowards] <livingroom> (267)                   | [walktowards] <livingroom> (267)                  \n",
      "11 : [walktowards] <livingroom> (267)                   | [walktowards] <livingroom> (267)                  \n",
      "12 : [walktowards] <livingroom> (267)                   | [walktowards] <livingroom> (267)                  \n",
      "13 : [walktowards] <livingroom> (267)                   | [walktowards] <livingroom> (267)                  \n",
      "14 : [walktowards] <livingroom> (267)                   | [walktowards] <livingroom> (267)                  \n",
      "15 : [walktowards] <livingroom> (267)                   | [walktowards] <livingroom> (267)                  \n",
      "16 : [walktowards] <livingroom> (267)                   | [walktowards] <pudding> (390)                     \n",
      "17 : [walktowards] <pudding> (388)                      | [walktowards] <pudding> (390)                     \n",
      "18 : [walktowards] <pudding> (388)                      | [walktowards] <pudding> (390)                     \n",
      "19 : [walktowards] <pudding> (388)                      | [walktowards] <pudding> (390)                     \n",
      "20 : [walktowards] <pudding> (388)                      | [walktowards] <pudding> (390)                     \n",
      "21 : [walktowards] <pudding> (388)                      | [grab] <pudding> (390)                            \n",
      "22 : [grab] <pudding> (388)                             | [walktowards] <kitchen> (11)                      \n",
      "23 : [grab] <pudding> (387)                             | [walktowards] <kitchen> (11)                      \n",
      "24 : [walktowards] <kitchen> (11)                       | [walktowards] <kitchen> (11)                      \n",
      "25 : [grab] <pudding> (387)                             | [walktowards] <kitchen> (11)                      \n",
      "26 : [walktowards] <kitchen> (11)                       | [walktowards] <kitchen> (11)                      \n",
      "27 : [walktowards] <kitchen> (11)                       | [walktowards] <kitchen> (11)                      \n",
      "28 : [walktowards] <kitchen> (11)                       | [walktowards] <kitchen> (11)                      \n",
      "29 : [walktowards] <kitchen> (11)                       | [walktowards] <kitchen> (11)                      \n",
      "30 : [walktowards] <kitchen> (11)                       | [walktowards] <kitchen> (11)                      \n",
      "31 : [walktowards] <kitchen> (11)                       | [walktowards] <kitchen> (11)                      \n",
      "32 : [walktowards] <kitchen> (11)                       | [walktowards] <kitchen> (11)                      \n",
      "33 : [walktowards] <kitchen> (11)                       | [walktowards] <kitchen> (11)                      \n",
      "34 : [walktowards] <kitchen> (11)                       | [walktowards] <fridge> (103)                      \n",
      "35 : [walktowards] <kitchen> (11)                       | [walktowards] <fridge> (103)                      \n",
      "36 : [walktowards] <kitchen> (11)                       | [walktowards] <fridge> (103)                      \n",
      "37 : [walktowards] <fridge> (103)                       | [walktowards] <fridge> (103)                      \n",
      "38 : [walktowards] <fridge> (103)                       | [walktowards] <fridge> (103)                      \n",
      "39 : [walktowards] <fridge> (103)                       | [putin] <pudding> (390) <fridge> (103)            \n",
      "40 : [walktowards] <fridge> (103)                       | [putin] <pudding> (368) <fridge> (103)            \n",
      "41 : [walktowards] <fridge> (103)                       | [walktowards] <livingroom> (267)                  \n",
      "42 : [putin] <pudding> (388) <fridge> (103)             | [walktowards] <livingroom> (267)                  \n",
      "43 : [walktowards] <pudding> (368)                      | [walktowards] <livingroom> (267)                  \n",
      "44 : [walktowards] <pudding> (368)                      | [walktowards] <livingroom> (267)                  \n",
      "45 : [walktowards] <pudding> (368)                      | [walktowards] <livingroom> (267)                  \n",
      "46 : [walktowards] <pudding> (368)                      | [walktowards] <livingroom> (267)                  \n",
      "47 : [walktowards] <pudding> (368)                      | [walktowards] <livingroom> (267)                  \n",
      "48 : [walktowards] <pudding> (368)                      | [walktowards] <livingroom> (267)                  \n",
      "49 : [walktowards] <livingroom> (267)                   | [walktowards] <livingroom> (267)                  \n",
      "50 : [walktowards] <livingroom> (267)                   | [walktowards] <livingroom> (267)                  \n",
      "51 : [walktowards] <livingroom> (267)                   | [walktowards] <livingroom> (267)                  \n",
      "52 : [walktowards] <livingroom> (267)                   | [walktowards] <livingroom> (267)                  \n",
      "53 : [walktowards] <livingroom> (267)                   | [walktowards] <pudding> (389)                     \n",
      "54 : [walktowards] <livingroom> (267)                   | [walktowards] <pudding> (389)                     \n",
      "55 : [walktowards] <pudding> (389)                      | [walktowards] <pudding> (389)                     \n",
      "56 : [walktowards] <pudding> (389)                      | [walktowards] <pudding> (389)                     \n",
      "57 : [walktowards] <pudding> (389)                      | [grab] <pudding> (389)                            \n",
      "58 : [walktowards] <pudding> (389)                      | [walktowards] <kitchen> (11)                      \n",
      "59 : [walktowards] <pudding> (389)                      | [grab] <pudding> (368)                            \n",
      "60 : [grab] <pudding> (389)                             | [walktowards] <pudding> (389)                     \n",
      "61 : [grab] <pudding> (387)                             | [walktowards] <pudding> (389)                     \n",
      "62 : [grab] <pudding> (389)                             | [grab] <pudding> (389)                            \n",
      "63 : [walktowards] <kitchen> (11)                       | [walktowards] <kitchen> (11)                      \n",
      "64 : [walktowards] <kitchen> (11)                       | [walktowards] <kitchen> (11)                      \n",
      "65 : [walktowards] <kitchen> (11)                       | [walktowards] <kitchen> (11)                      \n",
      "66 : [walktowards] <kitchen> (11)                       | [walktowards] <kitchen> (11)                      \n",
      "67 : [walktowards] <kitchen> (11)                       | [walktowards] <kitchen> (11)                      \n",
      "68 : [walktowards] <kitchen> (11)                       | [walktowards] <kitchen> (11)                      \n",
      "69 : [walktowards] <kitchen> (11)                       | [walktowards] <kitchen> (11)                      \n",
      "70 : [walktowards] <kitchen> (11)                       | [walktowards] <kitchen> (11)                      \n",
      "71 : [walktowards] <kitchen> (11)                       | [walktowards] <kitchen> (11)                      \n",
      "72 : [walktowards] <kitchen> (11)                       | [walktowards] <kitchen> (11)                      \n",
      "73 : [walktowards] <kitchen> (11)                       | [walktowards] <kitchen> (11)                      \n",
      "74 : [walktowards] <kitchen> (11)                       | [walktowards] <kitchen> (11)                      \n",
      "75 : [walktowards] <fridge> (103)                       | [walktowards] <kitchen> (11)                      \n",
      "76 : [walktowards] <fridge> (103)                       | [walktowards] <kitchen> (11)                      \n",
      "77 : [walktowards] <fridge> (103)                       | [walktowards] <fridge> (103)                      \n",
      "78 : [walktowards] <fridge> (103)                       | [walktowards] <fridge> (103)                      \n",
      "79 : [walktowards] <fridge> (103)                       | [walktowards] <fridge> (103)                      \n",
      "80 : [putin] <pudding> (387) <fridge> (103)             | [walktowards] <fridge> (103)                      \n",
      "81 :                                                    | [walktowards] <fridge> (103)                      \n",
      "82 :                                                    | [putin] <pudding> (368) <fridge> (103)            \n",
      "83 :                                                    | [putin] <pudding> (389) <fridge> (103)            \n"
     ]
    }
   ],
   "source": [
    "with open(gt[0][401,0], 'rb') as f:\n",
    "    cont = pkl.load(f)\n",
    "    print_action(cont, cont['action'])"
   ]
  },
  {
   "cell_type": "code",
   "execution_count": null,
   "id": "00fb7472",
   "metadata": {},
   "outputs": [],
   "source": []
  }
 ],
 "metadata": {
  "kernelspec": {
   "display_name": "Python 3 (ipykernel)",
   "language": "python",
   "name": "python3"
  },
  "language_info": {
   "codemirror_mode": {
    "name": "ipython",
    "version": 3
   },
   "file_extension": ".py",
   "mimetype": "text/x-python",
   "name": "python",
   "nbconvert_exporter": "python",
   "pygments_lexer": "ipython3",
   "version": "3.9.7"
  }
 },
 "nbformat": 4,
 "nbformat_minor": 5
}
