{
 "cells": [
  {
   "cell_type": "markdown",
   "id": "32c62084",
   "metadata": {},
   "source": [
    "# Analysis helping episodes"
   ]
  },
  {
   "cell_type": "code",
   "execution_count": 117,
   "id": "380b9363",
   "metadata": {},
   "outputs": [],
   "source": [
    "import glob\n",
    "import pickle as pkl"
   ]
  },
  {
   "cell_type": "code",
   "execution_count": 118,
   "id": "09913162",
   "metadata": {},
   "outputs": [
    {
     "data": {
      "text/plain": [
       "'/data/vision/torralba/frames/data_acquisition/SyntheticStories/online_wah/agent_preferences/analysis/final_res'"
      ]
     },
     "execution_count": 118,
     "metadata": {},
     "output_type": "execute_result"
    }
   ],
   "source": [
    "pwd"
   ]
  },
  {
   "cell_type": "code",
   "execution_count": 119,
   "id": "a2193d10",
   "metadata": {},
   "outputs": [],
   "source": [
    "paths_dict = {\n",
    "    'VAE': 'outputs/helping_states_ip1_newvaefull_encoder_task_graph.kl0.001_20_1.0_1.0_5.0',\n",
    "    'DET': 'outputs/helping_states_ip1_detfull_encoder_task_graph_20_1.0_1.0_5.0',\n",
    "    'GT': 'outputs/helping_gt_goal'\n",
    "}"
   ]
  },
  {
   "cell_type": "code",
   "execution_count": 135,
   "id": "ecd3b4ff",
   "metadata": {},
   "outputs": [],
   "source": [
    "def build_path(goal='GT'):\n",
    "    # init_path = '/data/vision/torralba/frames/data_acquisition/SyntheticStories/agent_preferences/tshu/agent_preferences/'\n",
    "    init_path = '/data/vision/torralba/frames/data_acquisition/SyntheticStories/online_wah/agent_preferences/'\n",
    "    path = '{}/{}/test_env_task_set_60_full_task.all'.format(init_path, paths_dict[goal])\n",
    "    paths = glob.glob('{}/logs*'.format(path))\n",
    "    \n",
    "    cont_dict = {}\n",
    "    ind = 4\n",
    "    path_res = '{}/results_{}.pik'.format(path, ind)\n",
    "    with open(path_res, 'rb') as f:\n",
    "        cont = pkl.load(f)\n",
    "    path_dict = {}\n",
    "    for path in paths:\n",
    "        path_index = path.split('.')[-3].split('_')[0]\n",
    "        seed_index = path.split('.')[-2]\n",
    "        path_dict[(int(path_index), int(seed_index))] = path\n",
    "    return path_dict, cont\n",
    "\n",
    "def find_strange_episodes(cont):\n",
    "    index_bad = []\n",
    "    res_bad = []\n",
    "    for index, elem in cont.items():\n",
    "        if min(elem['L']) < 100 and max(elem['L']) == 250:\n",
    "            index_bad.append(index)\n",
    "            res_bad.append(elem['L'])\n",
    "    return index_bad, res_bad"
   ]
  },
  {
   "cell_type": "markdown",
   "id": "28e19bc1",
   "metadata": {},
   "source": [
    "## What happens with episodes that have the 250 and then low?\n"
   ]
  },
  {
   "cell_type": "code",
   "execution_count": 136,
   "id": "c13a578f",
   "metadata": {},
   "outputs": [
    {
     "ename": "FileNotFoundError",
     "evalue": "[Errno 2] No such file or directory: '/data/vision/torralba/frames/data_acquisition/SyntheticStories/online_wah/agent_preferences//outputs/helping_gt_goal/test_env_task_set_60_full_task.all/results_4.pik'",
     "output_type": "error",
     "traceback": [
      "\u001b[0;31m---------------------------------------------------------------------------\u001b[0m",
      "\u001b[0;31mFileNotFoundError\u001b[0m                         Traceback (most recent call last)",
      "\u001b[0;32m/tmp/ipykernel_11927/1588890557.py\u001b[0m in \u001b[0;36m<module>\u001b[0;34m\u001b[0m\n\u001b[0;32m----> 1\u001b[0;31m \u001b[0mpath_dict\u001b[0m\u001b[0;34m,\u001b[0m \u001b[0mcont\u001b[0m \u001b[0;34m=\u001b[0m \u001b[0mbuild_path\u001b[0m\u001b[0;34m(\u001b[0m\u001b[0;34m)\u001b[0m\u001b[0;34m\u001b[0m\u001b[0;34m\u001b[0m\u001b[0m\n\u001b[0m\u001b[1;32m      2\u001b[0m \u001b[0mbad_indices\u001b[0m\u001b[0;34m,\u001b[0m \u001b[0mbad_res\u001b[0m \u001b[0;34m=\u001b[0m \u001b[0mfind_strange_episodes\u001b[0m\u001b[0;34m(\u001b[0m\u001b[0mcont\u001b[0m\u001b[0;34m)\u001b[0m\u001b[0;34m\u001b[0m\u001b[0;34m\u001b[0m\u001b[0m\n",
      "\u001b[0;32m/tmp/ipykernel_11927/4199632317.py\u001b[0m in \u001b[0;36mbuild_path\u001b[0;34m(goal)\u001b[0m\n\u001b[1;32m      8\u001b[0m     \u001b[0mind\u001b[0m \u001b[0;34m=\u001b[0m \u001b[0;36m4\u001b[0m\u001b[0;34m\u001b[0m\u001b[0;34m\u001b[0m\u001b[0m\n\u001b[1;32m      9\u001b[0m     \u001b[0mpath_res\u001b[0m \u001b[0;34m=\u001b[0m \u001b[0;34m'{}/results_{}.pik'\u001b[0m\u001b[0;34m.\u001b[0m\u001b[0mformat\u001b[0m\u001b[0;34m(\u001b[0m\u001b[0mpath\u001b[0m\u001b[0;34m,\u001b[0m \u001b[0mind\u001b[0m\u001b[0;34m)\u001b[0m\u001b[0;34m\u001b[0m\u001b[0;34m\u001b[0m\u001b[0m\n\u001b[0;32m---> 10\u001b[0;31m     \u001b[0;32mwith\u001b[0m \u001b[0mopen\u001b[0m\u001b[0;34m(\u001b[0m\u001b[0mpath_res\u001b[0m\u001b[0;34m,\u001b[0m \u001b[0;34m'rb'\u001b[0m\u001b[0;34m)\u001b[0m \u001b[0;32mas\u001b[0m \u001b[0mf\u001b[0m\u001b[0;34m:\u001b[0m\u001b[0;34m\u001b[0m\u001b[0;34m\u001b[0m\u001b[0m\n\u001b[0m\u001b[1;32m     11\u001b[0m         \u001b[0mcont\u001b[0m \u001b[0;34m=\u001b[0m \u001b[0mpkl\u001b[0m\u001b[0;34m.\u001b[0m\u001b[0mload\u001b[0m\u001b[0;34m(\u001b[0m\u001b[0mf\u001b[0m\u001b[0;34m)\u001b[0m\u001b[0;34m\u001b[0m\u001b[0;34m\u001b[0m\u001b[0m\n\u001b[1;32m     12\u001b[0m     \u001b[0mpath_dict\u001b[0m \u001b[0;34m=\u001b[0m \u001b[0;34m{\u001b[0m\u001b[0;34m}\u001b[0m\u001b[0;34m\u001b[0m\u001b[0;34m\u001b[0m\u001b[0m\n",
      "\u001b[0;31mFileNotFoundError\u001b[0m: [Errno 2] No such file or directory: '/data/vision/torralba/frames/data_acquisition/SyntheticStories/online_wah/agent_preferences//outputs/helping_gt_goal/test_env_task_set_60_full_task.all/results_4.pik'"
     ]
    }
   ],
   "source": [
    "path_dict, cont = build_path()\n",
    "bad_indices, bad_res = find_strange_episodes(cont)"
   ]
  },
  {
   "cell_type": "code",
   "execution_count": 137,
   "id": "40253b3a",
   "metadata": {},
   "outputs": [
    {
     "name": "stdout",
     "output_type": "stream",
     "text": [
      "total 38158\r\n",
      "-rw-rw-r-- 1 xavierpuig vision-torralba 14510459 Apr 29 17:28 logs_episode.523_iter.0_debug.pik\r\n",
      "-rw-rw-r-- 1 xavierpuig vision-torralba  8054950 Apr 29 17:24 logs_episode.41_iter.0_debug.pik\r\n",
      "-rw-rw-r-- 1 xavierpuig vision-torralba  9362523 Apr 29 17:23 logs_episode.82_iter.0_debug.pik\r\n",
      "-rw-rw-r-- 1 xavierpuig vision-torralba  9946449 Apr 29 17:23 logs_episode.63_iter.0_debug.pik\r\n",
      "-rw-rw-r-- 1 xavierpuig vision-torralba 16350356 Apr 29 17:22 logs_episode.566_iter.0_debug.pik\r\n",
      "-rw-rw-r-- 1 xavierpuig vision-torralba 10527940 Apr 29 17:21 logs_episode.139_iter.0_debug.pik\r\n",
      "-rw-rw-r-- 1 xavierpuig vision-torralba 12219381 Apr 29 17:20 logs_episode.551_iter.0_debug.pik\r\n",
      "-rw-rw-r-- 1 xavierpuig vision-torralba       40 Apr 29 16:47 results_0.pik\r\n",
      "-rw-rw-r-- 1 xavierpuig vision-torralba 11970268 Apr 29 16:47 logs_episode.551_iter.0.pik\r\n",
      "-rw-rw-r-- 1 xavierpuig vision-torralba  6998659 Apr 29 01:15 logs_episode.426_iter.1_debug.pik\r\n",
      "-rw-rw-r-- 1 xavierpuig vision-torralba  5754356 Apr 29 01:15 logs_episode.426_iter.0_debug.pik\r\n",
      "-rw-rw-r-- 1 xavierpuig vision-torralba  5376538 Apr 29 01:03 logs_episode.426_iter.2_debug.pik\r\n",
      "-rw-rw-r-- 1 xavierpuig vision-torralba  7624359 Apr 27 00:05 logs_episode.426_iter.4_debug.pik\r\n",
      "-rw-rw-r-- 1 xavierpuig vision-torralba  7751464 Apr 27 00:04 logs_episode.426_iter.3_debug.pik\r\n",
      "-rw-rw-r-- 1 xavierpuig vision-torralba  8875486 Apr 26 22:20 logs_episode.426_iter_debug.4.pik\r\n",
      "-rw-rw-r-- 1 xavierpuig vision-torralba  8366480 Apr 26 22:20 logs_episode.426_iter_debug.3.pik\r\n",
      "-rw-rw-r-- 1 xavierpuig vision-torralba  5747208 Apr 26 22:20 logs_episode.426_iter_debug.2.pik\r\n",
      "-rw-rw-r-- 1 xavierpuig vision-torralba  8860709 Apr 26 22:19 logs_episode.426_iter_debug.1.pik\r\n",
      "-rw-rw-r-- 1 xavierpuig vision-torralba  6626998 Apr 26 22:19 logs_episode.426_iter_debug.0.pik\r\n",
      "-rw-rw-r-- 1 xavierpuig vision-torralba 15508021 Oct  1  2021 logs_episode.0_iter.0.pik\r\n"
     ]
    }
   ],
   "source": [
    "! ls -lt /data/vision/torralba/frames/data_acquisition/SyntheticStories/online_wah/agent_preferences/outputs/helping_gt_goal/test_env_task_set_60_full_task.all/"
   ]
  },
  {
   "cell_type": "code",
   "execution_count": 56,
   "id": "e504e0e8",
   "metadata": {},
   "outputs": [],
   "source": [
    "with open(path_dict[(426, 1)], 'rb') as f:\n",
    "    cont = pkl.load(f)\n",
    "    "
   ]
  },
  {
   "cell_type": "code",
   "execution_count": 69,
   "id": "e98e3ca1",
   "metadata": {},
   "outputs": [
    {
     "data": {
      "text/plain": [
       "'/data/vision/torralba/frames/data_acquisition/SyntheticStories/agent_preferences/tshu/agent_preferences//outputs/helping_gt_goal/test_env_task_set_60_full_task.all/logs_episode.426_iter.1.pik'"
      ]
     },
     "execution_count": 69,
     "metadata": {},
     "output_type": "execute_result"
    }
   ],
   "source": [
    "path_dict[(426, 1)]"
   ]
  },
  {
   "cell_type": "code",
   "execution_count": 67,
   "id": "5e1c7ad1",
   "metadata": {},
   "outputs": [
    {
     "name": "stdout",
     "output_type": "stream",
     "text": [
      "0 : Action0: [walktowards] <kitchen> (11)             Action1: [grab] <salmon> (372)\n",
      "1 : Action0: [walktowards] <kitchen> (11)             Action1: [walktowards] <fridge> (103)\n",
      "2 : Action0: [walktowards] <kitchen> (11)             Action1: [walktowards] <fridge> (103)\n",
      "3 : Action0: [walktowards] <kitchen> (11)             Action1: [open] <fridge> (103)\n",
      "4 : Action0: [walktowards] <kitchen> (11)             Action1: [putin] <salmon> (372) <fridge> (103)\n",
      "5 : Action0: [walktowards] <kitchen> (11)             Action1: [walktowards] <salmon> (369)\n",
      "6 : Action0: [walktowards] <kitchen> (11)             Action1: [grab] <salmon> (369)\n",
      "7 : Action0: [walktowards] <kitchen> (11)             Action1: [grab] <salmon> (371)\n",
      "8 : Action0: [walktowards] <kitchen> (11)             Action1: [walktowards] <fridge> (103)\n",
      "9 : Action0: [walktowards] <kitchen> (11)             Action1: [walktowards] <fridge> (103)\n",
      "10: Action0: [walktowards] <kitchen> (11)             Action1: [walktowards] <fridge> (103)\n",
      "11: Action0: [walktowards] <salmon> (369)             Action1: [putin] <salmon> (369) <fridge> (103)\n",
      "12: Action0: [walktowards] <salmon> (369)             Action1: [putin] <salmon> (369) <fridge> (103)\n",
      "13: Action0: [walktowards] <salmon> (369)             Action1: [putin] <salmon> (371) <fridge> (103)\n",
      "14: Action0: [walktowards] <salmon> (369)             Action1: [walktowards] <salmon> (370)\n",
      "15: Action0: [walktowards] <salmon> (369)             Action1: [grab] <salmon> (370)\n",
      "16: Action0: [walktowards] <salmon> (369)             Action1: [walktowards] <fridge> (103)\n",
      "17: Action0: [grab] <salmon> (369)                    Action1: [putin] <salmon> (370) <fridge> (103)\n",
      "18: Action0: [walktowards] <fridge> (103)             Action1: [walktowards] <microwave> (109)\n",
      "19: Action0: [putin] <salmon> (369) <fridge> (103)    Action1: [walktowards] <microwave> (109)\n",
      "20: Action0: [walktowards] <microwave> (109)          Action1: [walktowards] <microwave> (109)\n",
      "21: Action0: [walktowards] <microwave> (109)          Action1: [open] <microwave> (109)\n",
      "22: Action0: [walktowards] <salmon> (368)             Action1: [grab] <salmon> (368)\n",
      "23: Action0: [walktowards] <salmon> (368)             Action1: [walktowards] <fridge> (103)\n",
      "24: Action0: [grab] <salmon> (368)                    Action1: [walktowards] <fridge> (103)\n",
      "25: Action0: [walktowards] <fridge> (103)             Action1: [walktowards] <fridge> (103)\n",
      "26: Action0: [walktowards] <fridge> (103)             Action1: [walktowards] <salmon> (369)\n",
      "27: Action0: [walktowards] <fridge> (103)             Action1: [grab] <salmon> (369)\n",
      "28: Action0: [putin] <salmon> (368) <fridge> (103)    Action1: [walktowards] <fridge> (103)\n",
      "29: Action0: [grab] <salmon> (369)                    Action1: [walktowards] <fridge> (103)\n",
      "30: Action0: [putin] <salmon> (369) <fridge> (103)    Action1: [putin] <salmon> (369) <fridge> (103)\n",
      "31: Action0: [walktowards] <salmon> (369)             Action1: [grab] <salmon> (369)\n",
      "32: Action0: [walktowards] <salmon> (369)             Action1: [putin] <salmon> (369) <fridge> (103)\n",
      "33: Action0: [walktowards] <salmon> (369)             Action1: [grab] <salmon> (369)\n",
      "34: Action0: [walktowards] <salmon> (369)             Action1: [putin] <salmon> (369) <fridge> (103)\n",
      "35: Action0: [walktowards] <salmon> (369)             Action1: [grab] <salmon> (369)\n",
      "36: Action0: [grab] <salmon> (369)                    Action1: [putin] <salmon> (369) <fridge> (103)\n",
      "37: Action0: [putin] <salmon> (369) <fridge> (103)    Action1: None\n",
      "38: Action0: [grab] <salmon> (369)                    Action1: [walktowards] <salmon> (369)\n",
      "39: Action0: [putin] <salmon> (369) <fridge> (103)    Action1: [walktowards] <salmon> (369)\n",
      "40: Action0: [putin] <salmon> (369) <fridge> (103)    Action1: [grab] <salmon> (369)\n"
     ]
    },
    {
     "ename": "TypeError",
     "evalue": "unsupported format string passed to NoneType.__format__",
     "output_type": "error",
     "traceback": [
      "\u001b[0;31m---------------------------------------------------------------------------\u001b[0m",
      "\u001b[0;31mTypeError\u001b[0m                                 Traceback (most recent call last)",
      "\u001b[0;32m/tmp/ipykernel_11927/1258661111.py\u001b[0m in \u001b[0;36m<module>\u001b[0;34m\u001b[0m\n\u001b[1;32m      2\u001b[0m \u001b[0;32mfor\u001b[0m \u001b[0mact\u001b[0m \u001b[0;32min\u001b[0m \u001b[0mcont\u001b[0m\u001b[0;34m[\u001b[0m\u001b[0;34m'action'\u001b[0m\u001b[0;34m]\u001b[0m\u001b[0;34m[\u001b[0m\u001b[0;36m0\u001b[0m\u001b[0;34m]\u001b[0m\u001b[0;34m:\u001b[0m\u001b[0;34m\u001b[0m\u001b[0;34m\u001b[0m\u001b[0m\n\u001b[1;32m      3\u001b[0m     \u001b[0mact2\u001b[0m \u001b[0;34m=\u001b[0m \u001b[0mcont\u001b[0m\u001b[0;34m[\u001b[0m\u001b[0;34m'action'\u001b[0m\u001b[0;34m]\u001b[0m\u001b[0;34m[\u001b[0m\u001b[0;36m1\u001b[0m\u001b[0;34m]\u001b[0m\u001b[0;34m[\u001b[0m\u001b[0mind\u001b[0m\u001b[0;34m]\u001b[0m\u001b[0;34m\u001b[0m\u001b[0;34m\u001b[0m\u001b[0m\n\u001b[0;32m----> 4\u001b[0;31m     \u001b[0mprint\u001b[0m\u001b[0;34m(\u001b[0m\u001b[0;34m'{: <2}: Action0: {: <40} Action1: {}'\u001b[0m\u001b[0;34m.\u001b[0m\u001b[0mformat\u001b[0m\u001b[0;34m(\u001b[0m\u001b[0mind\u001b[0m\u001b[0;34m,\u001b[0m \u001b[0mact\u001b[0m\u001b[0;34m,\u001b[0m \u001b[0mact2\u001b[0m\u001b[0;34m)\u001b[0m\u001b[0;34m)\u001b[0m\u001b[0;34m\u001b[0m\u001b[0;34m\u001b[0m\u001b[0m\n\u001b[0m\u001b[1;32m      5\u001b[0m     \u001b[0mind\u001b[0m \u001b[0;34m+=\u001b[0m \u001b[0;36m1\u001b[0m\u001b[0;34m\u001b[0m\u001b[0;34m\u001b[0m\u001b[0m\n",
      "\u001b[0;31mTypeError\u001b[0m: unsupported format string passed to NoneType.__format__"
     ]
    }
   ],
   "source": [
    "ind = 0\n",
    "for act in cont['action'][0]:\n",
    "    act2 = cont['action'][1][ind]\n",
    "    print('{: <2}: Action0: {: <40} Action1: {}'.format(ind, act, act2))\n",
    "    ind += 1"
   ]
  },
  {
   "cell_type": "code",
   "execution_count": 98,
   "id": "06c71dc9",
   "metadata": {},
   "outputs": [],
   "source": [
    "with open('/data/vision/torralba/frames/data_acquisition/SyntheticStories/online_wah/agent_preferences/'\n",
    "   'outputs/helping_gt_goal/test_env_task_set_60_full_task.all/'\n",
    "   'logs_episode.426_iter.0_debug.pik', 'rb') as f:\n",
    "    cont = pkl.load(f)\n"
   ]
  },
  {
   "cell_type": "code",
   "execution_count": 101,
   "id": "35f0cb1c",
   "metadata": {},
   "outputs": [
    {
     "name": "stdout",
     "output_type": "stream",
     "text": [
      "-rw-rw-r-- 1 xavierpuig vision-torralba 8860709 Apr 26 22:19 /data/vision/torralba/frames/data_acquisition/SyntheticStories/online_wah/agent_preferences/outputs/helping_gt_goal/test_env_task_set_60_full_task.all/logs_episode.426_iter_debug.1.pik\r\n"
     ]
    }
   ],
   "source": [
    "ls -lt /data/vision/torralba/frames/data_acquisition/SyntheticStories/online_wah/agent_preferences/outputs/helping_gt_goal/test_env_task_set_60_full_task.all/logs_episode.426_iter_debug.1.pik"
   ]
  },
  {
   "cell_type": "code",
   "execution_count": 103,
   "id": "09d6876f",
   "metadata": {},
   "outputs": [
    {
     "data": {
      "text/plain": [
       "{'inside_salmon_103': {'count': 5,\n",
       "  'grab_obj_ids': [368, 369, 370, 371, 372],\n",
       "  'container_ids': [103]}}"
      ]
     },
     "execution_count": 103,
     "metadata": {},
     "output_type": "execute_result"
    }
   ],
   "source": [
    "cont['gt_goals']"
   ]
  },
  {
   "cell_type": "code",
   "execution_count": 100,
   "id": "8dc60eba",
   "metadata": {},
   "outputs": [
    {
     "name": "stdout",
     "output_type": "stream",
     "text": [
      "0 : Action0: [walktowards] <kitchen> (11)             Action1: [walktowards] <salmon> (370)\n",
      "1 : Action0: [walktowards] <kitchen> (11)             Action1: [walktowards] <salmon> (370)\n",
      "2 : Action0: [walktowards] <kitchen> (11)             Action1: [grab] <salmon> (370)\n",
      "3 : Action0: [walktowards] <kitchen> (11)             Action1: [walktowards] <fridge> (103)\n",
      "4 : Action0: [walktowards] <kitchen> (11)             Action1: [walktowards] <fridge> (103)\n",
      "5 : Action0: [walktowards] <kitchen> (11)             Action1: [walktowards] <fridge> (103)\n",
      "6 : Action0: [walktowards] <kitchen> (11)             Action1: [open] <fridge> (103)\n",
      "7 : Action0: [walktowards] <kitchen> (11)             Action1: [putin] <salmon> (370) <fridge> (103)\n",
      "8 : Action0: [walktowards] <salmon> (369)             Action1: [walktowards] <salmon> (369)\n",
      "9 : Action0: [walktowards] <salmon> (369)             Action1: [grab] <salmon> (369)\n",
      "10: Action0: [walktowards] <salmon> (369)             Action1: [grab] <salmon> (372)\n",
      "11: Action0: [grab] <salmon> (369)                    Action1: [walktowards] <fridge> (103)\n",
      "12: Action0: [walktowards] <fridge> (103)             Action1: [walktowards] <fridge> (103)\n",
      "13: Action0: [walktowards] <fridge> (103)             Action1: [walktowards] <fridge> (103)\n",
      "14: Action0: [walktowards] <fridge> (103)             Action1: [walktowards] <salmon> (371)\n",
      "15: Action0: [putin] <salmon> (369) <fridge> (103)    Action1: [walktowards] <salmon> (371)\n",
      "16: Action0: [walktowards] <microwave> (109)          Action1: [grab] <salmon> (371)\n",
      "17: Action0: [walktowards] <microwave> (109)          Action1: [walktowards] <fridge> (103)\n",
      "18: Action0: [walktowards] <microwave> (109)          Action1: [putin] <salmon> (371) <fridge> (103)\n",
      "19: Action0: [walktowards] <microwave> (109)          Action1: [putin] <salmon> (372) <fridge> (103)\n",
      "20: Action0: [open] <microwave> (109)                 Action1: [walktowards] <microwave> (109)\n",
      "21: Action0: [grab] <salmon> (368)                    Action1: [walktowards] <salmon> (371)\n",
      "22: Action0: [walktowards] <fridge> (103)             Action1: [grab] <salmon> (371)\n",
      "23: Action0: [walktowards] <fridge> (103)             Action1: [walktowards] <salmon> (368)\n",
      "24: Action0: [walktowards] <fridge> (103)             Action1: [walktowards] <salmon> (368)\n",
      "25: Action0: [putin] <salmon> (368) <fridge> (103)    Action1: [walktowards] <salmon> (368)\n",
      "26: Action0: [walktowards] <salmon> (371)             Action1: [walktowards] <salmon> (368)\n",
      "27: Action0: [grab] <salmon> (371)                    Action1: [walktowards] <salmon> (368)\n",
      "28: Action0: [walktowards] <fridge> (103)             Action1: [walktowards] <salmon> (368)\n",
      "29: Action0: [walktowards] <fridge> (103)             Action1: [grab] <salmon> (368)\n",
      "30: Action0: [walktowards] <fridge> (103)             Action1: [putin] <salmon> (371) <fridge> (103)\n",
      "31: Action0: [grab] <salmon> (369)                    Action1: [putin] <salmon> (368) <fridge> (103)\n",
      "32: Action0: [putin] <salmon> (369) <fridge> (103)    Action1: [grab] <salmon> (369)\n",
      "33: Action0: [grab] <salmon> (371)                    Action1: [grab] <salmon> (371)\n",
      "34: Action0: [grab] <salmon> (369)                    Action1: [putin] <salmon> (371) <fridge> (103)\n",
      "35: Action0: [putin] <salmon> (369) <fridge> (103)    Action1: None\n",
      "36: Action0: [grab] <salmon> (371)                    Action1: [grab] <salmon> (371)\n",
      "37: Action0: [putin] <salmon> (371) <fridge> (103)    Action1: [putin] <salmon> (371) <fridge> (103)\n",
      "38: Action0: [grab] <salmon> (371)                    Action1: [grab] <salmon> (371)\n",
      "39: Action0: [grab] <salmon> (369)                    Action1: [putin] <salmon> (371) <fridge> (103)\n",
      "40: Action0: [putin] <salmon> (369) <fridge> (103)    Action1: None\n",
      "41: Action0: [grab] <salmon> (371)                    Action1: [grab] <salmon> (371)\n",
      "42: Action0: [grab] <salmon> (369)                    Action1: [putin] <salmon> (371) <fridge> (103)\n",
      "43: Action0: [putin] <salmon> (369) <fridge> (103)    Action1: None\n",
      "44: Action0: [grab] <salmon> (371)                    Action1: [grab] <salmon> (371)\n",
      "45: Action0: [putin] <salmon> (371) <fridge> (103)    Action1: [putin] <salmon> (371) <fridge> (103)\n",
      "46: Action0: [grab] <salmon> (371)                    Action1: [grab] <salmon> (371)\n",
      "47: Action0: [grab] <salmon> (369)                    Action1: [putin] <salmon> (371) <fridge> (103)\n",
      "48: Action0: [putin] <salmon> (369) <fridge> (103)    Action1: None\n",
      "49: Action0: [grab] <salmon> (371)                    Action1: [grab] <salmon> (371)\n",
      "50: Action0: [putin] <salmon> (371) <fridge> (103)    Action1: [putin] <salmon> (371) <fridge> (103)\n",
      "51: Action0: [grab] <salmon> (371)                    Action1: [grab] <salmon> (371)\n",
      "52: Action0: [putin] <salmon> (371) <fridge> (103)    Action1: [putin] <salmon> (371) <fridge> (103)\n",
      "53: Action0: [grab] <salmon> (371)                    Action1: [grab] <salmon> (371)\n",
      "54: Action0: [putin] <salmon> (371) <fridge> (103)    Action1: [putin] <salmon> (371) <fridge> (103)\n",
      "55: Action0: [grab] <salmon> (371)                    Action1: [grab] <salmon> (371)\n",
      "56: Action0: [putin] <salmon> (371) <fridge> (103)    Action1: [putin] <salmon> (371) <fridge> (103)\n"
     ]
    }
   ],
   "source": [
    "ind = 0\n",
    "for act in cont['action'][0]:\n",
    "    act2 = cont['action'][1][ind]\n",
    "    print('{: <2}: Action0: {: <40} Action1: {}'.format(ind, act, act2))\n",
    "    ind += 1"
   ]
  },
  {
   "cell_type": "code",
   "execution_count": null,
   "id": "d7af73aa",
   "metadata": {},
   "outputs": [],
   "source": []
  }
 ],
 "metadata": {
  "kernelspec": {
   "display_name": "Python 3 (ipykernel)",
   "language": "python",
   "name": "python3"
  },
  "language_info": {
   "codemirror_mode": {
    "name": "ipython",
    "version": 3
   },
   "file_extension": ".py",
   "mimetype": "text/x-python",
   "name": "python",
   "nbconvert_exporter": "python",
   "pygments_lexer": "ipython3",
   "version": "3.9.7"
  }
 },
 "nbformat": 4,
 "nbformat_minor": 5
}
