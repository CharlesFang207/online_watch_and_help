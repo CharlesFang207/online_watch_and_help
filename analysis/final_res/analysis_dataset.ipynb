{
 "cells": [
  {
   "cell_type": "code",
   "execution_count": 1,
   "id": "554f1d90",
   "metadata": {},
   "outputs": [],
   "source": [
    "import pickle as pkl\n",
    "import torch\n",
    "from collections import Counter"
   ]
  },
  {
   "cell_type": "code",
   "execution_count": 2,
   "id": "34463b86",
   "metadata": {},
   "outputs": [],
   "source": [
    "file_train = '../../dataset/dataset_graph_full_150step_larger_train.pkl'\n",
    "with open(file_train, 'rb') as f:\n",
    "    cont = pkl.load(f)"
   ]
  },
  {
   "cell_type": "code",
   "execution_count": 3,
   "id": "a3c878b3",
   "metadata": {},
   "outputs": [
    {
     "name": "stdout",
     "output_type": "stream",
     "text": [
      "Training episodes: 6738\n"
     ]
    }
   ],
   "source": [
    "print(\"Training episodes: {}\".format(len(cont)))"
   ]
  },
  {
   "cell_type": "code",
   "execution_count": 4,
   "id": "852e58ce",
   "metadata": {},
   "outputs": [],
   "source": [
    "names_preds = '../../results_inference/detfull_encoder_task_graph/pred_dict.pkl'\n",
    "with open(names_preds, 'rb') as f:\n",
    "    name_preds = pkl.load(f)\n",
    "    "
   ]
  },
  {
   "cell_type": "code",
   "execution_count": 5,
   "id": "dc9516cd",
   "metadata": {},
   "outputs": [],
   "source": [
    "def get_goal(file_name):\n",
    "    new_file_name = file_name.replace('.pik', '_reduced.pik')\n",
    "\n",
    "    with open(new_file_name, 'rb') as f:\n",
    "        resp = pkl.load(f)\n",
    "    if not resp['valid']:\n",
    "        return None\n",
    "    gt_task = resp['gt_task_graph']\n",
    "    init_task = resp['task_graph_time'][0]\n",
    "    diff_task = gt_task - init_task\n",
    "    task_str = ''\n",
    "    if 'table' in resp['task_name']:\n",
    "        \n",
    "        for i in range(136):\n",
    "            goal_str = '{}.{}'.format(name_preds[i][0], name_preds[i][1])\n",
    "            if diff_task[i] > 0:\n",
    "                task_str += '{}: {}\\n'.format(goal_str, diff_task[i])\n",
    "    return (task_str, new_file_name, 'table' in resp['task_name'], resp['task_name'])"
   ]
  },
  {
   "cell_type": "code",
   "execution_count": 22,
   "id": "f9dda9d6",
   "metadata": {},
   "outputs": [
    {
     "name": "stderr",
     "output_type": "stream",
     "text": [
      "100%|███████████████████████████████████████████████████████████████████████████████████████████████████████████████████████████████████████████| 6738/6738 [00:14<00:00, 459.03it/s]\n",
      "100%|█████████████████████████████████████████████████████████████████████████████████████████████████████████████████████████████████████████████| 293/293 [00:00<00:00, 395.45it/s]\n"
     ]
    }
   ],
   "source": [
    "from tqdm import tqdm\n",
    "task_name_dict_train = {}\n",
    "task_name_dict_test = {}\n",
    "file_train = '../../dataset/dataset_graph_full_150step_larger_train.pkl'\n",
    "with open(file_train, 'rb') as f:\n",
    "    cont = pkl.load(f)\n",
    "task_names = []\n",
    "file_names = list(cont.keys())\n",
    "for filename in tqdm(file_names):\n",
    "    resp = get_goal(filename)\n",
    "    if resp is not None:\n",
    "        task_names.append(resp[-1])\n",
    "        \n",
    "        ep_id =  int(filename.split('.')[-3].split('_')[0])\n",
    "        if resp[-1] not in task_name_dict_train:\n",
    "            task_name_dict_train[resp[-1]] = []\n",
    "        task_name_dict_train[resp[-1]].append(ep_id)\n",
    "\n",
    "file_train = '../../dataset/dataset_graph_full_150step_larger_test.pkl'\n",
    "with open(file_train, 'rb') as f:\n",
    "    cont = pkl.load(f)\n",
    "task_names_test = []\n",
    "file_names_test = list(cont.keys())\n",
    "for filename in tqdm(file_names_test):\n",
    "    resp = get_goal(filename)\n",
    "    if resp is not None:\n",
    "        task_names_test.append(resp[-1])\n",
    "        ep_id =  int(filename.split('.')[-3].split('_')[0])\n",
    "        if resp[-1] not in task_name_dict_test:\n",
    "            task_name_dict_test[resp[-1]] = []\n",
    "        task_name_dict_test[resp[-1]].append(ep_id)\n",
    "\n",
    "for name, val in task_name_dict_test.items():\n",
    "    task_name_dict_test[name] = set(val)\n",
    "    \n",
    "for name, val in task_name_dict_train.items():\n",
    "    task_name_dict_train[name] = set(val)"
   ]
  },
  {
   "cell_type": "code",
   "execution_count": 23,
   "id": "da2001c9",
   "metadata": {},
   "outputs": [
    {
     "name": "stdout",
     "output_type": "stream",
     "text": [
      "Counter({'setup_table': 1584, 'put_fridge': 1534, 'watch_tv': 1426, 'prepare_food': 1200, 'put_dishwasher': 989})\n",
      "Counter({'setup_table': 65, 'put_dishwasher': 64, 'put_fridge': 63, 'watch_tv': 55, 'prepare_food': 46})\n"
     ]
    }
   ],
   "source": [
    "print(Counter(task_names))\n",
    "print(Counter(task_names_test))\n",
    "task_name_dict = {\n",
    "    'train': task_name_dict_train,\n",
    "    'test': task_name_dict_test\n",
    "}\n",
    "with open('../metadata/task_name_dict.pik', 'wb') as f:\n",
    "    pkl.dump(task_name_dict, f)"
   ]
  },
  {
   "cell_type": "code",
   "execution_count": 21,
   "id": "3d1a9756",
   "metadata": {},
   "outputs": [
    {
     "data": {
      "text/plain": [
       "6733"
      ]
     },
     "execution_count": 21,
     "metadata": {},
     "output_type": "execute_result"
    }
   ],
   "source": [
    "len(task_names_test)"
   ]
  },
  {
   "cell_type": "code",
   "execution_count": 15,
   "id": "f1836d19",
   "metadata": {},
   "outputs": [
    {
     "data": {
      "text/plain": [
       "'/data/vision/torralba/frames/data_acquisition/SyntheticStories/online_wah/agent_preferences/dataloader/../dataset_episodes_noscratch/data_structured/train_env_task_set_150_full_task.all/1_full_opencost0_closecostFalse_walkcost0.05_forgetrate0/logs_episode.2219_iter.0.pik'"
      ]
     },
     "execution_count": 15,
     "metadata": {},
     "output_type": "execute_result"
    }
   ],
   "source": [
    "int(filename.split('.')[-3].split('_')[0])"
   ]
  },
  {
   "cell_type": "code",
   "execution_count": 10,
   "id": "37359ece",
   "metadata": {},
   "outputs": [
    {
     "data": {
      "text/plain": [
       "Counter()"
      ]
     },
     "execution_count": 10,
     "metadata": {},
     "output_type": "execute_result"
    }
   ],
   "source": [
    "Counter(task_names_test)\n",
    "task_name_dict = {\n",
    "    'train': task_name_dict_train,\n",
    "    'test': task_name_dict_test\n",
    "}"
   ]
  },
  {
   "cell_type": "code",
   "execution_count": 11,
   "id": "e865e89b",
   "metadata": {},
   "outputs": [
    {
     "data": {
      "text/plain": [
       "[]"
      ]
     },
     "execution_count": 11,
     "metadata": {},
     "output_type": "execute_result"
    }
   ],
   "source": [
    "with open('../metadata/task_name_dict.pik', 'wb') as f:\n",
    "    pkl.dump(task_name_dict, f)"
   ]
  },
  {
   "cell_type": "code",
   "execution_count": 6,
   "id": "edd32b33",
   "metadata": {},
   "outputs": [
    {
     "name": "stdout",
     "output_type": "stream",
     "text": [
      "/data/vision/torralba/frames/data_acquisition/SyntheticStories/online_wah/agent_preferences/dataloader/../dataset_episodes_noscratch/data_structured/train_env_task_set_150_full_task.all/1_full_opencost0_closecostFalse_walkcost0.05_forgetrate0/logs_episode.2251_iter.0_reduced.pik\n",
      "cutleryfork.kitchentable: 3\n",
      "plate.kitchentable: 2\n",
      "waterglass.kitchentable: 3\n",
      "\n"
     ]
    }
   ],
   "source": [
    "filename = '/data/vision/torralba/frames/data_acquisition/SyntheticStories/online_wah/agent_preferences/dataloader/../dataset_episodes_noscratch/data_structured/train_env_task_set_150_full_task.all/1_full_opencost0_closecostFalse_walkcost0.05_forgetrate0/logs_episode.2251_iter.0.pik'\n",
    "with open(filename, 'rb') as f:\n",
    "    cont = pkl.load(f)\n",
    "    \n",
    "resp = get_goal(filename)\n",
    "if resp is not None and resp[2]:\n",
    "    print(resp[1])\n",
    "    print(resp[0])"
   ]
  },
  {
   "cell_type": "code",
   "execution_count": 8,
   "id": "8db8e4b9",
   "metadata": {},
   "outputs": [
    {
     "name": "stderr",
     "output_type": "stream",
     "text": [
      "Using backend: pytorch\n"
     ]
    }
   ],
   "source": [
    "import sys\n",
    "sys.path.append('../../utils')\n",
    "import utils_rl_agent"
   ]
  },
  {
   "cell_type": "code",
   "execution_count": 16,
   "id": "9491fb80",
   "metadata": {},
   "outputs": [],
   "source": [
    "it = 0\n",
    "graph_helper = utils_rl_agent.GraphHelper(max_num_objects=100, \n",
    "                                          toy_dataset=False)\n",
    "graph_info, _ = graph_helper.build_graph_for_task(\n",
    "                    cont['graph'][it], \n",
    "                    character_id=1, include_edges=True, \n",
    "                    obs_ids=cont['obs'][it], relative_coords=False,\n",
    "                    unique_from=True)\n",
    "\n",
    "\n",
    "task_graph = graph_helper.build_task_graph(graph_info)\n",
    "\n",
    "it = 101\n",
    "\n",
    "graph_info, _ = graph_helper.build_graph_for_task(\n",
    "                    cont['graph'][it], \n",
    "                    character_id=1, include_edges=True, \n",
    "                    obs_ids=cont['obs'][it], relative_coords=False,\n",
    "                    unique_from=True)\n",
    "\n",
    "task_graph_end = graph_helper.build_task_graph(graph_info)\n",
    "                \n"
   ]
  },
  {
   "cell_type": "code",
   "execution_count": 51,
   "id": "6a422876",
   "metadata": {},
   "outputs": [
    {
     "name": "stdout",
     "output_type": "stream",
     "text": [
      "3 0 3\n",
      "2 1 3\n",
      "3 0 3\n"
     ]
    }
   ],
   "source": [
    "a1 = list(np.maximum(np.zeros(task_graph.shape), task_graph_end - task_graph).astype(np.int32))\n",
    "ab = list(np.maximum(np.zeros(task_graph.shape), task_graph_end).astype(np.int32))\n",
    "a2 = list(task_graph.astype(np.int32))\n",
    "for a, b, c in zip(a1, a2, ab):\n",
    "    if a > 0:\n",
    "        print(a,b,c)"
   ]
  },
  {
   "cell_type": "code",
   "execution_count": null,
   "id": "2ef57bc9",
   "metadata": {},
   "outputs": [],
   "source": [
    "task_graph_end"
   ]
  },
  {
   "cell_type": "code",
   "execution_count": 18,
   "id": "ed81cad2",
   "metadata": {},
   "outputs": [
    {
     "data": {
      "text/plain": [
       "102"
      ]
     },
     "execution_count": 18,
     "metadata": {},
     "output_type": "execute_result"
    }
   ],
   "source": [
    "len(cont['graph'])"
   ]
  },
  {
   "cell_type": "code",
   "execution_count": 20,
   "id": "4c498578",
   "metadata": {},
   "outputs": [
    {
     "data": {
      "text/plain": [
       "'[putback] <waterglass> (444) <kitchentable> (136)'"
      ]
     },
     "execution_count": 20,
     "metadata": {},
     "output_type": "execute_result"
    }
   ],
   "source": [
    "cont['action'][0][100]"
   ]
  },
  {
   "cell_type": "code",
   "execution_count": 24,
   "id": "dd6fb2fe",
   "metadata": {},
   "outputs": [],
   "source": [
    "plate = [node['id'] for node in cont['graph'][0]['nodes'] if node['class_name'] == 'plate']"
   ]
  },
  {
   "cell_type": "code",
   "execution_count": 25,
   "id": "5b790ad4",
   "metadata": {},
   "outputs": [
    {
     "data": {
      "text/plain": [
       "[412, 413, 414, 415, 416]"
      ]
     },
     "execution_count": 25,
     "metadata": {},
     "output_type": "execute_result"
    }
   ],
   "source": [
    "plate"
   ]
  },
  {
   "cell_type": "code",
   "execution_count": 27,
   "id": "3d83552d",
   "metadata": {},
   "outputs": [
    {
     "data": {
      "text/plain": [
       "[{'from_id': 414, 'to_id': 136, 'relation_type': 'ON'},\n",
       " {'from_id': 413, 'to_id': 136, 'relation_type': 'ON'},\n",
       " {'from_id': 416, 'to_id': 136, 'relation_type': 'ON'}]"
      ]
     },
     "execution_count": 27,
     "metadata": {},
     "output_type": "execute_result"
    }
   ],
   "source": [
    "[edge for edge in cont['graph'][-1]['edges'] if edge['from_id'] in plate and edge['to_id'] == 136]"
   ]
  },
  {
   "cell_type": "code",
   "execution_count": 57,
   "id": "689853aa",
   "metadata": {},
   "outputs": [
    {
     "data": {
      "text/plain": [
       "[{'id': 132,\n",
       "  'category': 'Furniture',\n",
       "  'class_name': 'kitchentable',\n",
       "  'prefab_name': 'PRE_FUR_Kitchen_table_01_04',\n",
       "  'obj_transform': {'position': [-3.498, 0.029, 1.632],\n",
       "   'rotation': [0.0, 0.0, 0.0, 1.0],\n",
       "   'scale': [1.0, 1.0, 1.0]},\n",
       "  'bounding_box': {'center': [-3.498, 0.504, 1.632],\n",
       "   'size': [1.092, 0.950000048, 2.0]},\n",
       "  'properties': ['SURFACES', 'MOVABLE'],\n",
       "  'states': []}]"
      ]
     },
     "execution_count": 57,
     "metadata": {},
     "output_type": "execute_result"
    }
   ],
   "source": [
    "[node for node in cont['graph'][0]['nodes'] if node['id'] == 132]"
   ]
  },
  {
   "cell_type": "code",
   "execution_count": 53,
   "id": "cfda7015",
   "metadata": {},
   "outputs": [
    {
     "data": {
      "text/plain": [
       "[{'from_id': 412, 'to_id': 11, 'relation_type': 'INSIDE'},\n",
       " {'from_id': 413, 'to_id': 11, 'relation_type': 'INSIDE'},\n",
       " {'from_id': 414, 'to_id': 11, 'relation_type': 'INSIDE'},\n",
       " {'from_id': 415, 'to_id': 11, 'relation_type': 'INSIDE'},\n",
       " {'from_id': 416, 'to_id': 11, 'relation_type': 'INSIDE'},\n",
       " {'from_id': 414, 'to_id': 132, 'relation_type': 'ON'},\n",
       " {'from_id': 413, 'to_id': 146, 'relation_type': 'INSIDE'},\n",
       " {'from_id': 412, 'to_id': 163, 'relation_type': 'INSIDE'},\n",
       " {'from_id': 415, 'to_id': 166, 'relation_type': 'INSIDE'},\n",
       " {'from_id': 416, 'to_id': 166, 'relation_type': 'INSIDE'}]"
      ]
     },
     "execution_count": 53,
     "metadata": {},
     "output_type": "execute_result"
    }
   ],
   "source": [
    "[edge for edge in cont['graph'][0]['edges'] if edge['from_id'] in plate]"
   ]
  },
  {
   "cell_type": "code",
   "execution_count": 32,
   "id": "3fbd51e8",
   "metadata": {},
   "outputs": [
    {
     "data": {
      "text/plain": [
       "dict_keys(['class_objects', 'edge_tuples', 'mask_edge', 'node_ids'])"
      ]
     },
     "execution_count": 32,
     "metadata": {},
     "output_type": "execute_result"
    }
   ],
   "source": [
    "graph_info.keys()"
   ]
  },
  {
   "cell_type": "code",
   "execution_count": 36,
   "id": "cfbcdf0e",
   "metadata": {},
   "outputs": [
    {
     "name": "stdout",
     "output_type": "stream",
     "text": [
      "(array([17]),)\n",
      "(array([16]),)\n",
      "(array([19]),)\n",
      "(array([2]),)\n"
     ]
    }
   ],
   "source": [
    "import numpy as np\n",
    "print(np.where(graph_info['node_ids'] == 414))\n",
    "print(np.where(graph_info['node_ids'] == 413))\n",
    "print(np.where(graph_info['node_ids'] == 416))\n",
    "print(np.where(graph_info['node_ids'] == 136))"
   ]
  },
  {
   "cell_type": "code",
   "execution_count": 40,
   "id": "6cc50f44",
   "metadata": {},
   "outputs": [
    {
     "data": {
      "text/plain": [
       "array([[17,  2],\n",
       "       [16,  2],\n",
       "       [13,  2],\n",
       "       [25,  2],\n",
       "       [20,  2],\n",
       "       [19,  2],\n",
       "       [45,  2],\n",
       "       [26,  2],\n",
       "       [52,  2]], dtype=int32)"
      ]
     },
     "execution_count": 40,
     "metadata": {},
     "output_type": "execute_result"
    }
   ],
   "source": [
    "ind = (graph_info['edge_tuples'][:,1] == 2)\n",
    "graph_info['edge_tuples'][ind]"
   ]
  },
  {
   "cell_type": "code",
   "execution_count": null,
   "id": "cc135b73",
   "metadata": {},
   "outputs": [],
   "source": []
  }
 ],
 "metadata": {
  "kernelspec": {
   "display_name": "Python 3 (ipykernel)",
   "language": "python",
   "name": "python3"
  },
  "language_info": {
   "codemirror_mode": {
    "name": "ipython",
    "version": 3
   },
   "file_extension": ".py",
   "mimetype": "text/x-python",
   "name": "python",
   "nbconvert_exporter": "python",
   "pygments_lexer": "ipython3",
   "version": "3.9.7"
  }
 },
 "nbformat": 4,
 "nbformat_minor": 5
}
