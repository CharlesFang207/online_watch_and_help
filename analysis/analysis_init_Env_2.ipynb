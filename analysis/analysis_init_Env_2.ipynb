{
 "cells": [
  {
   "cell_type": "markdown",
   "metadata": {},
   "source": [
    "# Analysis dataset toy"
   ]
  },
  {
   "cell_type": "code",
   "execution_count": 1,
   "metadata": {},
   "outputs": [],
   "source": [
    "import numpy as np\n",
    "import pickle as pkl\n",
    "from multiprocessing import Pool\n",
    "from p_tqdm import p_map\n",
    "from matplotlib import pyplot as plt\n",
    "from collections import Counter\n",
    "import glob"
   ]
  },
  {
   "cell_type": "code",
   "execution_count": 14,
   "metadata": {},
   "outputs": [],
   "source": [
    "path = ('/data/vision/torralba/frames/data_acquisition/SyntheticStories/online_wah/agent_preferences/'\n",
    "        'dataset_episodes_noscratch/data_structured/train_env_task_set_150_full_task.all/*/*')"
   ]
  },
  {
   "cell_type": "code",
   "execution_count": 40,
   "metadata": {},
   "outputs": [],
   "source": [
    "! rm -rf /data/vision/torralba/frames/data_acquisition/SyntheticStories/online_wah/agent_preferences/dataset_episodes_noscratch/data_structured"
   ]
  },
  {
   "cell_type": "code",
   "execution_count": 15,
   "metadata": {},
   "outputs": [],
   "source": [
    "episodes = glob.glob(path)"
   ]
  },
  {
   "cell_type": "code",
   "execution_count": 17,
   "metadata": {},
   "outputs": [],
   "source": [
    "with open('../dataset/structured_agent/train_env_task_set_150_full_task.all.pik', 'rb') as f:\n",
    "    cont = pkl.load(f)"
   ]
  },
  {
   "cell_type": "code",
   "execution_count": 18,
   "metadata": {},
   "outputs": [
    {
     "data": {
      "text/plain": [
       "{0: {'on_pudding_290': 2, 'on_salmon_290': 2, 'on_apple_290': 2}, 1: {}}"
      ]
     },
     "execution_count": 18,
     "metadata": {},
     "output_type": "execute_result"
    }
   ],
   "source": [
    "cont[253]['task_goal']"
   ]
  },
  {
   "cell_type": "code",
   "execution_count": 22,
   "metadata": {},
   "outputs": [
    {
     "name": "stdout",
     "output_type": "stream",
     "text": [
      "['[walktowards] <kitchen> (109)', '[walktowards] <kitchen> (109)', '[walktowards] <waterglass> (371)', '[grab] <waterglass> (371)', '[walktowards] <dishwasher> (154)', '[walktowards] <dishwasher> (154)', '[open] <dishwasher> (154)', '[putin] <waterglass> (371) <dishwasher> (154)', '[close] <dishwasher> (154)', '[grab] <waterglass> (370)', '[walktowards] <dishwasher> (154)', '[walktowards] <dishwasher> (154)', '[walktowards] <dishwasher> (154)', '[open] <dishwasher> (154)', '[putin] <waterglass> (370) <dishwasher> (154)', '[close] <dishwasher> (154)', '[walktowards] <bedroom> (212)', '[walktowards] <bedroom> (212)', '[walktowards] <bedroom> (212)', '[walktowards] <bedroom> (212)', '[walktowards] <bedroom> (212)', '[walktowards] <bedroom> (212)', '[walktowards] <bedroom> (212)', '[walktowards] <cabinet> (273)', '[walktowards] <cabinet> (273)', '[walktowards] <cabinet> (273)', '[open] <cabinet> (273)', '[grab] <waterglass> (384)', '[walktowards] <kitchen> (109)', '[walktowards] <kitchen> (109)', '[walktowards] <kitchen> (109)', '[walktowards] <kitchen> (109)', '[walktowards] <kitchen> (109)', '[walktowards] <dishwasher> (154)', '[walktowards] <dishwasher> (154)', '[walktowards] <dishwasher> (154)', '[walktowards] <dishwasher> (154)', '[walktowards] <dishwasher> (154)', '[walktowards] <dishwasher> (154)', '[open] <dishwasher> (154)', '[putin] <waterglass> (384) <dishwasher> (154)', '[close] <dishwasher> (154)', '[walktowards] <livingroom> (11)', '[walktowards] <livingroom> (11)', '[walktowards] <livingroom> (11)', '[walktowards] <livingroom> (11)', '[walktowards] <waterglass> (366)', '[walktowards] <waterglass> (366)', '[walktowards] <waterglass> (366)', '[grab] <waterglass> (366)', '[walktowards] <kitchen> (109)', '[walktowards] <kitchen> (109)', '[walktowards] <kitchen> (109)', '[walktowards] <kitchen> (109)', '[walktowards] <dishwasher> (154)', '[walktowards] <dishwasher> (154)', '[walktowards] <dishwasher> (154)', '[open] <dishwasher> (154)', '[putin] <waterglass> (366) <dishwasher> (154)', '[walktowards] <bedroom> (212)', '[walktowards] <bedroom> (212)', '[walktowards] <bedroom> (212)', '[walktowards] <bedroom> (212)', '[walktowards] <bedroom> (212)', '[walktowards] <bedroom> (212)', '[walktowards] <bedroom> (212)', '[walktowards] <cabinet> (273)', '[walktowards] <cabinet> (273)', '[walktowards] <cabinet> (273)', '[walktowards] <cabinet> (273)', '[grab] <waterglass> (383)', '[walktowards] <kitchen> (109)', '[walktowards] <kitchen> (109)', '[walktowards] <kitchen> (109)', '[walktowards] <kitchen> (109)', '[walktowards] <kitchen> (109)', '[walktowards] <dishwasher> (154)', '[walktowards] <dishwasher> (154)', '[walktowards] <dishwasher> (154)', '[walktowards] <dishwasher> (154)', '[walktowards] <dishwasher> (154)', '[walktowards] <bedroom> (212)', '[walktowards] <bedroom> (212)', '[walktowards] <bedroom> (212)', '[walktowards] <bedroom> (212)', '[walktowards] <bedroom> (212)', '[walktowards] <bedroom> (212)', '[walktowards] <cabinet> (273)', '[walktowards] <cabinet> (273)', '[walktowards] <cabinet> (273)', '[walktowards] <cabinet> (273)', '[grab] <waterglass> (383)', '[walktowards] <kitchen> (109)', '[walktowards] <kitchen> (109)', '[walktowards] <kitchen> (109)', '[walktowards] <kitchen> (109)', '[walktowards] <kitchen> (109)', '[walktowards] <dishwasher> (154)', '[walktowards] <dishwasher> (154)', '[walktowards] <dishwasher> (154)', '[walktowards] <dishwasher> (154)', '[walktowards] <dishwasher> (154)', '[walktowards] <bedroom> (212)', '[walktowards] <bedroom> (212)', '[walktowards] <bedroom> (212)', '[walktowards] <bedroom> (212)', '[walktowards] <bedroom> (212)', '[walktowards] <bedroom> (212)', '[walktowards] <cabinet> (273)', '[walktowards] <cabinet> (273)', '[walktowards] <cabinet> (273)', '[walktowards] <cabinet> (273)', '[grab] <waterglass> (383)', '[walktowards] <kitchen> (109)', '[walktowards] <kitchen> (109)', '[walktowards] <kitchen> (109)', '[walktowards] <kitchen> (109)', '[walktowards] <kitchen> (109)', '[walktowards] <dishwasher> (154)', '[walktowards] <dishwasher> (154)', '[walktowards] <dishwasher> (154)', '[walktowards] <dishwasher> (154)', '[walktowards] <dishwasher> (154)', '[walktowards] <bedroom> (212)', '[walktowards] <bedroom> (212)', '[walktowards] <bedroom> (212)', '[walktowards] <bedroom> (212)', '[walktowards] <bedroom> (212)', '[walktowards] <bedroom> (212)', '[walktowards] <cabinet> (273)', '[walktowards] <cabinet> (273)', '[walktowards] <cabinet> (273)', '[walktowards] <cabinet> (273)', '[grab] <waterglass> (383)', '[walktowards] <kitchen> (109)', '[walktowards] <kitchen> (109)', '[walktowards] <kitchen> (109)', '[walktowards] <kitchen> (109)', '[walktowards] <kitchen> (109)', '[walktowards] <dishwasher> (154)', '[walktowards] <dishwasher> (154)', '[walktowards] <dishwasher> (154)', '[walktowards] <dishwasher> (154)', '[walktowards] <dishwasher> (154)', '[walktowards] <bedroom> (212)', '[walktowards] <bedroom> (212)', '[walktowards] <bedroom> (212)', '[walktowards] <bedroom> (212)', '[walktowards] <bedroom> (212)', '[walktowards] <bedroom> (212)', '[walktowards] <cabinet> (273)', '[walktowards] <cabinet> (273)', '[walktowards] <cabinet> (273)', '[walktowards] <cabinet> (273)', '[grab] <waterglass> (383)', '[walktowards] <kitchen> (109)', '[walktowards] <kitchen> (109)', '[walktowards] <kitchen> (109)', '[walktowards] <kitchen> (109)', '[walktowards] <kitchen> (109)', '[walktowards] <dishwasher> (154)', '[walktowards] <dishwasher> (154)', '[walktowards] <dishwasher> (154)', '[walktowards] <dishwasher> (154)', '[walktowards] <dishwasher> (154)', '[walktowards] <bedroom> (212)', '[walktowards] <bedroom> (212)', '[walktowards] <bedroom> (212)', '[walktowards] <bedroom> (212)', '[walktowards] <bedroom> (212)', '[walktowards] <bedroom> (212)', '[walktowards] <cabinet> (273)', '[walktowards] <cabinet> (273)', '[walktowards] <cabinet> (273)', '[walktowards] <cabinet> (273)', '[grab] <waterglass> (383)', '[walktowards] <kitchen> (109)', '[walktowards] <kitchen> (109)', '[walktowards] <kitchen> (109)', '[walktowards] <kitchen> (109)', '[walktowards] <kitchen> (109)', '[walktowards] <dishwasher> (154)', '[walktowards] <dishwasher> (154)', '[walktowards] <dishwasher> (154)', '[walktowards] <dishwasher> (154)', '[walktowards] <dishwasher> (154)', '[walktowards] <bedroom> (212)', '[walktowards] <bedroom> (212)', '[walktowards] <bedroom> (212)', '[walktowards] <bedroom> (212)', '[walktowards] <bedroom> (212)', '[walktowards] <bedroom> (212)', '[walktowards] <cabinet> (273)', '[walktowards] <cabinet> (273)', '[walktowards] <cabinet> (273)', '[walktowards] <cabinet> (273)', '[grab] <waterglass> (383)', '[walktowards] <kitchen> (109)', '[walktowards] <kitchen> (109)', '[walktowards] <kitchen> (109)', '[walktowards] <kitchen> (109)', '[walktowards] <kitchen> (109)', '[walktowards] <dishwasher> (154)', '[walktowards] <dishwasher> (154)', '[walktowards] <dishwasher> (154)', '[walktowards] <dishwasher> (154)', '[walktowards] <dishwasher> (154)', '[walktowards] <bedroom> (212)', '[walktowards] <bedroom> (212)', '[walktowards] <bedroom> (212)', '[walktowards] <bedroom> (212)', '[walktowards] <bedroom> (212)', '[walktowards] <bedroom> (212)', '[walktowards] <cabinet> (273)', '[walktowards] <cabinet> (273)', '[walktowards] <cabinet> (273)', '[walktowards] <cabinet> (273)', '[grab] <waterglass> (383)', '[walktowards] <kitchen> (109)', '[walktowards] <kitchen> (109)', '[walktowards] <kitchen> (109)', '[walktowards] <kitchen> (109)', '[walktowards] <kitchen> (109)', '[walktowards] <dishwasher> (154)', '[walktowards] <dishwasher> (154)', '[walktowards] <dishwasher> (154)', '[walktowards] <dishwasher> (154)', '[walktowards] <dishwasher> (154)', '[walktowards] <bedroom> (212)', '[walktowards] <bedroom> (212)', '[walktowards] <bedroom> (212)', '[walktowards] <bedroom> (212)', '[walktowards] <bedroom> (212)', '[walktowards] <bedroom> (212)', '[walktowards] <cabinet> (273)', '[walktowards] <cabinet> (273)', '[walktowards] <cabinet> (273)', '[walktowards] <cabinet> (273)', '[grab] <waterglass> (383)', '[walktowards] <kitchen> (109)', '[walktowards] <kitchen> (109)', '[walktowards] <kitchen> (109)', '[walktowards] <kitchen> (109)', '[walktowards] <kitchen> (109)', '[walktowards] <dishwasher> (154)', '[walktowards] <dishwasher> (154)', '[walktowards] <dishwasher> (154)', '[walktowards] <dishwasher> (154)', '[walktowards] <dishwasher> (154)', '[walktowards] <bedroom> (212)']\n",
      "False\n"
     ]
    }
   ],
   "source": [
    "with open(episodes[40], 'rb') as f:\n",
    "    content = pkl.load(f)\n",
    "print(content['action'][0])\n",
    "print(content['finished'])"
   ]
  },
  {
   "cell_type": "code",
   "execution_count": 6,
   "metadata": {},
   "outputs": [
    {
     "ename": "NameError",
     "evalue": "name 'content' is not defined",
     "output_type": "error",
     "traceback": [
      "\u001b[0;31m---------------------------------------------------------------------------\u001b[0m",
      "\u001b[0;31mNameError\u001b[0m                                 Traceback (most recent call last)",
      "\u001b[0;32m<ipython-input-6-22512fc98d34>\u001b[0m in \u001b[0;36m<module>\u001b[0;34m\u001b[0m\n\u001b[0;32m----> 1\u001b[0;31m \u001b[0mcontent\u001b[0m\u001b[0;34m[\u001b[0m\u001b[0;34m'goals'\u001b[0m\u001b[0;34m]\u001b[0m\u001b[0;34m\u001b[0m\u001b[0;34m\u001b[0m\u001b[0m\n\u001b[0m",
      "\u001b[0;31mNameError\u001b[0m: name 'content' is not defined"
     ]
    }
   ],
   "source": [
    "content['goals']"
   ]
  },
  {
   "cell_type": "code",
   "execution_count": 7,
   "metadata": {},
   "outputs": [],
   "source": [
    "def get_task_type(episode_content):\n",
    "    if type(episode_content) == str:\n",
    "        with open(episode_content, 'rb') as f:\n",
    "            episode_content = pkl.load(f)\n",
    "    goals = episode_content['gt_goals']\n",
    "    num_preds = sum(goals.values())\n",
    "    name_preds = [goal_name.split('_')[1] for goal_name in goals.keys()]\n",
    "    return {'pred_name': episode_content['task_name'], 'num_preds': num_preds}\n",
    "    "
   ]
  },
  {
   "cell_type": "code",
   "execution_count": 8,
   "metadata": {},
   "outputs": [],
   "source": [
    "def get_task_info(episode_content):\n",
    "#     print(episode_content)\n",
    "    if type(episode_content) == str:\n",
    "        with open(episode_content, 'rb') as f:\n",
    "            episode_content = pkl.load(f)\n",
    "    \n",
    "    length = len(episode_content['action'][0])\n",
    "    \n",
    "    # Check distribution of objects\n",
    "    first_graph = episode_content['graph'][0]\n",
    "    objects_interest = ['cupcake', 'salmon', 'apple', 'plate', 'waterglass', \n",
    "                    'cutleryfork', 'wineglass', 'pudding', 'remotecontrol', 'condimentbottle', 'chips']\n",
    "    obj2id = {name:index for index, name in enumerate(objects_interest)}\n",
    "    \n",
    "    object_relation_count = {}\n",
    "    count_obj = [0 for _ in objects_interest]\n",
    "    for object_name in objects_interest: \n",
    "        object_relation_count[object_name] = []\n",
    "        \n",
    "    id2node = {node['id']: node for node in first_graph['nodes']}\n",
    "    \n",
    "    # For every destination object, check the different locations\n",
    "    for edge in first_graph['edges']:\n",
    "        class_name = id2node[edge['from_id']]['class_name']\n",
    "        if class_name in objects_interest:\n",
    "            class_name_dest = id2node[edge['to_id']]['class_name']\n",
    "            relation = edge['relation_type'].lower()\n",
    "            if relation in ['close', 'facing']:\n",
    "                continue\n",
    "            full_relation_name = f'{relation}.{class_name_dest}'\n",
    "            object_relation_count[class_name].append(full_relation_name)\n",
    "    \n",
    "    for node in first_graph['nodes']:\n",
    "        class_name = node['class_name']\n",
    "        if class_name in objects_interest:\n",
    "            class_name_id = obj2id[class_name]\n",
    "            count_obj[class_name_id] += 1\n",
    "            \n",
    "    # Counter over relations\n",
    "    for class_name in objects_interest:\n",
    "        object_relation_count[class_name] = Counter(object_relation_count[class_name])\n",
    "    \n",
    "    info = get_task_type(episode_content)\n",
    "    info.update({'count_obj': count_obj})\n",
    "    info.update({'obj_relations': object_relation_count})\n",
    "    info['len_prog'] = length\n",
    "    return info\n",
    "    "
   ]
  },
  {
   "cell_type": "code",
   "execution_count": null,
   "metadata": {},
   "outputs": [],
   "source": [
    "# episodes = list(cont.keys())\n",
    "with open(episodes[0], 'rb') as f:\n",
    "    content_episode = pkl.load(f)"
   ]
  },
  {
   "cell_type": "code",
   "execution_count": 23,
   "metadata": {},
   "outputs": [
    {
     "data": {
      "application/vnd.jupyter.widget-view+json": {
       "model_id": "a27ad04eb44240808f018e0dcabf49da",
       "version_major": 2,
       "version_minor": 0
      },
      "text/plain": [
       "HBox(children=(IntProgress(value=0, max=7988), HTML(value='')))"
      ]
     },
     "metadata": {},
     "output_type": "display_data"
    },
    {
     "ename": "TypeError",
     "evalue": "unsupported operand type(s) for +: 'int' and 'dict'",
     "output_type": "error",
     "traceback": [
      "\u001b[0;31m---------------------------------------------------------------------------\u001b[0m",
      "\u001b[0;31mRemoteTraceback\u001b[0m                           Traceback (most recent call last)",
      "\u001b[0;31mRemoteTraceback\u001b[0m: \n\"\"\"\nTraceback (most recent call last):\n  File \"/data/vision/torralba/frames/tools/anaconda3/envs/vh_challenge/lib/python3.7/site-packages/multiprocess/pool.py\", line 121, in worker\n    result = (True, func(*args, **kwds))\n  File \"/data/vision/torralba/frames/tools/anaconda3/envs/vh_challenge/lib/python3.7/site-packages/pathos/helpers/mp_helper.py\", line 15, in <lambda>\n    func = lambda args: f(*args)\n  File \"<ipython-input-8-fad4c56b3c0c>\", line 43, in get_task_info\n    info = get_task_type(episode_content)\n  File \"<ipython-input-7-8269e36f8c61>\", line 6, in get_task_type\n    num_preds = sum(goals.values())\nTypeError: unsupported operand type(s) for +: 'int' and 'dict'\n\"\"\"",
      "\nThe above exception was the direct cause of the following exception:\n",
      "\u001b[0;31mTypeError\u001b[0m                                 Traceback (most recent call last)",
      "\u001b[0;32m<ipython-input-23-f1cc112c4ce6>\u001b[0m in \u001b[0;36m<module>\u001b[0;34m\u001b[0m\n\u001b[0;32m----> 1\u001b[0;31m \u001b[0mresults\u001b[0m \u001b[0;34m=\u001b[0m \u001b[0mp_map\u001b[0m\u001b[0;34m(\u001b[0m\u001b[0mget_task_info\u001b[0m\u001b[0;34m,\u001b[0m \u001b[0mepisodes\u001b[0m\u001b[0;34m)\u001b[0m\u001b[0;34m\u001b[0m\u001b[0;34m\u001b[0m\u001b[0m\n\u001b[0m\u001b[1;32m      2\u001b[0m \u001b[0;31m# results = [get_task_info(episode) for episode in episodes]\u001b[0m\u001b[0;34m\u001b[0m\u001b[0;34m\u001b[0m\u001b[0;34m\u001b[0m\u001b[0m\n",
      "\u001b[0;32m~/tools/anaconda3/envs/vh_challenge/lib/python3.7/site-packages/p_tqdm/p_tqdm.py\u001b[0m in \u001b[0;36mp_map\u001b[0;34m(function, *iterables, **kwargs)\u001b[0m\n\u001b[1;32m     58\u001b[0m     \u001b[0mordered\u001b[0m \u001b[0;34m=\u001b[0m \u001b[0;32mTrue\u001b[0m\u001b[0;34m\u001b[0m\u001b[0;34m\u001b[0m\u001b[0m\n\u001b[1;32m     59\u001b[0m     \u001b[0mgenerator\u001b[0m \u001b[0;34m=\u001b[0m \u001b[0m_parallel\u001b[0m\u001b[0;34m(\u001b[0m\u001b[0mordered\u001b[0m\u001b[0;34m,\u001b[0m \u001b[0mfunction\u001b[0m\u001b[0;34m,\u001b[0m \u001b[0;34m*\u001b[0m\u001b[0miterables\u001b[0m\u001b[0;34m,\u001b[0m \u001b[0;34m**\u001b[0m\u001b[0mkwargs\u001b[0m\u001b[0;34m)\u001b[0m\u001b[0;34m\u001b[0m\u001b[0;34m\u001b[0m\u001b[0m\n\u001b[0;32m---> 60\u001b[0;31m     \u001b[0mresult\u001b[0m \u001b[0;34m=\u001b[0m \u001b[0mlist\u001b[0m\u001b[0;34m(\u001b[0m\u001b[0mgenerator\u001b[0m\u001b[0;34m)\u001b[0m\u001b[0;34m\u001b[0m\u001b[0;34m\u001b[0m\u001b[0m\n\u001b[0m\u001b[1;32m     61\u001b[0m \u001b[0;34m\u001b[0m\u001b[0m\n\u001b[1;32m     62\u001b[0m     \u001b[0;32mreturn\u001b[0m \u001b[0mresult\u001b[0m\u001b[0;34m\u001b[0m\u001b[0;34m\u001b[0m\u001b[0m\n",
      "\u001b[0;32m~/tools/anaconda3/envs/vh_challenge/lib/python3.7/site-packages/p_tqdm/p_tqdm.py\u001b[0m in \u001b[0;36m_parallel\u001b[0;34m(ordered, function, *iterables, **kwargs)\u001b[0m\n\u001b[1;32m     47\u001b[0m     \u001b[0mmap_func\u001b[0m \u001b[0;34m=\u001b[0m \u001b[0mgetattr\u001b[0m\u001b[0;34m(\u001b[0m\u001b[0mpool\u001b[0m\u001b[0;34m,\u001b[0m \u001b[0mmap_type\u001b[0m\u001b[0;34m)\u001b[0m\u001b[0;34m\u001b[0m\u001b[0;34m\u001b[0m\u001b[0m\n\u001b[1;32m     48\u001b[0m \u001b[0;34m\u001b[0m\u001b[0m\n\u001b[0;32m---> 49\u001b[0;31m     \u001b[0;32mfor\u001b[0m \u001b[0mitem\u001b[0m \u001b[0;32min\u001b[0m \u001b[0mtqdm\u001b[0m\u001b[0;34m(\u001b[0m\u001b[0mmap_func\u001b[0m\u001b[0;34m(\u001b[0m\u001b[0mfunction\u001b[0m\u001b[0;34m,\u001b[0m \u001b[0;34m*\u001b[0m\u001b[0miterables\u001b[0m\u001b[0;34m)\u001b[0m\u001b[0;34m,\u001b[0m \u001b[0mtotal\u001b[0m\u001b[0;34m=\u001b[0m\u001b[0mlength\u001b[0m\u001b[0;34m,\u001b[0m \u001b[0;34m**\u001b[0m\u001b[0mkwargs\u001b[0m\u001b[0;34m)\u001b[0m\u001b[0;34m:\u001b[0m\u001b[0;34m\u001b[0m\u001b[0;34m\u001b[0m\u001b[0m\n\u001b[0m\u001b[1;32m     50\u001b[0m         \u001b[0;32myield\u001b[0m \u001b[0mitem\u001b[0m\u001b[0;34m\u001b[0m\u001b[0;34m\u001b[0m\u001b[0m\n\u001b[1;32m     51\u001b[0m \u001b[0;34m\u001b[0m\u001b[0m\n",
      "\u001b[0;32m~/tools/anaconda3/envs/vh_challenge/lib/python3.7/site-packages/tqdm/_tqdm_notebook.py\u001b[0m in \u001b[0;36m__iter__\u001b[0;34m(self, *args, **kwargs)\u001b[0m\n\u001b[1;32m    219\u001b[0m     \u001b[0;32mdef\u001b[0m \u001b[0m__iter__\u001b[0m\u001b[0;34m(\u001b[0m\u001b[0mself\u001b[0m\u001b[0;34m,\u001b[0m \u001b[0;34m*\u001b[0m\u001b[0margs\u001b[0m\u001b[0;34m,\u001b[0m \u001b[0;34m**\u001b[0m\u001b[0mkwargs\u001b[0m\u001b[0;34m)\u001b[0m\u001b[0;34m:\u001b[0m\u001b[0;34m\u001b[0m\u001b[0;34m\u001b[0m\u001b[0m\n\u001b[1;32m    220\u001b[0m         \u001b[0;32mtry\u001b[0m\u001b[0;34m:\u001b[0m\u001b[0;34m\u001b[0m\u001b[0;34m\u001b[0m\u001b[0m\n\u001b[0;32m--> 221\u001b[0;31m             \u001b[0;32mfor\u001b[0m \u001b[0mobj\u001b[0m \u001b[0;32min\u001b[0m \u001b[0msuper\u001b[0m\u001b[0;34m(\u001b[0m\u001b[0mtqdm_notebook\u001b[0m\u001b[0;34m,\u001b[0m \u001b[0mself\u001b[0m\u001b[0;34m)\u001b[0m\u001b[0;34m.\u001b[0m\u001b[0m__iter__\u001b[0m\u001b[0;34m(\u001b[0m\u001b[0;34m*\u001b[0m\u001b[0margs\u001b[0m\u001b[0;34m,\u001b[0m \u001b[0;34m**\u001b[0m\u001b[0mkwargs\u001b[0m\u001b[0;34m)\u001b[0m\u001b[0;34m:\u001b[0m\u001b[0;34m\u001b[0m\u001b[0;34m\u001b[0m\u001b[0m\n\u001b[0m\u001b[1;32m    222\u001b[0m                 \u001b[0;31m# return super(tqdm...) will not catch exception\u001b[0m\u001b[0;34m\u001b[0m\u001b[0;34m\u001b[0m\u001b[0;34m\u001b[0m\u001b[0m\n\u001b[1;32m    223\u001b[0m                 \u001b[0;32myield\u001b[0m \u001b[0mobj\u001b[0m\u001b[0;34m\u001b[0m\u001b[0;34m\u001b[0m\u001b[0m\n",
      "\u001b[0;32m~/tools/anaconda3/envs/vh_challenge/lib/python3.7/site-packages/tqdm/_tqdm.py\u001b[0m in \u001b[0;36m__iter__\u001b[0;34m(self)\u001b[0m\n\u001b[1;32m   1020\u001b[0m                 \"\"\"), fp_write=getattr(self.fp, 'write', sys.stderr.write))\n\u001b[1;32m   1021\u001b[0m \u001b[0;34m\u001b[0m\u001b[0m\n\u001b[0;32m-> 1022\u001b[0;31m             \u001b[0;32mfor\u001b[0m \u001b[0mobj\u001b[0m \u001b[0;32min\u001b[0m \u001b[0miterable\u001b[0m\u001b[0;34m:\u001b[0m\u001b[0;34m\u001b[0m\u001b[0;34m\u001b[0m\u001b[0m\n\u001b[0m\u001b[1;32m   1023\u001b[0m                 \u001b[0;32myield\u001b[0m \u001b[0mobj\u001b[0m\u001b[0;34m\u001b[0m\u001b[0;34m\u001b[0m\u001b[0m\n\u001b[1;32m   1024\u001b[0m                 \u001b[0;31m# Update and possibly print the progressbar.\u001b[0m\u001b[0;34m\u001b[0m\u001b[0;34m\u001b[0m\u001b[0;34m\u001b[0m\u001b[0m\n",
      "\u001b[0;32m~/tools/anaconda3/envs/vh_challenge/lib/python3.7/site-packages/multiprocess/pool.py\u001b[0m in \u001b[0;36mnext\u001b[0;34m(self, timeout)\u001b[0m\n\u001b[1;32m    746\u001b[0m         \u001b[0;32mif\u001b[0m \u001b[0msuccess\u001b[0m\u001b[0;34m:\u001b[0m\u001b[0;34m\u001b[0m\u001b[0;34m\u001b[0m\u001b[0m\n\u001b[1;32m    747\u001b[0m             \u001b[0;32mreturn\u001b[0m \u001b[0mvalue\u001b[0m\u001b[0;34m\u001b[0m\u001b[0;34m\u001b[0m\u001b[0m\n\u001b[0;32m--> 748\u001b[0;31m         \u001b[0;32mraise\u001b[0m \u001b[0mvalue\u001b[0m\u001b[0;34m\u001b[0m\u001b[0;34m\u001b[0m\u001b[0m\n\u001b[0m\u001b[1;32m    749\u001b[0m \u001b[0;34m\u001b[0m\u001b[0m\n\u001b[1;32m    750\u001b[0m     \u001b[0m__next__\u001b[0m \u001b[0;34m=\u001b[0m \u001b[0mnext\u001b[0m                    \u001b[0;31m# XXX\u001b[0m\u001b[0;34m\u001b[0m\u001b[0;34m\u001b[0m\u001b[0m\n",
      "\u001b[0;31mTypeError\u001b[0m: unsupported operand type(s) for +: 'int' and 'dict'"
     ]
    }
   ],
   "source": [
    "results = p_map(get_task_info, episodes)\n",
    "# results = [get_task_info(episode) for episode in episodes]"
   ]
  },
  {
   "cell_type": "code",
   "execution_count": null,
   "metadata": {},
   "outputs": [],
   "source": [
    "names = [\"setup_table\", \"put_dishwasher\", \"put_fridge\", \"prepare_food\", \"watch_tv\"]\n",
    "objects_interest = ['cupcake', 'salmon', 'apple', 'plate', 'waterglass', \n",
    "                    'cutleryfork', 'wineglass', 'pudding', 'remotecontrol', 'condimentbottle', 'chips']\n"
   ]
  },
  {
   "cell_type": "code",
   "execution_count": null,
   "metadata": {},
   "outputs": [],
   "source": [
    "\n",
    "name_dict = {name: it for it, name in enumerate(names)}\n",
    "count_episodes = [0 for _ in names]\n",
    "count_pred = [0 for _ in names]\n",
    "count_length = [0 for _ in names]\n",
    "for pred_dict in results:\n",
    "    res, npred, length = pred_dict['pred_name'], pred_dict['num_preds'], pred_dict['len_prog']\n",
    "    index = name_dict[res]\n",
    "    count_episodes[index] += 1\n",
    "    count_pred[index] += npred\n",
    "    count_length[index] += length\n",
    "    \n",
    "for ind in range(len(names)):\n",
    "    count_pred[ind] *= 1.0 / count_episodes[ind]  \n",
    "    count_length[ind] *= 1.0 / count_episodes[ind]  "
   ]
  },
  {
   "cell_type": "code",
   "execution_count": null,
   "metadata": {},
   "outputs": [],
   "source": [
    "# Get object counts\n",
    "obj_counts = [[] for _ in names]\n",
    "for result in results:\n",
    "    task_name = result['pred_name']\n",
    "    task_id = name_dict[task_name]\n",
    "    obj_counts[task_id].append(np.array(result['count_obj'])[None, ])\n",
    "    "
   ]
  },
  {
   "cell_type": "code",
   "execution_count": null,
   "metadata": {},
   "outputs": [],
   "source": [
    "all_count_max, all_count_mean = [None for _ in names], [None for _ in names]\n",
    "for it in range(len(names)):\n",
    "    all_counts = np.concatenate(obj_counts[it])\n",
    "    print(all_counts.shape)\n",
    "    all_count_mean[it] = np.mean(all_counts, axis=0)\n",
    "    all_count_max[it] = np.max(all_counts, axis=0)"
   ]
  },
  {
   "cell_type": "code",
   "execution_count": null,
   "metadata": {},
   "outputs": [],
   "source": [
    "fig, ax2 = plt.subplots(1,1, figsize=(8,3))\n",
    "x = np.array(range(len(objects_interest)))\n",
    "for idi in range(len(names)):\n",
    "    gap = idi + 0.5 - len(names)/2\n",
    "    gap *= 1./(len(objects_interest))\n",
    "    gp = 1./(len(objects_interest))\n",
    "    ax2.bar(x+gap, list(all_count_mean[idi]), width=gp, label=names[idi])\n",
    "    ax2.set_xticks(x)\n",
    "    ax2.set_xticklabels(objects_interest)\n",
    "    plt.legend()"
   ]
  },
  {
   "cell_type": "code",
   "execution_count": null,
   "metadata": {},
   "outputs": [],
   "source": [
    "fig, ax2 = plt.subplots(1,1, figsize=(8,3))\n",
    "x = np.array(range(len(objects_interest)))\n",
    "for idi in range(len(names)):\n",
    "    gap = idi + 0.5 - len(names)/2\n",
    "    gap *= 1./(len(objects_interest))\n",
    "    gp = 1./(len(objects_interest))\n",
    "    ax2.bar(x+gap, list(all_count_max[idi]), width=gp, label=names[idi])\n",
    "    ax2.set_xticks(x)\n",
    "    ax2.set_xticklabels(objects_interest)\n",
    "    plt.legend()"
   ]
  },
  {
   "cell_type": "code",
   "execution_count": null,
   "metadata": {
    "scrolled": true
   },
   "outputs": [],
   "source": [
    "\n",
    "fig, ax2 = plt.subplots(1,3, figsize=(12,3))\n",
    "x = range(len(names))\n",
    "ax = ax2[0]\n",
    "ax.bar(x, count_episodes)\n",
    "ax.set_xticks(x)\n",
    "ax.set_xticklabels(names,  rotation=40)\n",
    "ax.set_title('Number of programs')\n",
    "\n",
    "ax = ax2[1]\n",
    "ax.bar(x, count_pred)\n",
    "ax.set_xticks(x)\n",
    "ax.set_xticklabels(names, rotation=40)\n",
    "ax.set_title('Number of predicates')\n",
    "\n",
    "ax = ax2[2]\n",
    "ax.bar(x, count_length)\n",
    "ax.set_xticks(x)\n",
    "ax.set_xticklabels(names,  rotation=40)\n",
    "ax.set_title('Length Episode')"
   ]
  },
  {
   "cell_type": "code",
   "execution_count": null,
   "metadata": {},
   "outputs": [],
   "source": [
    "count_episodes"
   ]
  },
  {
   "cell_type": "code",
   "execution_count": null,
   "metadata": {},
   "outputs": [],
   "source": [
    "# Agregate relstions\n",
    "aggregate_relations = {}\n",
    "\n",
    "all_relation_names = []\n",
    "for result in results:\n",
    "    result_rel = result['obj_relations']\n",
    "    for result_object, counter_result in result_rel.items():\n",
    "        all_relation_names += list(counter_result.keys())\n",
    "\n",
    "all_relation_names = list(set(all_relation_names))\n",
    "relation_name_to_index = {rel_name: ind for ind, rel_name in enumerate(all_relation_names)}\n",
    "\n",
    "# For every object, a list of counts\n",
    "all_relations = {}\n",
    "for task_name in names:\n",
    "    all_relations[task_name] = {}\n",
    "    for object_name_interest in objects_interest:\n",
    "        all_relations[task_name][object_name_interest] = [0 for _ in all_relation_names]\n",
    "    \n",
    "for result in results:\n",
    "    task_name = result['pred_name']\n",
    "    result_rel = result['obj_relations']\n",
    "    for result_object, counter_result in result_rel.items():\n",
    "        for relation_name, relation_count in counter_result.items():\n",
    "            index = relation_name_to_index[relation_name]\n",
    "            all_relations[task_name][result_object][index] += relation_count\n",
    "\n",
    "# Average over episodes\n",
    "for index_task, task_name in enumerate(names):\n",
    "    count_ep = count_length[index_task]\n",
    "    for object_interest in objects_interest:\n",
    "        all_relations[task_name][object_interest] = np.array(all_relations[task_name][object_interest])/count_ep\n",
    "            \n",
    "            \n",
    "# len(all_relation_names)\n",
    "\n",
    "# for result in results:\n",
    "#     for obj_name in objects_interest:\n",
    "        \n",
    "# results[0]['obj_relations']"
   ]
  },
  {
   "cell_type": "code",
   "execution_count": null,
   "metadata": {},
   "outputs": [],
   "source": [
    "for task_name in [names[0]]:\n",
    "    fig, ax2 = plt.subplots(len(objects_interest),1, figsize=(8, 8))\n",
    "    for it_object_interest, name in enumerate(objects_interest):\n",
    "        print(name)\n",
    "        array_res = all_relations[task_name][name]\n",
    "        print(array_res)\n",
    "        array_res = list(array_res)\n",
    "        for it, elem in enumerate(array_res):\n",
    "            relation_name = all_relation_names[it]\n",
    "            ax2[it_object_interest].bar(it, array_res[it], label=relation_name)\n",
    "            ax.set_xticks([])\n"
   ]
  },
  {
   "cell_type": "code",
   "execution_count": null,
   "metadata": {},
   "outputs": [],
   "source": [
    "print(len(objects_interest))\n",
    "fig, ax2 = plt.subplots(len(objects_interest),1, figsize=(12, 4*len(objects_interest)))\n",
    "for id_task_name, task_name in enumerate(names):\n",
    "    pattern = [\"\", \"//\", '**', '\\\\'][id_task_name]\n",
    "    for it_object_interest, name in enumerate(objects_interest):\n",
    "#         print(name)\n",
    "        array_res = all_relations[task_name][name]\n",
    "#         print(array_res)\n",
    "        array_res = list(array_res)\n",
    "        colors = list(mcd.CSS4_COLORS.values())\n",
    "        for it, elem in enumerate(array_res):\n",
    "            relation_name = all_relation_names[it]\n",
    "#             ax2[it_object_interest].bar(it*2 + id_task_name, array_res[it], label=relation_name, width=0.5)\n",
    "            gp = 1./len(names)\n",
    "            gap = gp * (id_task_name +0.5 - len(names)/2.)\n",
    "            ax2[it_object_interest].bar(it + gap, array_res[it], width=gp, \n",
    "                                        label=relation_name, hatch=pattern,  color=colors[it % len(colors)])\n",
    "        \n",
    "        ax2[it_object_interest].set_title(name)\n",
    "        ax2[it_object_interest].set_ylim([0,2])\n",
    "        ax2[it_object_interest].set_xticks(range(len(array_res)))\n",
    "        ax2[it_object_interest].set_xticklabels(all_relation_names, rotation=40)\n",
    "        ax2[it_object_interest].grid(axis='y')\n",
    "#     if id_task_name == 0:\n",
    "#         plt.legend(ncol=3)"
   ]
  },
  {
   "cell_type": "code",
   "execution_count": null,
   "metadata": {},
   "outputs": [],
   "source": [
    "\n",
    "fig, ax2 = plt.subplots(4,1, figsize=(12, 8))\n",
    "for id_task_name, task_name in enumerate(names):\n",
    "    pattern = [\"\", \"//\"][id_task_name]\n",
    "    for it_object_interest, name in enumerate(objects_interest[:1]):\n",
    "#         print(name)\n",
    "        array_res = all_relations[task_name][name]\n",
    "#         print(array_res)\n",
    "        array_res = list(array_res)\n",
    "        for it, elem in enumerate(array_res):\n",
    "            relation_name = all_relation_names[it]\n",
    "#             ax2[it_object_interest].bar(it*2 + id_task_name, array_res[it], label=relation_name, width=0.5)\n",
    "            ax2[it_object_interest].bar(it*2 + id_task_name, array_res[it], label=relation_name, hatch=pattern)\n",
    "        \n",
    "        ax2[it_object_interest].set_title(name)\n",
    "        ax2[it_object_interest].set_ylim([0,100])\n",
    "        ax2[it_object_interest].set_xticks([])\n",
    "        \n",
    "        ax2[it_object_interest].grid(axis='y')\n",
    "    if id_task_name == 0 and it_object_interest == 0:\n",
    "#         ax2[0].legend(ncol=4)\n",
    "        ax2[0].legend(loc='center left', bbox_to_anchor=(1, 0.5))"
   ]
  },
  {
   "cell_type": "code",
   "execution_count": null,
   "metadata": {},
   "outputs": [],
   "source": []
  }
 ],
 "metadata": {
  "kernelspec": {
   "display_name": "Python 3",
   "language": "python",
   "name": "python3"
  },
  "language_info": {
   "codemirror_mode": {
    "name": "ipython",
    "version": 3
   },
   "file_extension": ".py",
   "mimetype": "text/x-python",
   "name": "python",
   "nbconvert_exporter": "python",
   "pygments_lexer": "ipython3",
   "version": "3.7.6"
  }
 },
 "nbformat": 4,
 "nbformat_minor": 4
}
