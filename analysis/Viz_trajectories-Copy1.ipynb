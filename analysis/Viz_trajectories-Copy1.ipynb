{
 "cells": [
  {
   "cell_type": "code",
   "execution_count": 296,
   "metadata": {},
   "outputs": [],
   "source": [
    "import pickle as pkl\n",
    "import numpy as np\n",
    "from celluloid import Camera\n",
    "import pdb\n",
    "import scipy\n",
    "import ipdb\n",
    "import math\n",
    "from tqdm import tqdm\n",
    "import matplotlib.pyplot as plt\n",
    "from matplotlib.collections import PatchCollection\n",
    "from scipy.spatial.transform import Rotation as R\n",
    "from matplotlib.patches import Rectangle\n",
    "from IPython.display import HTML\n",
    "import cv2"
   ]
  },
  {
   "cell_type": "code",
   "execution_count": 323,
   "metadata": {},
   "outputs": [],
   "source": [
    "def get_angle2(pos1, pos2):\n",
    "    dx = pos1[0] - pos2[0]\n",
    "    dy = pos1[2] - pos2[2]\n",
    "    return 180./math.pi * np.arctan2(dy, dx)\n",
    "\n",
    "def get_angle(rot):\n",
    "    rot = R.from_quat(rot)\n",
    "    euler = rot.as_euler('xzy')\n",
    "    # dchange = np.sin(euler[1])*np.cos(euler[0]), np.cos(euler[1])*np.sin(euler[0])\n",
    "    # dchange = np.sin(euler[1]+euler[0]), np.cos(euler[1]+euler[0])\n",
    "    x = np.cos(euler[2])*np.cos(euler[1])\n",
    "    y = np.sin(euler[2])*np.cos(euler[1])\n",
    "    z = np.sin(euler[1])\n",
    "    dchange = y, x\n",
    "    return np.arctan2(x,y)*180 / math.pi\n",
    "    \n",
    "def plot_graph_2d(graph, ax, goal_ids, belief_ids=[], c_obs_ids=None):\n",
    "\n",
    "\n",
    "    #nodes_interest = [node for node in graph['nodes'] if 'GRABBABLE' in node['properties']]\n",
    "    goals = [node for node in graph['nodes'] if node['class_name'] in goal_ids]\n",
    "    \n",
    "    belief_obj = [node for node in graph['nodes'] if node['id'] in belief_ids]\n",
    "\n",
    "    # container_surf = dict_info['objects_inside'] + dict_info['objects_surface']\n",
    "#     pdb.set_trace()\n",
    "    container_surf = ['kitchentable', 'cabinet', 'kitchencabinet', 'kitchencabinets', 'fridge', 'bathroomcabinet', 'stove', 'coffeetable', 'dishwasher']\n",
    "    container_and_surface = [node for node in graph['nodes'] if node['class_name'] in container_surf]\n",
    "    container_open = [node for node in graph['nodes'] if node['class_name'] in container_surf and 'OPEN' in node['states']]\n",
    "    container_open_id = [n['id'] for n in container_open]\n",
    "    c_obs_ids = [c for c in c_obs_ids if c not in container_open_id]\n",
    "    obs_objects = [node for node in graph['nodes'] if node['id'] in c_obs_ids and node['category'] not in ['Rooms', 'Doors'] and node['class_name'] != 'character']\n",
    "    \n",
    "    \n",
    "    node_char = [node for node in graph['nodes'] if node['id'] == 1][0]\n",
    "#     for ob in obs_objects:\n",
    "#         pos_char = node_char['obj_transform']['position']\n",
    "#         angle_char = get_angle(node_char['obj_transform']['rotation'])\n",
    "#         print(ob['class_name'], get_angle2(ob['obj_transform']['position'], pos_char), angle_char)\n",
    "    \n",
    "    #grabbed_obj = [node for node in graph['nodes'] if node['class_name'] in dict_info['objects_grab']]\n",
    "    rooms = [node for node in graph['nodes'] if 'Rooms' == node['category']]\n",
    "\n",
    "\n",
    "    # containers and surfaces\n",
    "    # visible_nodes = [node for node in graph['nodes'] if node['id'] in visible_ids and node['category'] != 'Rooms']\n",
    "    # action_nodes = [node for node in graph['nodes'] if node['id'] in action_ids and node['category'] != 'Rooms']\n",
    "\n",
    "    # goal_nodes = [node for node in graph['nodes'] if node['class_name'] == 'cupcake']\n",
    "\n",
    "    # Character\n",
    "    # char_node = [node for node in graph['nodes'] if node['id'] == char_id][0]\n",
    "\n",
    "    \n",
    "    add_boxes(rooms, ax, points=None, rect={'alpha': 0.1})\n",
    "    \n",
    "        \n",
    "    if len(container_and_surface) > 0:\n",
    "        add_boxes(container_and_surface, ax, points=None, rect={'fill': False, 'edgecolor': 'blue', 'alpha': 0.3})\n",
    "        \n",
    "    if len(container_open) > 0:\n",
    "#         print(\"HERE\")\n",
    "        add_boxes(container_open, ax, points=None, rect={'fill': False, 'edgecolor': 'orange', 'alpha': 1.0})\n",
    "        \n",
    "    #add_boxes([char_node], ax, points=None, rect={'facecolor': 'yellow', 'edgecolor': 'yellow', 'alpha': 0.7})\n",
    "    #add_boxes(visible_nodes, ax, points={'s': 2.0, 'alpha': 1.0}, rect={'fill': False,\n",
    "    #                     \n",
    "    \n",
    "    #add_boxes(action_nodes, ax, points={'s': 3.0, 'alpha': 1.0, 'c': 'red'})\n",
    "\n",
    "\n",
    "    #bad_classes = ['character']\n",
    "    if len(obs_objects):\n",
    "        add_boxes(obs_objects, ax, points=None, rect={'fill': False, 'edgecolor': 'green', 'alpha': 0.5})\n",
    "    \n",
    "    if len(goals) > 0:\n",
    "        add_boxes(goals, ax, points={'s':  40.0, 'alpha': 1.0, 'edgecolors': 'magenta', 'facecolors': 'none', 'linewidth': 1.0})\n",
    "    if len(belief_obj) > 0:\n",
    "        add_boxes(belief_obj, ax, points={'s':  30.0, 'alpha': 1.0, 'edgecolors': 'blue', 'facecolors': 'none', 'linewidth': 1.0})\n",
    "    \n",
    "    ax.set_aspect('equal')\n",
    "    bx, by = get_bounds([room['bounding_box'] for room in rooms])\n",
    "\n",
    "    maxsize = max(bx[1] - bx[0], by[1] - by[0])\n",
    "    gapx = (maxsize - (bx[1] - bx[0])) / 4.\n",
    "    gapy = (maxsize - (by[1] - by[0])) / 4.\n",
    "\n",
    "    ax.set_xlim(bx[0]-gapx, bx[1]+gapx)\n",
    "    ax.set_ylim(by[0]-gapy, by[1]+gapy)\n",
    "    ax.apply_aspect()\n",
    "    \n",
    "def add_box(nodes, args_rect):\n",
    "    rectangles = []\n",
    "    centers = [[], []]\n",
    "    for node in nodes:\n",
    "        cx, cy = node['bounding_box']['center'][0], node['bounding_box']['center'][2]\n",
    "        w, h = node['bounding_box']['size'][0], node['bounding_box']['size'][2]\n",
    "        minx, miny = cx - w / 2., cy - h / 2.\n",
    "        centers[0].append(cx)\n",
    "        centers[1].append(cy)\n",
    "        if args_rect is not None:\n",
    "            rectangles.append(\n",
    "                Rectangle((minx, miny), w, h, **args_rect)\n",
    "            )\n",
    "    return rectangles, centers\n",
    "\n",
    "\n",
    "def add_boxes(nodes, ax, points=None, rect=None):\n",
    "    rectangles = []\n",
    "    rectangles_class, center = add_box(nodes, rect)\n",
    "    rectangles += rectangles_class\n",
    "    if points is not None:\n",
    "        ax.scatter(center[0], center[1], **points)\n",
    "    if rect is not None:\n",
    "        ax.add_patch(rectangles[0])\n",
    "        collection = PatchCollection(rectangles, match_original=True)\n",
    "        ax.add_collection(collection)\n",
    "        \n",
    "def get_bounds(bounds):\n",
    "    minx, maxx = None, Non\n",
    "    miny, maxy = None, None\n",
    "    for bound in bounds:\n",
    "        bgx, sx = bound['center'][0] + bound['size'][0] / 2., bound['center'][0] - bound['size'][0] / 2.\n",
    "        bgy, sy = bound['center'][2] + bound['size'][2] / 2., bound['center'][2] - bound['size'][2] / 2.\n",
    "        minx = sx if minx is None else min(minx, sx)\n",
    "        miny = sy if miny is None else min(miny, sy)\n",
    "        maxx = bgx if maxx is None else max(maxx, bgx)\n",
    "        maxy = bgy if maxy is None else max(maxy, bgy)\n",
    "    return (minx, maxx), (miny, maxy)"
   ]
  },
  {
   "cell_type": "code",
   "execution_count": 418,
   "metadata": {},
   "outputs": [],
   "source": [
    "def visualize_trajectory(file_path=None, gen_vid=False, plot_belief=False, belief_id=None, \n",
    "                         full_obs=False, plot_img=False, frame_end=-1, plot_special_actions=False):\n",
    "    char_id = 1\n",
    "    if belief_id is None:\n",
    "        plot_belief = False\n",
    "    with open(file_path, 'rb') as f:\n",
    "        content = pkl.load(f)\n",
    "    \n",
    "    goal_objs = [x.split('_')[1] for x,y in content['goals'][0].items() if y > 0]\n",
    "    obs_ids = content['obs']\n",
    "    \n",
    "    \n",
    "    observations = content['graph']\n",
    "    if 'obj_transform' in observations[0]['nodes'][0]:\n",
    "#         ipdb.set_trace()\n",
    "        coords = [[node['obj_transform'] for node in obs['nodes'] if node['id'] == char_id][0] for obs in observations]\n",
    "        rots = [get_angle(coord['rotation']) for coord in coords]\n",
    "        xy = np.array([[coord['position'][0],coord['position'][2]] for coord in coords])\n",
    "    else:\n",
    "        coords = [[node['bounding_box'] for node in obs['nodes'] if node['id'] == char_id][0] for obs in observations]\n",
    "        rots = None\n",
    "        xy = np.array([[coord['center'][0],coord['center'][2]] for coord in coords])\n",
    "        \n",
    "    n = 150\n",
    "    colors = plt.cm.jet(np.linspace(0,1,n))\n",
    "    if plot_img:\n",
    "        fig = plt.figure(figsize=(12,6))\n",
    "#         fig, axes = plt.subplots(2)\n",
    "#         ax = axes[0]\n",
    "#         ax_img = axes[1]\n",
    "        grid = plt.GridSpec(2, 3, wspace=0.1, hspace=0.1)\n",
    "        \n",
    "        ax = fig.add_subplot(grid[:, :2])\n",
    "        ax.axis('off')\n",
    "        ax_img = fig.add_subplot(grid[1, 2])\n",
    "        ax_img.axis('off')\n",
    "\n",
    "        \n",
    "    elif not plot_belief:\n",
    "        fig = plt.figure(figsize=(12,9))\n",
    "        ax = plt.axes()\n",
    "        plt.axis('off')\n",
    "    else:\n",
    "        fig = plt.figure(figsize=(12,6))\n",
    "        grid = plt.GridSpec(2, 3, wspace=0.1, hspace=0.1)\n",
    "        id_object = belief_id\n",
    "        if False:\n",
    "            try:\n",
    "                #pass\n",
    "                id_object = int(content['subgoals'][0][-1][0].split('_')[1])\n",
    "            except:\n",
    "                #pass\n",
    "                # ipdb.set_trace()\n",
    "                id_object = int(content['subgoals'][0][0][-1].split('_')[1])\n",
    "        ax = fig.add_subplot(grid[:, :2])\n",
    "        ax.axis('off')\n",
    "        ax_belief = fig.add_subplot(grid[1, 2])\n",
    "        id2name = {node['id']: node['class_name'] for node in content['init_unity_graph']['nodes']}\n",
    "    \n",
    "    if gen_vid:\n",
    "        camera = Camera(fig)\n",
    "    steps = len(xy)\n",
    "    steps_total = list(range(len(xy)))\n",
    "#     steps_total = steps_total[-10:]\n",
    "    if not gen_vid:\n",
    "        steps_total = [len(xy)-1]\n",
    "        if frame_end != -1:\n",
    "            steps_total = [frame_end]\n",
    "        \n",
    "    if plot_img:\n",
    "        steps_total[-1] = steps_total[-1] - 1\n",
    "    \n",
    "    print(steps_total)\n",
    "    for steps_t in tqdm(steps_total):\n",
    "        if plot_img:\n",
    "            folder = file_path.replace('/logs_episode', '/img/logs_episode').replace('.pik', '/')\n",
    "            img_path = folder + 'img_{:04d}.png'.format(steps_t)\n",
    "#             print(img_path)\n",
    "            img_tensor = cv2.imread(img_path)[:, :, ::-1]\n",
    "#             print(img_tensor.shape)\n",
    "            ax_img.imshow(img_tensor)\n",
    "        if obs_ids is not None:\n",
    "            try:\n",
    "                c_obs_ids = obs_ids[steps_t]\n",
    "            except:\n",
    "                c_obs_ids = obs_ids[-1]\n",
    "        if belief_id is None:\n",
    "            belief_ids = []\n",
    "        else:\n",
    "            belief_ids = [belief_id]\n",
    "        plot_graph_2d({'nodes': observations[steps_t]['nodes']}, ax, goal_objs, belief_ids, c_obs_ids)\n",
    "        if plot_belief:\n",
    "            belief_object = content['belief'][0][steps_t]\n",
    "            do_plot_belief(belief_object, id2name, id_object, ax_belief)\n",
    "        \n",
    "        its = steps_t\n",
    "        \n",
    "#         ax.scatter(cxy[:,0], cxy[:, 1], color=colors[its], s=50, marker= (3, 0, 270+angle))\n",
    "        \n",
    "        for steps in range(steps_t+1):\n",
    "            it = steps\n",
    "\n",
    "            if it > 0:\n",
    "                cxy = xy[it-1:it+1,:]\n",
    "                ax.plot(cxy[:,0], cxy[:, 1], '--', color=colors[min(it, len(colors)-1)], )\n",
    "                if not gen_vid:\n",
    "                    ax.plot(cxy[-1:,0], cxy[-1:, 1], '.', color=colors[min(it, len(colors)-1)], )\n",
    "                \n",
    "\n",
    "        if plot_special_actions:\n",
    "            steps_grab = [ls for ls in range(steps_t) if 'grab' in content['action'][0][ls]]\n",
    "            steps_open = [ls for ls in range(steps_t) if 'open' in content['action'][0][ls]]\n",
    "            # Grab actions\n",
    "            ax.plot(xy[steps_grab,0], xy[steps_grab, 1], '*', color='limegreen', )\n",
    "            # Put actions\n",
    "            ax.plot(xy[steps_open,0], xy[steps_open, 1], 'p', color='y', )\n",
    "        \n",
    "        \n",
    "        cxy = xy[its:its+1,:]\n",
    "        if rots is not None:\n",
    "            angle = rots[its]\n",
    "            ax.scatter(cxy[:,0]+0.3*np.cos(angle*np.pi/180.), cxy[:, 1]+0.3*np.sin(angle*np.pi/180), color='red', s=15)\n",
    "\n",
    "        else:\n",
    "            angle = 0\n",
    "        \n",
    "        ax.scatter(cxy[:,0], cxy[:, 1], color='cyan', s=50)\n",
    "\n",
    "        if gen_vid:\n",
    "            camera.snap()\n",
    "    if gen_vid:\n",
    "        if '/' in file_path:\n",
    "            dir_name, fname = file_path.split('/')[-2:]\n",
    "        else:\n",
    "            dir_name, fname = '', file_path\n",
    "        fname = fname.replace('.pik', '')\n",
    "        \n",
    "        fn = '{}_{}.mp4'.format(dir_name, fname)\n",
    "        print(fn)\n",
    "        final = camera.animate()\n",
    "        final.save(fn)\n",
    "        return final\n",
    "    return None\n",
    "\n",
    "def do_plot_belief(belief_object, id2name, id_object, currax):\n",
    "#     currax.clear()\n",
    "    belief_curr_object = belief_object[id_object]['INSIDE']\n",
    "    names = belief_curr_object[0]\n",
    "    probs = belief_curr_object[1]\n",
    "    names = [id2name[name] if name is not None else 'None' for name in names]\n",
    "    names = [name.replace('bathroom', 'b.').replace('kitchen', 'k.') for name in names]\n",
    "    probs = scipy.special.softmax(probs)\n",
    "    x = np.arange(len(names))\n",
    "    currax.bar(x, probs, color='blue')\n",
    "    currax.set_ylabel(\"Prob\")\n",
    "    currax.set_xticks(x)\n",
    "    currax.grid(axis='y')\n",
    "    currax.set_ylim([0,1])\n",
    "    currax.set_xticklabels(names, rotation=40)\n",
    "\n",
    "    \n",
    "def get_location_objects(content, tstep=0):\n",
    "    goal_obj = [x.split('_')[1] for x, y in content['goals'][0].items() if y > 0]\n",
    "    graph = content['init_unity_graph']\n",
    "    id2node = {node['id']: node for node in graph['nodes']}\n",
    "    ids = [node['id'] for node in content['init_unity_graph']['nodes'] if node['class_name'] in goal_obj]\n",
    "    locations = ['{} {} {}'.format(\n",
    "        id2node[edge['from_id']]['class_name'],\n",
    "        edge['relation_type'], \n",
    "        id2node[edge['to_id']]['class_name']) for edge in graph['edges'] if edge['from_id'] in ids]\n",
    "    print(\"Locations\")\n",
    "    for loc in locations:\n",
    "        print(loc)\n",
    "    print(\"Beliefs\")\n",
    "    beliefs = content['belief'][0][tstep]\n",
    "    print(ids)\n",
    "    for idi in ids:\n",
    "        \n",
    "        beliefs_obj = beliefs[idi]['INSIDE']\n",
    "        prob = scipy.special.softmax(beliefs_obj[1])\n",
    "        names = ['None' if name is None else id2node[name]['class_name'] for name in beliefs_obj[0]]\n",
    "        prob_loc = ['{}: {:.2f}'.format(names[it], prob[it]) for it in range(len(names))]\n",
    "        prob_loc = ' '.join(prob_loc)\n",
    "        print(id2node[idi]['class_name'], prob_loc)\n",
    "        \n",
    "        \n",
    "# #     print(locations)\n",
    "    \n",
    "    "
   ]
  },
  {
   "cell_type": "code",
   "execution_count": 417,
   "metadata": {},
   "outputs": [
    {
     "name": "stderr",
     "output_type": "stream",
     "text": [
      "100%|██████████| 151/151 [00:11<00:00,  8.63it/s]\n"
     ]
    },
    {
     "name": "stdout",
     "output_type": "stream",
     "text": [
      "10_cone_opencost0_closecostFalse_walkcost0.05_forgetrate0v9_particles_v2_logs_episode.185_iter.0.mp4\n"
     ]
    },
    {
     "data": {
      "image/png": "[encoded data removed]",
      "text/plain": [
       "<Figure size 864x432 with 2 Axes>"
      ]
     },
     "metadata": {
      "needs_background": "light"
     },
     "output_type": "display_data"
    }
   ],
   "source": [
    "fname = '../../data_scratch/large_data/train_env_task_set_20_full_reduced_tasks_single/10_cone_opencost0_closecostFalse_walkcost0.05_forgetrate0v9_particles_v2/logs_episode.185_iter.0.pik'\n",
    "img = visualize_trajectory(fname, gen_vid=True, plot_img=True, plot_belief=True, full_obs=True, frame_end=30)\n",
    "# img = visualize_trajectory(fname, gen_vid=False, plot_img=True, plot_belief=True, full_obs=True, frame_end=29)\n"
   ]
  },
  {
   "cell_type": "code",
   "execution_count": 409,
   "metadata": {},
   "outputs": [
    {
     "name": "stdout",
     "output_type": "stream",
     "text": [
      "total 6\r\n",
      "drwxrwsr-x 2 xavierpuig vision-torralba 3 Apr 12 10:03 \u001b[0m\u001b[01;34m15_partial_opencost0_closecostFalse_walkcost0.05_forgetrate0.1v9_particles_v2_modeinfo\u001b[0m\u001b[K/\r\n",
      "drwxrwsr-x 2 xavierpuig vision-torralba 4 Apr 12 10:02 \u001b[01;34m14_partial_opencost0_closecostFalse_walkcost0.05_forgetrate0.1v9_particles_v2_modeinfo\u001b[0m\u001b[K/\r\n",
      "drwxrwsr-x 2 xavierpuig vision-torralba 4 Apr 12 09:56 \u001b[01;34m13_partial_opencost0_closecostFalse_walkcost0.05_forgetrate0v9_particles_v2_modeinfo\u001b[0m\u001b[K/\r\n",
      "drwxrwsr-x 2 xavierpuig vision-torralba 4 Apr 12 09:56 \u001b[01;34m11_partial_opencost0_closecostFalse_walkcost0.05_forgetrate0v9_particles_v2_modeinfo\u001b[0m\u001b[K/\r\n",
      "drwxrwsr-x 2 xavierpuig vision-torralba 4 Apr 12 09:50 \u001b[01;34m4_partial_opencost0_closecostFalse_walkcost0.05_forgetrate0v9_particles_v2_modeinfo\u001b[0m\u001b[K/\r\n",
      "drwxrwsr-x 2 xavierpuig vision-torralba 4 Apr 12 09:49 \u001b[01;34m1_full_opencost0_closecostFalse_walkcost0.05_forgetrate0v9_particles_v2_modeinfo\u001b[0m\u001b[K/\r\n",
      "drwxrwsr-x 2 xavierpuig vision-torralba 2 Apr  5 13:13 \u001b[01;34m14_partial_opencost0_closecostFalse_walkcost0.05_forgetrate0.1v9_particles_v2\u001b[0m\u001b[K/\r\n",
      "drwxrwsr-x 2 xavierpuig vision-torralba 4 Apr  5 13:13 \u001b[01;34m13_partial_opencost0_closecostFalse_walkcost0.05_forgetrate0v9_particles_v2\u001b[0m\u001b[K/\r\n",
      "drwxrwsr-x 2 xavierpuig vision-torralba 4 Apr  5 13:13 \u001b[01;34m11_partial_opencost0_closecostFalse_walkcost0.05_forgetrate0v9_particles_v2\u001b[0m\u001b[K/\r\n",
      "drwxrwsr-x 2 xavierpuig vision-torralba 4 Apr  5 13:05 \u001b[01;34m4_partial_opencost0_closecostFalse_walkcost0.05_forgetrate0v9_particles_v2\u001b[0m\u001b[K/\r\n",
      "drwxrwsr-x 2 xavierpuig vision-torralba 4 Apr  5 13:04 \u001b[01;34m1_full_opencost0_closecostFalse_walkcost0.05_forgetrate0v9_particles_v2\u001b[0m\u001b[K/\r\n"
     ]
    }
   ],
   "source": [
    "ls -lt ../../data_scratch/large_data/train_env_task_set_20_full_reduced_tasks1to3"
   ]
  },
  {
   "cell_type": "code",
   "execution_count": 419,
   "metadata": {
    "scrolled": false
   },
   "outputs": [
    {
     "name": "stderr",
     "output_type": "stream",
     "text": [
      "100%|██████████| 1/1 [00:00<00:00, 11.18it/s]"
     ]
    },
    {
     "name": "stdout",
     "output_type": "stream",
     "text": [
      "[0]\n"
     ]
    },
    {
     "name": "stderr",
     "output_type": "stream",
     "text": [
      "\n",
      "100%|██████████| 1/1 [00:00<00:00,  9.23it/s]"
     ]
    },
    {
     "name": "stdout",
     "output_type": "stream",
     "text": [
      "[16]\n"
     ]
    },
    {
     "name": "stderr",
     "output_type": "stream",
     "text": [
      "\n",
      "100%|██████████| 1/1 [00:00<00:00, 15.09it/s]\n"
     ]
    },
    {
     "name": "stdout",
     "output_type": "stream",
     "text": [
      "[18]\n"
     ]
    },
    {
     "name": "stderr",
     "output_type": "stream",
     "text": [
      "\r",
      "  0%|          | 0/1 [00:00<?, ?it/s]"
     ]
    },
    {
     "name": "stdout",
     "output_type": "stream",
     "text": [
      "[150]\n"
     ]
    },
    {
     "name": "stderr",
     "output_type": "stream",
     "text": [
      "100%|██████████| 1/1 [00:00<00:00,  4.36it/s]\n",
      "100%|██████████| 1/1 [00:00<00:00, 18.12it/s]\n",
      "  0%|          | 0/1 [00:00<?, ?it/s]"
     ]
    },
    {
     "name": "stdout",
     "output_type": "stream",
     "text": [
      "[17]\n",
      "[27]\n"
     ]
    },
    {
     "name": "stderr",
     "output_type": "stream",
     "text": [
      "100%|██████████| 1/1 [00:00<00:00, 14.10it/s]\n",
      "100%|██████████| 1/1 [00:00<00:00, 23.25it/s]\n"
     ]
    },
    {
     "name": "stdout",
     "output_type": "stream",
     "text": [
      "[10]\n"
     ]
    },
    {
     "data": {
      "image/png": "[encoded data removed]",
      "text/plain": [
       "<Figure size 864x648 with 1 Axes>"
      ]
     },
     "metadata": {
      "needs_background": "light"
     },
     "output_type": "display_data"
    },
    {
     "data": {
      "image/png": "[encoded data removed]",
      "text/plain": [
       "<Figure size 864x648 with 1 Axes>"
      ]
     },
     "metadata": {
      "needs_background": "light"
     },
     "output_type": "display_data"
    },
    {
     "data": {
      "image/png": "[encoded data removed]",
      "text/plain": [
       "<Figure size 864x648 with 1 Axes>"
      ]
     },
     "metadata": {
      "needs_background": "light"
     },
     "output_type": "display_data"
    },
    {
     "data": {
      "image/png": "[encoded data removed]",
      "text/plain": [
       "<Figure size 864x648 with 1 Axes>"
      ]
     },
     "metadata": {
      "needs_background": "light"
     },
     "output_type": "display_data"
    },
    {
     "data": {
      "image/png": "[encoded data removed]",
      "text/plain": [
       "<Figure size 864x648 with 1 Axes>"
      ]
     },
     "metadata": {
      "needs_background": "light"
     },
     "output_type": "display_data"
    },
    {
     "data": {
      "image/png": "[encoded data removed]",
      "text/plain": [
       "<Figure size 864x648 with 1 Axes>"
      ]
     },
     "metadata": {
      "needs_background": "light"
     },
     "output_type": "display_data"
    },
    {
     "data": {
      "image/png": "[encoded data removed]",
      "text/plain": [
       "<Figure size 864x648 with 1 Axes>"
      ]
     },
     "metadata": {
      "needs_background": "light"
     },
     "output_type": "display_data"
    }
   ],
   "source": [
    "import glob\n",
    "import os\n",
    "files = glob.glob('../../data_scratch/large_data/train_env_task_set_20_full_reduced_tasks1to3/*modeinfo')\n",
    "files = sorted(files, key=lambda x: int(x.split('/')[-1].split('_')[0]))\n",
    "agent_name = files[0]\n",
    "fn = f'{agent_name}/logs_episode.185_iter.0.pik'\n",
    "img = visualize_trajectory(fn, gen_vid=False, plot_img=False, plot_belief=True, full_obs=True, frame_end=0, plot_special_actions=True)\n",
    "plt.title(\"Init Env\")\n",
    "for agent_name in files:\n",
    "    fname = f'{agent_name}/logs_episode.185_iter.0.pik'\n",
    "    if os.path.isfile(fname):\n",
    "        img = visualize_trajectory(fname, gen_vid=False, plot_img=False, plot_belief=True, full_obs=True, plot_special_actions=True)\n",
    "        plt.title(fname.split('/')[-2])"
   ]
  },
  {
   "cell_type": "code",
   "execution_count": 411,
   "metadata": {},
   "outputs": [],
   "source": [
    "def get_location_objects(content):\n",
    "    goal_obj = [x.split('_')[1] for x, y in content['goals'][0].items() if y > 0]\n",
    "    goal_name = ['{}: {}'.format(x.split('_')[1], y) for x, y in content['goals'][0].items() if y > 0]\n",
    "    print(goal_name)\n",
    "    graph = content['init_unity_graph']\n",
    "    id2node = {node['id']: node for node in graph['nodes']}\n",
    "    ids = [node['id'] for node in content['init_unity_graph']['nodes'] if node['class_name'] in goal_obj]\n",
    "    locations = ['{} {} {}'.format(\n",
    "        id2node[edge['from_id']]['class_name'],\n",
    "        edge['relation_type'], \n",
    "        id2node[edge['to_id']]['class_name']) for edge in graph['edges'] if edge['from_id'] in ids]\n",
    "    print(\"Locations\")\n",
    "    for loc in locations:\n",
    "        print(loc)\n",
    "    print(\"Beliefs\")\n",
    "    beliefs = content['belief'][0][0]\n",
    "    print(ids)\n",
    "    for idi in ids:\n",
    "        \n",
    "        beliefs_obj = beliefs[idi]['INSIDE']\n",
    "        prob = scipy.special.softmax(beliefs_obj[1])\n",
    "        names = ['None' if name is None else id2node[name]['class_name'] for name in beliefs_obj[0]]\n",
    "        prob_loc = ['{}: {:.2f}'.format(names[it], prob[it]) for it in range(len(names))]\n",
    "        prob_loc = ' '.join(prob_loc)\n",
    "        print(id2node[idi]['class_name'], prob_loc)\n",
    "        \n",
    "        \n",
    "# #     print(locations)\n",
    "    "
   ]
  },
  {
   "cell_type": "code",
   "execution_count": 413,
   "metadata": {},
   "outputs": [
    {
     "name": "stdout",
     "output_type": "stream",
     "text": [
      "{0: ['[walktowards] <kitchen> (170)', '[walktowards] <kitchen> (170)', '[walktowards] <kitchen> (170)', '[walktowards] <kitchen> (170)', '[walktowards] <apple> (358)', '[walktowards] <apple> (358)', '[walktowards] <apple> (358)', '[walktowards] <apple> (358)', '[walktowards] <apple> (358)', '[walktowards] <apple> (358)', '[grab] <apple> (358)', '[grab] <apple> (359)', '[walktowards] <fridge> (247)'], 1: []}\n",
      "['poundcake: 1', 'apple: 1']\n",
      "Locations\n",
      "poundcake INSIDE kitchen\n",
      "poundcake INSIDE kitchen\n",
      "apple INSIDE kitchen\n",
      "apple INSIDE kitchen\n",
      "poundcake ON oventray\n",
      "poundcake ON oventray\n",
      "apple ON kitchencounter\n",
      "apple ON sink\n",
      "poundcake INSIDE stove\n",
      "poundcake INSIDE stove\n",
      "Beliefs\n",
      "[356, 357, 358, 359]\n",
      "poundcake None: 0.99 bathroomcabinet: 0.00 stove: 0.00 fridge: 0.00 microwave: 0.00 cabinet: 0.00\n",
      "poundcake None: 0.99 bathroomcabinet: 0.00 stove: 0.00 fridge: 0.00 microwave: 0.00 cabinet: 0.00\n",
      "apple None: 0.99 bathroomcabinet: 0.00 stove: 0.00 fridge: 0.00 microwave: 0.00 cabinet: 0.00\n",
      "apple None: 0.99 bathroomcabinet: 0.00 stove: 0.00 fridge: 0.00 microwave: 0.00 cabinet: 0.00\n"
     ]
    }
   ],
   "source": [
    "with open('{}/logs_episode.185_iter.0.pik'.format(files[2]), 'rb') as f:\n",
    "    content = pkl.load(f)\n",
    "print(content['action'])\n",
    "get_location_objects(content)"
   ]
  },
  {
   "cell_type": "code",
   "execution_count": 389,
   "metadata": {},
   "outputs": [
    {
     "data": {
      "text/plain": [
       "{30: {'INSIDE': [[None, 45, 242, 247, 251, 318],\n",
       "   array([ 1.e+00, -1.e+09, -1.e+09, -1.e+09, -1.e+09, -1.e+09])],\n",
       "  'ON': [[None, 111, 194, 294], array([ 1.e+00, -1.e+09, -1.e+09, -1.e+09])]},\n",
       " 40: {'INSIDE': [[None, 45, 242, 247, 251, 318],\n",
       "   array([ 1.e+00, -1.e+09, -1.e+09, -1.e+09, -1.e+09, -1.e+09])],\n",
       "  'ON': [[None, 111, 194, 294], array([ 1.e+00, -1.e+09, -1.e+09, -1.e+09])]},\n",
       " 41: {'INSIDE': [[None, 45, 242, 247, 251, 318],\n",
       "   array([ 1.e+00, -1.e+09, -1.e+09, -1.e+09, -1.e+09, -1.e+09])],\n",
       "  'ON': [[None, 111, 194, 294], array([ 1.e+00, -1.e+09, -1.e+09, -1.e+09])]},\n",
       " 42: {'INSIDE': [[None, 45, 242, 247, 251, 318],\n",
       "   array([ 1.e+00, -1.e+09, -1.e+09, -1.e+09, -1.e+09, -1.e+09])],\n",
       "  'ON': [[None, 111, 194, 294], array([ 1.e+00, -1.e+09, -1.e+09, -1.e+09])]},\n",
       " 50: {'INSIDE': [[None, 45, 242, 247, 251, 318],\n",
       "   array([ 1.e+00, -1.e+09, -1.e+09, -1.e+09, -1.e+09, -1.e+09])],\n",
       "  'ON': [[None, 111, 194, 294], array([ 1.e+00, -1.e+09, -1.e+09, -1.e+09])]},\n",
       " 51: {'INSIDE': [[None, 45, 242, 247, 251, 318],\n",
       "   array([ 1.e+00, -1.e+09, -1.e+09, -1.e+09, -1.e+09, -1.e+09])],\n",
       "  'ON': [[None, 111, 194, 294], array([ 1.e+00, -1.e+09, -1.e+09, -1.e+09])]},\n",
       " 52: {'INSIDE': [[None, 45, 242, 247, 251, 318],\n",
       "   array([ 1.e+00, -1.e+09, -1.e+09, -1.e+09, -1.e+09, -1.e+09])],\n",
       "  'ON': [[None, 111, 194, 294], array([ 1.e+00, -1.e+09, -1.e+09, -1.e+09])]},\n",
       " 54: {'INSIDE': [[None, 45, 242, 247, 251, 318],\n",
       "   array([ 1.e+00, -1.e+09, -1.e+09, -1.e+09, -1.e+09, -1.e+09])],\n",
       "  'ON': [[None, 111, 194, 294], array([ 1.e+00, -1.e+09, -1.e+09, -1.e+09])]},\n",
       " 55: {'INSIDE': [[None, 45, 242, 247, 251, 318],\n",
       "   array([ 1.e+00, -1.e+09, -1.e+09, -1.e+09, -1.e+09, -1.e+09])],\n",
       "  'ON': [[None, 111, 194, 294], array([ 1.e+00, -1.e+09, -1.e+09, -1.e+09])]},\n",
       " 56: {'INSIDE': [[None, 45, 242, 247, 251, 318],\n",
       "   array([ 1.e+00, -1.e+09, -1.e+09, -1.e+09, -1.e+09, -1.e+09])],\n",
       "  'ON': [[None, 111, 194, 294], array([ 1.e+00, -1.e+09, -1.e+09, -1.e+09])]},\n",
       " 57: {'INSIDE': [[None, 45, 242, 247, 251, 318],\n",
       "   array([ 1.e+00, -1.e+09, -1.e+09, -1.e+09, -1.e+09, -1.e+09])],\n",
       "  'ON': [[None, 111, 194, 294], array([ 1.e+00, -1.e+09, -1.e+09, -1.e+09])]},\n",
       " 58: {'INSIDE': [[None, 45, 242, 247, 251, 318],\n",
       "   array([ 1.e+00, -1.e+09, -1.e+09, -1.e+09, -1.e+09, -1.e+09])],\n",
       "  'ON': [[None, 111, 194, 294], array([ 1.e+00, -1.e+09, -1.e+09, -1.e+09])]},\n",
       " 59: {'INSIDE': [[None, 45, 242, 247, 251, 318],\n",
       "   array([ 1.e+00, -1.e+09, -1.e+09, -1.e+09, -1.e+09, -1.e+09])],\n",
       "  'ON': [[None, 111, 194, 294], array([ 1.e+00, -1.e+09, -1.e+09, -1.e+09])]},\n",
       " 60: {'INSIDE': [[None, 45, 242, 247, 251, 318],\n",
       "   array([ 1.e+00, -1.e+09, -1.e+09, -1.e+09, -1.e+09, -1.e+09])],\n",
       "  'ON': [[None, 111, 194, 294], array([ 1.e+00, -1.e+09, -1.e+09, -1.e+09])]},\n",
       " 61: {'INSIDE': [[None, 45, 242, 247, 251, 318],\n",
       "   array([ 1.e+00, -1.e+09, -1.e+09, -1.e+09, -1.e+09, -1.e+09])],\n",
       "  'ON': [[None, 111, 194, 294], array([ 1.e+00, -1.e+09, -1.e+09, -1.e+09])]},\n",
       " 62: {'INSIDE': [[None, 45, 242, 247, 251, 318],\n",
       "   array([ 1.e+00, -1.e+09, -1.e+09, -1.e+09, -1.e+09, -1.e+09])],\n",
       "  'ON': [[None, 111, 194, 294], array([ 1.e+00, -1.e+09, -1.e+09, -1.e+09])]},\n",
       " 63: {'INSIDE': [[None, 45, 242, 247, 251, 318],\n",
       "   array([ 1.e+00, -1.e+09, -1.e+09, -1.e+09, -1.e+09, -1.e+09])],\n",
       "  'ON': [[None, 111, 194, 294], array([ 1.e+00, -1.e+09, -1.e+09, -1.e+09])]},\n",
       " 64: {'INSIDE': [[None, 45, 242, 247, 251, 318],\n",
       "   array([ 1.e+00, -1.e+09, -1.e+09, -1.e+09, -1.e+09, -1.e+09])],\n",
       "  'ON': [[None, 111, 194, 294], array([ 1.e+00, -1.e+09, -1.e+09, -1.e+09])]},\n",
       " 66: {'INSIDE': [[None, 45, 242, 247, 251, 318],\n",
       "   array([ 1.e+00, -1.e+09, -1.e+09, -1.e+09, -1.e+09, -1.e+09])],\n",
       "  'ON': [[None, 111, 194, 294], array([ 1.e+00, -1.e+09, -1.e+09, -1.e+09])]},\n",
       " 67: {'INSIDE': [[None, 45, 242, 247, 251, 318],\n",
       "   array([ 1.e+00, -1.e+09, -1.e+09, -1.e+09, -1.e+09, -1.e+09])],\n",
       "  'ON': [[None, 111, 194, 294], array([ 1.e+00, -1.e+09, -1.e+09, -1.e+09])]},\n",
       " 69: {'INSIDE': [[None, 45, 242, 247, 251, 318],\n",
       "   array([ 1.e+00, -1.e+09, -1.e+09, -1.e+09, -1.e+09, -1.e+09])],\n",
       "  'ON': [[None, 111, 194, 294], array([ 1.e+00, -1.e+09, -1.e+09, -1.e+09])]},\n",
       " 104: {'INSIDE': [[None, 45, 242, 247, 251, 318],\n",
       "   array([ 1.e+00, -1.e+09, -1.e+09, -1.e+09, -1.e+09, -1.e+09])],\n",
       "  'ON': [[None, 111, 194, 294], array([ 1.e+00, -1.e+09, -1.e+09, -1.e+09])]},\n",
       " 109: {'INSIDE': [[None, 45, 242, 247, 251, 318],\n",
       "   array([ 1.e+00, -1.e+09, -1.e+09, -1.e+09, -1.e+09, -1.e+09])],\n",
       "  'ON': [[None, 111, 194, 294], array([ 1.e+00, -1.e+09, -1.e+09, -1.e+09])]},\n",
       " 110: {'INSIDE': [[None, 45, 242, 247, 251, 318],\n",
       "   array([ 1.e+00, -1.e+09, -1.e+09, -1.e+09, -1.e+09, -1.e+09])],\n",
       "  'ON': [[None, 111, 194, 294], array([ 1.e+00, -1.e+09, -1.e+09, -1.e+09])]},\n",
       " 115: {'INSIDE': [[None, 45, 242, 247, 251, 318],\n",
       "   array([ 1.e+00, -1.e+09, -1.e+09, -1.e+09, -1.e+09, -1.e+09])],\n",
       "  'ON': [[None, 111, 194, 294], array([ 1.e+00, -1.e+09, -1.e+09, -1.e+09])]},\n",
       " 116: {'INSIDE': [[None, 45, 242, 247, 251, 318],\n",
       "   array([ 1.e+00, -1.e+09, -1.e+09, -1.e+09, -1.e+09, -1.e+09])],\n",
       "  'ON': [[None, 111, 194, 294], array([ 1.e+00, -1.e+09, -1.e+09, -1.e+09])]},\n",
       " 117: {'INSIDE': [[None, 45, 242, 247, 251, 318],\n",
       "   array([ 1.e+00, -1.e+09, -1.e+09, -1.e+09, -1.e+09, -1.e+09])],\n",
       "  'ON': [[None, 111, 194, 294], array([ 1.e+00, -1.e+09, -1.e+09, -1.e+09])]},\n",
       " 118: {'INSIDE': [[None, 45, 242, 247, 251, 318],\n",
       "   array([ 1.e+00, -1.e+09, -1.e+09, -1.e+09, -1.e+09, -1.e+09])],\n",
       "  'ON': [[None, 111, 194, 294], array([ 1.e+00, -1.e+09, -1.e+09, -1.e+09])]},\n",
       " 121: {'INSIDE': [[None, 45, 242, 247, 251, 318],\n",
       "   array([ 1.e+00, -1.e+09, -1.e+09, -1.e+09, -1.e+09, -1.e+09])],\n",
       "  'ON': [[None, 111, 194, 294], array([ 1.e+00, -1.e+09, -1.e+09, -1.e+09])]},\n",
       " 122: {'INSIDE': [[None, 45, 242, 247, 251, 318],\n",
       "   array([ 1.e+00, -1.e+09, -1.e+09, -1.e+09, -1.e+09, -1.e+09])],\n",
       "  'ON': [[None, 111, 194, 294], array([ 1.e+00, -1.e+09, -1.e+09, -1.e+09])]},\n",
       " 124: {'INSIDE': [[None, 45, 242, 247, 251, 318],\n",
       "   array([ 1.e+00, -1.e+09, -1.e+09, -1.e+09, -1.e+09, -1.e+09])],\n",
       "  'ON': [[None, 111, 194, 294], array([ 1.e+00, -1.e+09, -1.e+09, -1.e+09])]},\n",
       " 125: {'INSIDE': [[None, 45, 242, 247, 251, 318],\n",
       "   array([ 1.e+00, -1.e+09, -1.e+09, -1.e+09, -1.e+09, -1.e+09])],\n",
       "  'ON': [[None, 111, 194, 294], array([ 1.e+00, -1.e+09, -1.e+09, -1.e+09])]},\n",
       " 126: {'INSIDE': [[None, 45, 242, 247, 251, 318],\n",
       "   array([ 1.e+00, -1.e+09, -1.e+09, -1.e+09, -1.e+09, -1.e+09])],\n",
       "  'ON': [[None, 111, 194, 294], array([ 1.e+00, -1.e+09, -1.e+09, -1.e+09])]},\n",
       " 127: {'INSIDE': [[None, 45, 242, 247, 251, 318],\n",
       "   array([ 1.e+00, -1.e+09, -1.e+09, -1.e+09, -1.e+09, -1.e+09])],\n",
       "  'ON': [[None, 111, 194, 294], array([ 1.e+00, -1.e+09, -1.e+09, -1.e+09])]},\n",
       " 128: {'INSIDE': [[None, 45, 242, 247, 251, 318],\n",
       "   array([ 1.e+00, -1.e+09, -1.e+09, -1.e+09, -1.e+09, -1.e+09])],\n",
       "  'ON': [[None, 111, 194, 294], array([ 1.e+00, -1.e+09, -1.e+09, -1.e+09])]},\n",
       " 129: {'INSIDE': [[None, 45, 242, 247, 251, 318],\n",
       "   array([ 1.e+00, -1.e+09, -1.e+09, -1.e+09, -1.e+09, -1.e+09])],\n",
       "  'ON': [[None, 111, 194, 294], array([ 1.e+00, -1.e+09, -1.e+09, -1.e+09])]},\n",
       " 130: {'INSIDE': [[None, 45, 242, 247, 251, 318],\n",
       "   array([ 1.e+00, -1.e+09, -1.e+09, -1.e+09, -1.e+09, -1.e+09])],\n",
       "  'ON': [[None, 111, 194, 294], array([ 1.e+00, -1.e+09, -1.e+09, -1.e+09])]},\n",
       " 131: {'INSIDE': [[None, 45, 242, 247, 251, 318],\n",
       "   array([ 1.e+00, -1.e+09, -1.e+09, -1.e+09, -1.e+09, -1.e+09])],\n",
       "  'ON': [[None, 111, 194, 294], array([-1.e+09,  1.e+00, -1.e+09, -1.e+09])]},\n",
       " 132: {'INSIDE': [[None, 45, 242, 247, 251, 318],\n",
       "   array([ 1.e+00, -1.e+09, -1.e+09, -1.e+09, -1.e+09, -1.e+09])],\n",
       "  'ON': [[None, 111, 194, 294], array([ 1.e+00, -1.e+09, -1.e+09, -1.e+09])]},\n",
       " 133: {'INSIDE': [[None, 45, 242, 247, 251, 318],\n",
       "   array([ 1.e+00, -1.e+09, -1.e+09, -1.e+09, -1.e+09, -1.e+09])],\n",
       "  'ON': [[None, 111, 194, 294], array([ 1.e+00, -1.e+09, -1.e+09, -1.e+09])]},\n",
       " 134: {'INSIDE': [[None, 45, 242, 247, 251, 318],\n",
       "   array([ 1.e+00, -1.e+09, -1.e+09, -1.e+09, -1.e+09, -1.e+09])],\n",
       "  'ON': [[None, 111, 194, 294], array([ 1.e+00, -1.e+09, -1.e+09, -1.e+09])]},\n",
       " 135: {'INSIDE': [[None, 45, 242, 247, 251, 318],\n",
       "   array([ 1.e+00, -1.e+09, -1.e+09, -1.e+09, -1.e+09, -1.e+09])],\n",
       "  'ON': [[None, 111, 194, 294], array([ 1.e+00, -1.e+09, -1.e+09, -1.e+09])]},\n",
       " 136: {'INSIDE': [[None, 45, 242, 247, 251, 318],\n",
       "   array([ 1.e+00, -1.e+09, -1.e+09, -1.e+09, -1.e+09, -1.e+09])],\n",
       "  'ON': [[None, 111, 194, 294], array([ 1.e+00, -1.e+09, -1.e+09, -1.e+09])]},\n",
       " 137: {'INSIDE': [[None, 45, 242, 247, 251, 318],\n",
       "   array([ 1.e+00, -1.e+09, -1.e+09, -1.e+09, -1.e+09, -1.e+09])],\n",
       "  'ON': [[None, 111, 194, 294], array([ 1.e+00, -1.e+09, -1.e+09, -1.e+09])]},\n",
       " 138: {'INSIDE': [[None, 45, 242, 247, 251, 318],\n",
       "   array([ 1.e+00, -1.e+09, -1.e+09, -1.e+09, -1.e+09, -1.e+09])],\n",
       "  'ON': [[None, 111, 194, 294], array([ 1.e+00, -1.e+09, -1.e+09, -1.e+09])]},\n",
       " 139: {'INSIDE': [[None, 45, 242, 247, 251, 318],\n",
       "   array([ 1.e+00, -1.e+09, -1.e+09, -1.e+09, -1.e+09, -1.e+09])],\n",
       "  'ON': [[None, 111, 194, 294], array([ 1.e+00, -1.e+09, -1.e+09, -1.e+09])]},\n",
       " 140: {'INSIDE': [[None, 45, 242, 247, 251, 318],\n",
       "   array([ 1.e+00, -1.e+09, -1.e+09, -1.e+09, -1.e+09, -1.e+09])],\n",
       "  'ON': [[None, 111, 194, 294], array([ 1.e+00, -1.e+09, -1.e+09, -1.e+09])]},\n",
       " 141: {'INSIDE': [[None, 45, 242, 247, 251, 318],\n",
       "   array([ 1.e+00, -1.e+09, -1.e+09, -1.e+09, -1.e+09, -1.e+09])],\n",
       "  'ON': [[None, 111, 194, 294], array([ 1.e+00, -1.e+09, -1.e+09, -1.e+09])]},\n",
       " 142: {'INSIDE': [[None, 45, 242, 247, 251, 318],\n",
       "   array([ 1.e+00, -1.e+09, -1.e+09, -1.e+09, -1.e+09, -1.e+09])],\n",
       "  'ON': [[None, 111, 194, 294], array([ 1.e+00, -1.e+09, -1.e+09, -1.e+09])]},\n",
       " 143: {'INSIDE': [[None, 45, 242, 247, 251, 318],\n",
       "   array([ 1.e+00, -1.e+09, -1.e+09, -1.e+09, -1.e+09, -1.e+09])],\n",
       "  'ON': [[None, 111, 194, 294], array([ 1.e+00, -1.e+09, -1.e+09, -1.e+09])]},\n",
       " 144: {'INSIDE': [[None, 45, 242, 247, 251, 318],\n",
       "   array([ 1.e+00, -1.e+09, -1.e+09, -1.e+09, -1.e+09, -1.e+09])],\n",
       "  'ON': [[None, 111, 194, 294], array([ 1.e+00, -1.e+09, -1.e+09, -1.e+09])]},\n",
       " 145: {'INSIDE': [[None, 45, 242, 247, 251, 318],\n",
       "   array([ 1.e+00, -1.e+09, -1.e+09, -1.e+09, -1.e+09, -1.e+09])],\n",
       "  'ON': [[None, 111, 194, 294], array([ 1.e+00, -1.e+09, -1.e+09, -1.e+09])]},\n",
       " 146: {'INSIDE': [[None, 45, 242, 247, 251, 318],\n",
       "   array([ 1.e+00, -1.e+09, -1.e+09, -1.e+09, -1.e+09, -1.e+09])],\n",
       "  'ON': [[None, 111, 194, 294], array([ 1.e+00, -1.e+09, -1.e+09, -1.e+09])]},\n",
       " 147: {'INSIDE': [[None, 45, 242, 247, 251, 318],\n",
       "   array([ 1.e+00, -1.e+09, -1.e+09, -1.e+09, -1.e+09, -1.e+09])],\n",
       "  'ON': [[None, 111, 194, 294], array([ 1.e+00, -1.e+09, -1.e+09, -1.e+09])]},\n",
       " 148: {'INSIDE': [[None, 45, 242, 247, 251, 318],\n",
       "   array([ 1.e+00, -1.e+09, -1.e+09, -1.e+09, -1.e+09, -1.e+09])],\n",
       "  'ON': [[None, 111, 194, 294], array([ 1.e+00, -1.e+09, -1.e+09, -1.e+09])]},\n",
       " 168: {'INSIDE': [[None, 45, 242, 247, 251, 318],\n",
       "   array([ 1.e+00, -1.e+09, -1.e+09, -1.e+09, -1.e+09, -1.e+09])],\n",
       "  'ON': [[None, 111, 194, 294], array([ 1.e+00, -1.e+09, -1.e+09, -1.e+09])]},\n",
       " 169: {'INSIDE': [[None, 45, 242, 247, 251, 318],\n",
       "   array([ 1.e+00, -1.e+09, -1.e+09, -1.e+09, -1.e+09, -1.e+09])],\n",
       "  'ON': [[None, 111, 194, 294], array([ 1.e+00, -1.e+09, -1.e+09, -1.e+09])]},\n",
       " 209: {'INSIDE': [[None, 45, 242, 247, 251, 318],\n",
       "   array([ 1.e+00, -1.e+09, -1.e+09, -1.e+09, -1.e+09, -1.e+09])],\n",
       "  'ON': [[None, 111, 194, 294], array([-1.e+09, -1.e+09,  1.e+00, -1.e+09])]},\n",
       " 210: {'INSIDE': [[None, 45, 242, 247, 251, 318],\n",
       "   array([ 1.e+00, -1.e+09, -1.e+09, -1.e+09, -1.e+09, -1.e+09])],\n",
       "  'ON': [[None, 111, 194, 294], array([ 1.e+00, -1.e+09, -1.e+09, -1.e+09])]},\n",
       " 211: {'INSIDE': [[None, 45, 242, 247, 251, 318],\n",
       "   array([ 1.e+00, -1.e+09, -1.e+09, -1.e+09, -1.e+09, -1.e+09])],\n",
       "  'ON': [[None, 111, 194, 294], array([ 1.e+00, -1.e+09, -1.e+09, -1.e+09])]},\n",
       " 216: {'INSIDE': [[None, 45, 242, 247, 251, 318],\n",
       "   array([ 1.e+00, -1.e+09, -1.e+09, -1.e+09, -1.e+09, -1.e+09])],\n",
       "  'ON': [[None, 111, 194, 294], array([ 1.e+00, -1.e+09, -1.e+09, -1.e+09])]},\n",
       " 217: {'INSIDE': [[None, 45, 242, 247, 251, 318],\n",
       "   array([ 1.e+00, -1.e+09, -1.e+09, -1.e+09, -1.e+09, -1.e+09])],\n",
       "  'ON': [[None, 111, 194, 294], array([ 1.e+00, -1.e+09, -1.e+09, -1.e+09])]},\n",
       " 218: {'INSIDE': [[None, 45, 242, 247, 251, 318],\n",
       "   array([ 1.e+00, -1.e+09, -1.e+09, -1.e+09, -1.e+09, -1.e+09])],\n",
       "  'ON': [[None, 111, 194, 294], array([ 1.e+00, -1.e+09, -1.e+09, -1.e+09])]},\n",
       " 219: {'INSIDE': [[None, 45, 242, 247, 251, 318],\n",
       "   array([ 1.e+00, -1.e+09, -1.e+09, -1.e+09, -1.e+09, -1.e+09])],\n",
       "  'ON': [[None, 111, 194, 294], array([ 1.e+00, -1.e+09, -1.e+09, -1.e+09])]},\n",
       " 221: {'INSIDE': [[None, 45, 242, 247, 251, 318],\n",
       "   array([ 1.e+00, -1.e+09, -1.e+09, -1.e+09, -1.e+09, -1.e+09])],\n",
       "  'ON': [[None, 111, 194, 294], array([ 1.e+00, -1.e+09, -1.e+09, -1.e+09])]},\n",
       " 222: {'INSIDE': [[None, 45, 242, 247, 251, 318],\n",
       "   array([ 1.e+00, -1.e+09, -1.e+09, -1.e+09, -1.e+09, -1.e+09])],\n",
       "  'ON': [[None, 111, 194, 294], array([ 1.e+00, -1.e+09, -1.e+09, -1.e+09])]},\n",
       " 223: {'INSIDE': [[None, 45, 242, 247, 251, 318],\n",
       "   array([ 1.e+00, -1.e+09, -1.e+09, -1.e+09, -1.e+09, -1.e+09])],\n",
       "  'ON': [[None, 111, 194, 294], array([-1.e+09, -1.e+09,  1.e+00, -1.e+09])]},\n",
       " 224: {'INSIDE': [[None, 45, 242, 247, 251, 318],\n",
       "   array([ 1.e+00, -1.e+09, -1.e+09, -1.e+09, -1.e+09, -1.e+09])],\n",
       "  'ON': [[None, 111, 194, 294], array([-1.e+09, -1.e+09,  1.e+00, -1.e+09])]},\n",
       " 225: {'INSIDE': [[None, 45, 242, 247, 251, 318],\n",
       "   array([ 1.e+00, -1.e+09, -1.e+09, -1.e+09, -1.e+09, -1.e+09])],\n",
       "  'ON': [[None, 111, 194, 294], array([ 1.e+00, -1.e+09, -1.e+09, -1.e+09])]},\n",
       " 226: {'INSIDE': [[None, 45, 242, 247, 251, 318],\n",
       "   array([ 1.e+00, -1.e+09, -1.e+09, -1.e+09, -1.e+09, -1.e+09])],\n",
       "  'ON': [[None, 111, 194, 294], array([-1.e+09, -1.e+09,  1.e+00, -1.e+09])]},\n",
       " 227: {'INSIDE': [[None, 45, 242, 247, 251, 318],\n",
       "   array([ 1.e+00, -1.e+09, -1.e+09, -1.e+09, -1.e+09, -1.e+09])],\n",
       "  'ON': [[None, 111, 194, 294], array([-1.e+09, -1.e+09,  1.e+00, -1.e+09])]},\n",
       " 228: {'INSIDE': [[None, 45, 242, 247, 251, 318],\n",
       "   array([ 1.e+00, -1.e+09, -1.e+09, -1.e+09, -1.e+09, -1.e+09])],\n",
       "  'ON': [[None, 111, 194, 294], array([-1.e+09, -1.e+09,  1.e+00, -1.e+09])]},\n",
       " 229: {'INSIDE': [[None, 45, 242, 247, 251, 318],\n",
       "   array([ 1.e+00, -1.e+09, -1.e+09, -1.e+09, -1.e+09, -1.e+09])],\n",
       "  'ON': [[None, 111, 194, 294], array([ 1.e+00, -1.e+09, -1.e+09, -1.e+09])]},\n",
       " 230: {'INSIDE': [[None, 45, 242, 247, 251, 318],\n",
       "   array([ 1.e+00, -1.e+09, -1.e+09, -1.e+09, -1.e+09, -1.e+09])],\n",
       "  'ON': [[None, 111, 194, 294], array([-1.e+09, -1.e+09,  1.e+00, -1.e+09])]},\n",
       " 231: {'INSIDE': [[None, 45, 242, 247, 251, 318],\n",
       "   array([ 1.e+00, -1.e+09, -1.e+09, -1.e+09, -1.e+09, -1.e+09])],\n",
       "  'ON': [[None, 111, 194, 294], array([-1.e+09, -1.e+09,  1.e+00, -1.e+09])]},\n",
       " 233: {'INSIDE': [[None, 45, 242, 247, 251, 318],\n",
       "   array([ 1.e+00, -1.e+09, -1.e+09, -1.e+09, -1.e+09, -1.e+09])],\n",
       "  'ON': [[None, 111, 194, 294], array([ 1.e+00, -1.e+09, -1.e+09, -1.e+09])]},\n",
       " 234: {'INSIDE': [[None, 45, 242, 247, 251, 318],\n",
       "   array([ 1.e+00, -1.e+09, -1.e+09, -1.e+09, -1.e+09, -1.e+09])],\n",
       "  'ON': [[None, 111, 194, 294], array([-1.e+09, -1.e+09,  1.e+00, -1.e+09])]},\n",
       " 235: {'INSIDE': [[None, 45, 242, 247, 251, 318],\n",
       "   array([ 1.e+00, -1.e+09, -1.e+09, -1.e+09, -1.e+09, -1.e+09])],\n",
       "  'ON': [[None, 111, 194, 294], array([ 1.e+00, -1.e+09, -1.e+09, -1.e+09])]},\n",
       " 236: {'INSIDE': [[None, 45, 242, 247, 251, 318],\n",
       "   array([ 1.e+00, -1.e+09, -1.e+09, -1.e+09, -1.e+09, -1.e+09])],\n",
       "  'ON': [[None, 111, 194, 294], array([ 1.e+00, -1.e+09, -1.e+09, -1.e+09])]},\n",
       " 237: {'INSIDE': [[None, 45, 242, 247, 251, 318],\n",
       "   array([ 1.e+00, -1.e+09, -1.e+09, -1.e+09, -1.e+09, -1.e+09])],\n",
       "  'ON': [[None, 111, 194, 294], array([ 1.e+00, -1.e+09, -1.e+09, -1.e+09])]},\n",
       " 238: {'INSIDE': [[None, 45, 242, 247, 251, 318],\n",
       "   array([ 1.e+00, -1.e+09, -1.e+09, -1.e+09, -1.e+09, -1.e+09])],\n",
       "  'ON': [[None, 111, 194, 294], array([ 1.e+00, -1.e+09, -1.e+09, -1.e+09])]},\n",
       " 239: {'INSIDE': [[None, 45, 242, 247, 251, 318],\n",
       "   array([ 1.e+00, -1.e+09, -1.e+09, -1.e+09, -1.e+09, -1.e+09])],\n",
       "  'ON': [[None, 111, 194, 294], array([ 1.e+00, -1.e+09, -1.e+09, -1.e+09])]},\n",
       " 240: {'INSIDE': [[None, 45, 242, 247, 251, 318],\n",
       "   array([ 1.e+00, -1.e+09, -1.e+09, -1.e+09, -1.e+09, -1.e+09])],\n",
       "  'ON': [[None, 111, 194, 294], array([ 1.e+00, -1.e+09, -1.e+09, -1.e+09])]},\n",
       " 241: {'INSIDE': [[None, 45, 242, 247, 251, 318],\n",
       "   array([ 1.e+00, -1.e+09, -1.e+09, -1.e+09, -1.e+09, -1.e+09])],\n",
       "  'ON': [[None, 111, 194, 294], array([ 1.e+00, -1.e+09, -1.e+09, -1.e+09])]},\n",
       " 243: {'INSIDE': [[None, 45, 242, 247, 251, 318],\n",
       "   array([-1.e+09, -1.e+09,  1.e+00, -1.e+09, -1.e+09, -1.e+09])],\n",
       "  'ON': [[None, 111, 194, 294], array([ 1.e+00, -1.e+09, -1.e+09, -1.e+09])]},\n",
       " 245: {'INSIDE': [[None, 45, 242, 247, 251, 318],\n",
       "   array([ 1.e+00, -1.e+09, -1.e+09, -1.e+09, -1.e+09, -1.e+09])],\n",
       "  'ON': [[None, 111, 194, 294], array([ 1.e+00, -1.e+09, -1.e+09, -1.e+09])]},\n",
       " 246: {'INSIDE': [[None, 45, 242, 247, 251, 318],\n",
       "   array([ 1.e+00, -1.e+09, -1.e+09, -1.e+09, -1.e+09, -1.e+09])],\n",
       "  'ON': [[None, 111, 194, 294], array([ 1.e+00, -1.e+09, -1.e+09, -1.e+09])]},\n",
       " 250: {'INSIDE': [[None, 45, 242, 247, 251, 318],\n",
       "   array([ 1.e+00, -1.e+09, -1.e+09, -1.e+09, -1.e+09, -1.e+09])],\n",
       "  'ON': [[None, 111, 194, 294], array([ 1.e+00, -1.e+09, -1.e+09, -1.e+09])]},\n",
       " 252: {'INSIDE': [[None, 45, 242, 247, 251, 318],\n",
       "   array([-1.e+09, -1.e+09, -1.e+09, -1.e+09,  1.e+00, -1.e+09])],\n",
       "  'ON': [[None, 111, 194, 294], array([ 1.e+00, -1.e+09, -1.e+09, -1.e+09])]},\n",
       " 253: {'INSIDE': [[None, 45, 242, 247, 251, 318],\n",
       "   array([ 1.e+00, -1.e+09, -1.e+09, -1.e+09, -1.e+09, -1.e+09])],\n",
       "  'ON': [[None, 111, 194, 294], array([ 1.e+00, -1.e+09, -1.e+09, -1.e+09])]},\n",
       " 254: {'INSIDE': [[None, 45, 242, 247, 251, 318],\n",
       "   array([ 1.e+00, -1.e+09, -1.e+09, -1.e+09, -1.e+09, -1.e+09])],\n",
       "  'ON': [[None, 111, 194, 294], array([-1.e+09, -1.e+09,  1.e+00, -1.e+09])]},\n",
       " 255: {'INSIDE': [[None, 45, 242, 247, 251, 318],\n",
       "   array([ 1.e+00, -1.e+09, -1.e+09, -1.e+09, -1.e+09, -1.e+09])],\n",
       "  'ON': [[None, 111, 194, 294], array([ 1.e+00, -1.e+09, -1.e+09, -1.e+09])]},\n",
       " 256: {'INSIDE': [[None, 45, 242, 247, 251, 318],\n",
       "   array([ 1.e+00, -1.e+09, -1.e+09, -1.e+09, -1.e+09, -1.e+09])],\n",
       "  'ON': [[None, 111, 194, 294], array([-1.e+09, -1.e+09,  1.e+00, -1.e+09])]},\n",
       " 257: {'INSIDE': [[None, 45, 242, 247, 251, 318],\n",
       "   array([ 1.e+00, -1.e+09, -1.e+09, -1.e+09, -1.e+09, -1.e+09])],\n",
       "  'ON': [[None, 111, 194, 294], array([ 1.e+00, -1.e+09, -1.e+09, -1.e+09])]},\n",
       " 258: {'INSIDE': [[None, 45, 242, 247, 251, 318],\n",
       "   array([ 1.e+00, -1.e+09, -1.e+09, -1.e+09, -1.e+09, -1.e+09])],\n",
       "  'ON': [[None, 111, 194, 294], array([ 1.e+00, -1.e+09, -1.e+09, -1.e+09])]},\n",
       " 296: {'INSIDE': [[None, 45, 242, 247, 251, 318],\n",
       "   array([ 1.e+00, -1.e+09, -1.e+09, -1.e+09, -1.e+09, -1.e+09])],\n",
       "  'ON': [[None, 111, 194, 294], array([ 1.e+00, -1.e+09, -1.e+09, -1.e+09])]},\n",
       " 298: {'INSIDE': [[None, 45, 242, 247, 251, 318],\n",
       "   array([ 1.e+00, -1.e+09, -1.e+09, -1.e+09, -1.e+09, -1.e+09])],\n",
       "  'ON': [[None, 111, 194, 294], array([ 1.e+00, -1.e+09, -1.e+09, -1.e+09])]},\n",
       " 299: {'INSIDE': [[None, 45, 242, 247, 251, 318],\n",
       "   array([ 1.e+00, -1.e+09, -1.e+09, -1.e+09, -1.e+09, -1.e+09])],\n",
       "  'ON': [[None, 111, 194, 294], array([ 1.e+00, -1.e+09, -1.e+09, -1.e+09])]},\n",
       " 300: {'INSIDE': [[None, 45, 242, 247, 251, 318],\n",
       "   array([ 1.e+00, -1.e+09, -1.e+09, -1.e+09, -1.e+09, -1.e+09])],\n",
       "  'ON': [[None, 111, 194, 294], array([ 1.e+00, -1.e+09, -1.e+09, -1.e+09])]},\n",
       " 301: {'INSIDE': [[None, 45, 242, 247, 251, 318],\n",
       "   array([ 1.e+00, -1.e+09, -1.e+09, -1.e+09, -1.e+09, -1.e+09])],\n",
       "  'ON': [[None, 111, 194, 294], array([ 1.e+00, -1.e+09, -1.e+09, -1.e+09])]},\n",
       " 302: {'INSIDE': [[None, 45, 242, 247, 251, 318],\n",
       "   array([ 1.e+00, -1.e+09, -1.e+09, -1.e+09, -1.e+09, -1.e+09])],\n",
       "  'ON': [[None, 111, 194, 294], array([ 1.e+00, -1.e+09, -1.e+09, -1.e+09])]},\n",
       " 303: {'INSIDE': [[None, 45, 242, 247, 251, 318],\n",
       "   array([ 1.e+00, -1.e+09, -1.e+09, -1.e+09, -1.e+09, -1.e+09])],\n",
       "  'ON': [[None, 111, 194, 294], array([ 1.e+00, -1.e+09, -1.e+09, -1.e+09])]},\n",
       " 304: {'INSIDE': [[None, 45, 242, 247, 251, 318],\n",
       "   array([ 1.e+00, -1.e+09, -1.e+09, -1.e+09, -1.e+09, -1.e+09])],\n",
       "  'ON': [[None, 111, 194, 294], array([ 1.e+00, -1.e+09, -1.e+09, -1.e+09])]},\n",
       " 305: {'INSIDE': [[None, 45, 242, 247, 251, 318],\n",
       "   array([ 1.e+00, -1.e+09, -1.e+09, -1.e+09, -1.e+09, -1.e+09])],\n",
       "  'ON': [[None, 111, 194, 294], array([ 1.e+00, -1.e+09, -1.e+09, -1.e+09])]},\n",
       " 306: {'INSIDE': [[None, 45, 242, 247, 251, 318],\n",
       "   array([ 1.e+00, -1.e+09, -1.e+09, -1.e+09, -1.e+09, -1.e+09])],\n",
       "  'ON': [[None, 111, 194, 294], array([ 1.e+00, -1.e+09, -1.e+09, -1.e+09])]},\n",
       " 307: {'INSIDE': [[None, 45, 242, 247, 251, 318],\n",
       "   array([ 1.e+00, -1.e+09, -1.e+09, -1.e+09, -1.e+09, -1.e+09])],\n",
       "  'ON': [[None, 111, 194, 294], array([ 1.e+00, -1.e+09, -1.e+09, -1.e+09])]},\n",
       " 308: {'INSIDE': [[None, 45, 242, 247, 251, 318],\n",
       "   array([ 1.e+00, -1.e+09, -1.e+09, -1.e+09, -1.e+09, -1.e+09])],\n",
       "  'ON': [[None, 111, 194, 294], array([ 1.e+00, -1.e+09, -1.e+09, -1.e+09])]},\n",
       " 320: {'INSIDE': [[None, 45, 242, 247, 251, 318],\n",
       "   array([ 1.e+00, -1.e+09, -1.e+09, -1.e+09, -1.e+09, -1.e+09])],\n",
       "  'ON': [[None, 111, 194, 294], array([ 1.e+00, -1.e+09, -1.e+09, -1.e+09])]},\n",
       " 321: {'INSIDE': [[None, 45, 242, 247, 251, 318],\n",
       "   array([ 1.e+00, -1.e+09, -1.e+09, -1.e+09, -1.e+09, -1.e+09])],\n",
       "  'ON': [[None, 111, 194, 294], array([ 1.e+00, -1.e+09, -1.e+09, -1.e+09])]},\n",
       " 322: {'INSIDE': [[None, 45, 242, 247, 251, 318],\n",
       "   array([ 1.e+00, -1.e+09, -1.e+09, -1.e+09, -1.e+09, -1.e+09])],\n",
       "  'ON': [[None, 111, 194, 294], array([ 1.e+00, -1.e+09, -1.e+09, -1.e+09])]},\n",
       " 323: {'INSIDE': [[None, 45, 242, 247, 251, 318],\n",
       "   array([ 1.e+00, -1.e+09, -1.e+09, -1.e+09, -1.e+09, -1.e+09])],\n",
       "  'ON': [[None, 111, 194, 294], array([ 1.e+00, -1.e+09, -1.e+09, -1.e+09])]},\n",
       " 327: {'INSIDE': [[None, 45, 242, 247, 251, 318],\n",
       "   array([ 1.e+00, -1.e+09, -1.e+09, -1.e+09, -1.e+09, -1.e+09])],\n",
       "  'ON': [[None, 111, 194, 294], array([ 1.e+00, -1.e+09, -1.e+09, -1.e+09])]},\n",
       " 331: {'INSIDE': [[None, 45, 242, 247, 251, 318],\n",
       "   array([ 1.e+00, -1.e+09, -1.e+09, -1.e+09, -1.e+09, -1.e+09])],\n",
       "  'ON': [[None, 111, 194, 294], array([ 1.e+00, -1.e+09, -1.e+09, -1.e+09])]},\n",
       " 335: {'INSIDE': [[None, 45, 242, 247, 251, 318],\n",
       "   array([ 1.e+00, -1.e+09, -1.e+09, -1.e+09, -1.e+09, -1.e+09])],\n",
       "  'ON': [[None, 111, 194, 294], array([ 1.e+00, -1.e+09, -1.e+09, -1.e+09])]},\n",
       " 336: {'INSIDE': [[None, 45, 242, 247, 251, 318],\n",
       "   array([ 1.e+00, -1.e+09, -1.e+09, -1.e+09, -1.e+09, -1.e+09])],\n",
       "  'ON': [[None, 111, 194, 294], array([ 1.e+00, -1.e+09, -1.e+09, -1.e+09])]},\n",
       " 337: {'INSIDE': [[None, 45, 242, 247, 251, 318],\n",
       "   array([ 1.e+00, -1.e+09, -1.e+09, -1.e+09, -1.e+09, -1.e+09])],\n",
       "  'ON': [[None, 111, 194, 294], array([-1.e+09, -1.e+09, -1.e+09,  1.e+00])]},\n",
       " 338: {'INSIDE': [[None, 45, 242, 247, 251, 318],\n",
       "   array([ 1.e+00, -1.e+09, -1.e+09, -1.e+09, -1.e+09, -1.e+09])],\n",
       "  'ON': [[None, 111, 194, 294], array([ 1.e+00, -1.e+09, -1.e+09, -1.e+09])]},\n",
       " 339: {'INSIDE': [[None, 45, 242, 247, 251, 318],\n",
       "   array([ 1.e+00, -1.e+09, -1.e+09, -1.e+09, -1.e+09, -1.e+09])],\n",
       "  'ON': [[None, 111, 194, 294], array([ 1.e+00, -1.e+09, -1.e+09, -1.e+09])]},\n",
       " 340: {'INSIDE': [[None, 45, 242, 247, 251, 318],\n",
       "   array([ 1.e+00, -1.e+09, -1.e+09, -1.e+09, -1.e+09, -1.e+09])],\n",
       "  'ON': [[None, 111, 194, 294], array([ 1.e+00, -1.e+09, -1.e+09, -1.e+09])]},\n",
       " 341: {'INSIDE': [[None, 45, 242, 247, 251, 318],\n",
       "   array([ 1.e+00, -1.e+09, -1.e+09, -1.e+09, -1.e+09, -1.e+09])],\n",
       "  'ON': [[None, 111, 194, 294], array([ 1.e+00, -1.e+09, -1.e+09, -1.e+09])]},\n",
       " 342: {'INSIDE': [[None, 45, 242, 247, 251, 318],\n",
       "   array([ 1.e+00, -1.e+09, -1.e+09, -1.e+09, -1.e+09, -1.e+09])],\n",
       "  'ON': [[None, 111, 194, 294], array([ 1.e+00, -1.e+09, -1.e+09, -1.e+09])]},\n",
       " 343: {'INSIDE': [[None, 45, 242, 247, 251, 318],\n",
       "   array([ 1.e+00, -1.e+09, -1.e+09, -1.e+09, -1.e+09, -1.e+09])],\n",
       "  'ON': [[None, 111, 194, 294], array([ 1.e+00, -1.e+09, -1.e+09, -1.e+09])]},\n",
       " 344: {'INSIDE': [[None, 45, 242, 247, 251, 318],\n",
       "   array([ 1.e+00, -1.e+09, -1.e+09, -1.e+09, -1.e+09, -1.e+09])],\n",
       "  'ON': [[None, 111, 194, 294], array([ 1.e+00, -1.e+09, -1.e+09, -1.e+09])]},\n",
       " 349: {'INSIDE': [[None, 45, 242, 247, 251, 318],\n",
       "   array([ 1.e+00, -1.e+09, -1.e+09, -1.e+09, -1.e+09, -1.e+09])],\n",
       "  'ON': [[None, 111, 194, 294], array([ 1.e+00, -1.e+09, -1.e+09, -1.e+09])]},\n",
       " 350: {'INSIDE': [[None, 45, 242, 247, 251, 318],\n",
       "   array([ 1.e+00, -1.e+09, -1.e+09, -1.e+09, -1.e+09, -1.e+09])],\n",
       "  'ON': [[None, 111, 194, 294], array([ 1.e+00, -1.e+09, -1.e+09, -1.e+09])]},\n",
       " 351: {'INSIDE': [[None, 45, 242, 247, 251, 318],\n",
       "   array([ 1.e+00, -1.e+09, -1.e+09, -1.e+09, -1.e+09, -1.e+09])],\n",
       "  'ON': [[None, 111, 194, 294], array([-1.e+09,  1.e+00, -1.e+09, -1.e+09])]},\n",
       " 352: {'INSIDE': [[None, 45, 242, 247, 251, 318],\n",
       "   array([ 1.e+00, -1.e+09, -1.e+09, -1.e+09, -1.e+09, -1.e+09])],\n",
       "  'ON': [[None, 111, 194, 294], array([-1.e+09,  1.e+00, -1.e+09, -1.e+09])]},\n",
       " 353: {'INSIDE': [[None, 45, 242, 247, 251, 318],\n",
       "   array([ 1.e+00, -1.e+09, -1.e+09, -1.e+09, -1.e+09, -1.e+09])],\n",
       "  'ON': [[None, 111, 194, 294], array([-1.e+09,  1.e+00, -1.e+09, -1.e+09])]},\n",
       " 354: {'INSIDE': [[None, 45, 242, 247, 251, 318],\n",
       "   array([ 1.e+00, -1.e+09, -1.e+09, -1.e+09, -1.e+09, -1.e+09])],\n",
       "  'ON': [[None, 111, 194, 294], array([ 1.e+00, -1.e+09, -1.e+09, -1.e+09])]},\n",
       " 355: {'INSIDE': [[None, 45, 242, 247, 251, 318],\n",
       "   array([ 1.e+00, -1.e+09, -1.e+09, -1.e+09, -1.e+09, -1.e+09])],\n",
       "  'ON': [[None, 111, 194, 294], array([ 1.e+00, -1.e+09, -1.e+09, -1.e+09])]},\n",
       " 356: {'INSIDE': [[None, 45, 242, 247, 251, 318],\n",
       "   array([-1.e+09, -1.e+09,  1.e+00, -1.e+09, -1.e+09, -1.e+09])],\n",
       "  'ON': [[None, 111, 194, 294], array([ 1.e+00, -1.e+09, -1.e+09, -1.e+09])]},\n",
       " 357: {'INSIDE': [[None, 45, 242, 247, 251, 318],\n",
       "   array([-1.e+09, -1.e+09,  1.e+00, -1.e+09, -1.e+09, -1.e+09])],\n",
       "  'ON': [[None, 111, 194, 294], array([ 1.e+00, -1.e+09, -1.e+09, -1.e+09])]},\n",
       " 358: {'INSIDE': [[None, 45, 242, 247, 251, 318],\n",
       "   array([ 1.e+00, -1.e+09, -1.e+09, -1.e+09, -1.e+09, -1.e+09])],\n",
       "  'ON': [[None, 111, 194, 294], array([ 1.e+00, -1.e+09, -1.e+09, -1.e+09])]},\n",
       " 359: {'INSIDE': [[None, 45, 242, 247, 251, 318],\n",
       "   array([ 1.e+00, -1.e+09, -1.e+09, -1.e+09, -1.e+09, -1.e+09])],\n",
       "  'ON': [[None, 111, 194, 294], array([ 1.e+00, -1.e+09, -1.e+09, -1.e+09])]},\n",
       " 149: {'INSIDE': [[None, 45, 242, 247, 251, 318],\n",
       "   array([ 1.e+00, -1.e+09, -1.e+09, -1.e+09, -1.e+09, -1.e+09])],\n",
       "  'ON': [[None, 111, 194, 294], array([ 1.e+00, -1.e+09, -1.e+09, -1.e+09])]},\n",
       " 150: {'INSIDE': [[None, 45, 242, 247, 251, 318],\n",
       "   array([ 1.e+00, -1.e+09, -1.e+09, -1.e+09, -1.e+09, -1.e+09])],\n",
       "  'ON': [[None, 111, 194, 294], array([ 1.e+00, -1.e+09, -1.e+09, -1.e+09])]},\n",
       " 151: {'INSIDE': [[None, 45, 242, 247, 251, 318],\n",
       "   array([ 1.e+00, -1.e+09, -1.e+09, -1.e+09, -1.e+09, -1.e+09])],\n",
       "  'ON': [[None, 111, 194, 294], array([ 1.e+00, -1.e+09, -1.e+09, -1.e+09])]},\n",
       " 152: {'INSIDE': [[None, 45, 242, 247, 251, 318],\n",
       "   array([ 1.e+00, -1.e+09, -1.e+09, -1.e+09, -1.e+09, -1.e+09])],\n",
       "  'ON': [[None, 111, 194, 294], array([ 1.e+00, -1.e+09, -1.e+09, -1.e+09])]},\n",
       " 153: {'INSIDE': [[None, 45, 242, 247, 251, 318],\n",
       "   array([ 1.e+00, -1.e+09, -1.e+09, -1.e+09, -1.e+09, -1.e+09])],\n",
       "  'ON': [[None, 111, 194, 294], array([ 1.e+00, -1.e+09, -1.e+09, -1.e+09])]},\n",
       " 154: {'INSIDE': [[None, 45, 242, 247, 251, 318],\n",
       "   array([ 1.e+00, -1.e+09, -1.e+09, -1.e+09, -1.e+09, -1.e+09])],\n",
       "  'ON': [[None, 111, 194, 294], array([ 1.e+00, -1.e+09, -1.e+09, -1.e+09])]},\n",
       " 309: {'INSIDE': [[None, 45, 242, 247, 251, 318],\n",
       "   array([ 1.e+00, -1.e+09, -1.e+09, -1.e+09, -1.e+09, -1.e+09])],\n",
       "  'ON': [[None, 111, 194, 294], array([ 1.e+00, -1.e+09, -1.e+09, -1.e+09])]},\n",
       " 312: {'INSIDE': [[None, 45, 242, 247, 251, 318],\n",
       "   array([ 1.e+00, -1.e+09, -1.e+09, -1.e+09, -1.e+09, -1.e+09])],\n",
       "  'ON': [[None, 111, 194, 294], array([ 1.e+00, -1.e+09, -1.e+09, -1.e+09])]},\n",
       " 314: {'INSIDE': [[None, 45, 242, 247, 251, 318],\n",
       "   array([ 1.e+00, -1.e+09, -1.e+09, -1.e+09, -1.e+09, -1.e+09])],\n",
       "  'ON': [[None, 111, 194, 294], array([ 1.e+00, -1.e+09, -1.e+09, -1.e+09])]},\n",
       " 348: {'INSIDE': [[None, 45, 242, 247, 251, 318],\n",
       "   array([ 1.e+00, -1.e+09, -1.e+09, -1.e+09, -1.e+09, -1.e+09])],\n",
       "  'ON': [[None, 111, 194, 294], array([ 1.e+00, -1.e+09, -1.e+09, -1.e+09])]}}"
      ]
     },
     "execution_count": 389,
     "metadata": {},
     "output_type": "execute_result"
    }
   ],
   "source": [
    "content['belief'][0][0]"
   ]
  },
  {
   "cell_type": "code",
   "execution_count": 354,
   "metadata": {},
   "outputs": [
    {
     "name": "stdout",
     "output_type": "stream",
     "text": [
      "logs_episode.185_iter.0.pik  results_0.pik\r\n"
     ]
    }
   ],
   "source": [
    "ls ../../data_scratch/large_data/train_env_task_set_20_full_reduced_tasks1to3/1_full_opencost0_closecostFalse_walkcost0.05_forgetrate0v9_particles_v2"
   ]
  },
  {
   "cell_type": "code",
   "execution_count": 243,
   "metadata": {},
   "outputs": [],
   "source": [
    "rm -rf ../../data_scratch/large_data/train_env_task_set_20_full_reduced_tasks_single/10_cone*"
   ]
  },
  {
   "cell_type": "code",
   "execution_count": 244,
   "metadata": {},
   "outputs": [
    {
     "name": "stdout",
     "output_type": "stream",
     "text": [
      "total 25638\r\n",
      "drwxrwsr-x 5 xavierpuig vision-torralba        5 Apr  5 10:21 \u001b[0m\u001b[01;34mimg\u001b[0m/\r\n",
      "-rw-rw-r-- 1 xavierpuig vision-torralba       48 Apr  5 10:20 results_0.pik\r\n",
      "-rw-rw-r-- 1 xavierpuig vision-torralba 26920199 Apr  5 10:20 logs_episode.185_iter.1.pik\r\n",
      "-rw-rw-r-- 1 xavierpuig vision-torralba 26918605 Apr  5 10:17 logs_episode.185_iter.0.pik\r\n"
     ]
    }
   ],
   "source": [
    "ls -lt ../../data_scratch/large_data/train_env_task_set_20_full_reduced_tasks_single/10_cone_opencost0_closecostFalse_walkcost0.05_forgetrate0v9_particles_v2/\n"
   ]
  },
  {
   "cell_type": "code",
   "execution_count": 232,
   "metadata": {},
   "outputs": [],
   "source": [
    "rm -rf /data/vision/torralba/frames/data_acquisition/SyntheticStories/agent_preferences/agent_preferences/analysis/10_cone*\n"
   ]
  },
  {
   "cell_type": "code",
   "execution_count": 281,
   "metadata": {},
   "outputs": [
    {
     "name": "stdout",
     "output_type": "stream",
     "text": [
      "total 38471\r\n",
      "-rw-rw-r-- 1 xavierpuig vision-torralba       52 Apr  5 10:24 results_0.pik\r\n",
      "-rw-rw-r-- 1 xavierpuig vision-torralba 26915042 Apr  5 10:24 logs_episode.185_iter.2.pik\r\n",
      "drwxrwsr-x 5 xavierpuig vision-torralba        5 Apr  5 10:21 \u001b[0m\u001b[01;34mimg\u001b[0m/\r\n",
      "-rw-rw-r-- 1 xavierpuig vision-torralba 26920199 Apr  5 10:20 logs_episode.185_iter.1.pik\r\n",
      "-rw-rw-r-- 1 xavierpuig vision-torralba 26918605 Apr  5 10:17 logs_episode.185_iter.0.pik\r\n"
     ]
    }
   ],
   "source": [
    "ls -lt  ../../data_scratch/large_data/train_env_task_set_20_full_reduced_tasks_single/10_cone_opencost0_closecostFalse_walkcost0.05_forgetrate0v9_particles_v2/\n"
   ]
  },
  {
   "cell_type": "code",
   "execution_count": 285,
   "metadata": {},
   "outputs": [
    {
     "name": "stdout",
     "output_type": "stream",
     "text": [
      "total 1841\r\n",
      "-rw-rw-r-- 1 xavierpuig vision-torralba      42 Apr  5 13:13 results_0.pik\r\n",
      "-rw-rw-r-- 1 xavierpuig vision-torralba 3840938 Apr  5 13:13 logs_episode.185_iter.0.pik\r\n"
     ]
    }
   ],
   "source": [
    "ls -lt  ../../data_scratch/large_data/train_env_task_set_20_full_reduced_tasks1to3/13_partial_opencost0_closecostFalse_walkcost0.05_forgetrate0v9_particles_v2"
   ]
  },
  {
   "cell_type": "code",
   "execution_count": 59,
   "metadata": {
    "scrolled": true
   },
   "outputs": [
    {
     "name": "stdout",
     "output_type": "stream",
     "text": [
      "['../../data_scratch/large_data_toy/test_env_task_set_10_full_reduced_tasks/1_full_opencost0_closecostFalse_walkcost0.05_forgetrate0v9_particles_v2', '../../data_scratch/large_data_toy/test_env_task_set_10_full_reduced_tasks/4_partial_opencost0_closecostFalse_walkcost0.05_forgetrate0v9_particles_v2']\n",
      "../../data_scratch/large_data_toy/test_env_task_set_10_full_reduced_tasks/1_full_opencost0_closecostFalse_walkcost0.05_forgetrate0v9_particles_v2\n"
     ]
    },
    {
     "name": "stderr",
     "output_type": "stream",
     "text": [
      "\n",
      "  0%|          | 0/38 [00:00<?, ?it/s]\u001b[A\n",
      " 21%|██        | 8/38 [00:00<00:00, 76.56it/s]\u001b[A\n",
      " 37%|███▋      | 14/38 [00:00<00:00, 70.29it/s]\u001b[A\n",
      " 50%|█████     | 19/38 [00:00<00:00, 61.69it/s]\u001b[A\n",
      " 63%|██████▎   | 24/38 [00:00<00:00, 53.72it/s]\u001b[A\n",
      " 74%|███████▎  | 28/38 [00:00<00:00, 47.12it/s]\u001b[A\n",
      " 84%|████████▍ | 32/38 [00:00<00:00, 42.06it/s]\u001b[A\n",
      "100%|██████████| 38/38 [00:02<00:00, 16.16it/s]\u001b[A\n"
     ]
    },
    {
     "name": "stdout",
     "output_type": "stream",
     "text": [
      "1_full_opencost0_closecostFalse_walkcost0.05_forgetrate0v9_particles_v2_logs_episode.0_iter.0.mp4\n",
      "../../data_scratch/large_data_toy/test_env_task_set_10_full_reduced_tasks/4_partial_opencost0_closecostFalse_walkcost0.05_forgetrate0v9_particles_v2\n"
     ]
    },
    {
     "name": "stderr",
     "output_type": "stream",
     "text": [
      "\n",
      "  0%|          | 0/116 [00:00<?, ?it/s]\u001b[A\n",
      "  8%|▊         | 9/116 [00:00<00:01, 82.12it/s]\u001b[A\n",
      " 13%|█▎        | 15/116 [00:00<00:01, 73.28it/s]\u001b[A\n",
      " 17%|█▋        | 20/116 [00:00<00:01, 63.76it/s]\u001b[A\n",
      " 21%|██        | 24/116 [00:00<00:03, 28.65it/s]\u001b[A\n",
      " 24%|██▍       | 28/116 [00:00<00:02, 30.54it/s]\u001b[A\n",
      " 28%|██▊       | 32/116 [00:00<00:02, 31.07it/s]\u001b[A\n",
      " 31%|███       | 36/116 [00:01<00:02, 30.76it/s]\u001b[A\n",
      " 34%|███▍      | 40/116 [00:01<00:02, 29.82it/s]\u001b[A\n",
      " 38%|███▊      | 44/116 [00:01<00:02, 28.41it/s]\u001b[A\n",
      " 41%|████      | 47/116 [00:01<00:02, 27.13it/s]\u001b[A\n",
      " 43%|████▎     | 50/116 [00:01<00:02, 26.12it/s]\u001b[A\n",
      " 46%|████▌     | 53/116 [00:01<00:02, 25.17it/s]\u001b[A\n",
      " 48%|████▊     | 56/116 [00:01<00:02, 24.14it/s]\u001b[A\n",
      " 51%|█████     | 59/116 [00:01<00:02, 23.14it/s]\u001b[A\n",
      " 53%|█████▎    | 62/116 [00:02<00:02, 22.22it/s]\u001b[A\n",
      " 56%|█████▌    | 65/116 [00:02<00:02, 21.34it/s]\u001b[A\n",
      " 59%|█████▊    | 68/116 [00:02<00:03, 13.36it/s]\u001b[A\n",
      " 60%|██████    | 70/116 [00:02<00:03, 14.48it/s]\u001b[A\n",
      " 62%|██████▏   | 72/116 [00:02<00:02, 15.28it/s]\u001b[A\n",
      " 64%|██████▍   | 74/116 [00:03<00:02, 15.83it/s]\u001b[A\n",
      " 66%|██████▌   | 76/116 [00:03<00:02, 15.34it/s]\u001b[A\n",
      " 67%|██████▋   | 78/116 [00:03<00:02, 15.90it/s]\u001b[A\n",
      " 69%|██████▉   | 80/116 [00:03<00:02, 16.15it/s]\u001b[A\n",
      " 71%|███████   | 82/116 [00:03<00:02, 16.24it/s]\u001b[A\n",
      " 72%|███████▏  | 84/116 [00:03<00:01, 16.18it/s]\u001b[A\n",
      " 74%|███████▍  | 86/116 [00:03<00:01, 16.04it/s]\u001b[A\n",
      " 76%|███████▌  | 88/116 [00:03<00:01, 15.91it/s]\u001b[A\n",
      " 78%|███████▊  | 90/116 [00:04<00:01, 15.68it/s]\u001b[A\n",
      " 79%|███████▉  | 92/116 [00:04<00:01, 15.44it/s]\u001b[A\n",
      " 81%|████████  | 94/116 [00:04<00:01, 15.19it/s]\u001b[A\n",
      " 83%|████████▎ | 96/116 [00:04<00:01, 14.96it/s]\u001b[A\n",
      " 84%|████████▍ | 98/116 [00:04<00:01, 14.72it/s]\u001b[A\n",
      " 86%|████████▌ | 100/116 [00:05<00:01,  8.02it/s]\u001b[A\n",
      " 88%|████████▊ | 102/116 [00:05<00:01,  9.12it/s]\u001b[A\n",
      " 90%|████████▉ | 104/116 [00:05<00:01, 10.03it/s]\u001b[A\n",
      " 91%|█████████▏| 106/116 [00:05<00:00, 10.75it/s]\u001b[A\n",
      " 93%|█████████▎| 108/116 [00:05<00:00, 11.32it/s]\u001b[A\n",
      " 95%|█████████▍| 110/116 [00:05<00:00, 11.74it/s]\u001b[A\n",
      " 97%|█████████▋| 112/116 [00:06<00:00, 11.99it/s]\u001b[A\n",
      " 98%|█████████▊| 114/116 [00:06<00:00, 12.12it/s]\u001b[A\n",
      "100%|██████████| 116/116 [00:06<00:00, 18.29it/s]\u001b[A\n"
     ]
    },
    {
     "name": "stdout",
     "output_type": "stream",
     "text": [
      "4_partial_opencost0_closecostFalse_walkcost0.05_forgetrate0v9_particles_v2_logs_episode.0_iter.0.mp4\n"
     ]
    },
    {
     "data": {
      "image/png": "[encoded data removed]",
      "text/plain": [
       "<Figure size 864x648 with 1 Axes>"
      ]
     },
     "metadata": {
      "needs_background": "light"
     },
     "output_type": "display_data"
    },
    {
     "data": {
      "image/png": "[encoded data removed]",
      "text/plain": [
       "<Figure size 864x648 with 1 Axes>"
      ]
     },
     "metadata": {
      "needs_background": "light"
     },
     "output_type": "display_data"
    }
   ],
   "source": [
    "import glob\n",
    "import os\n",
    "init_path = '../../data_scratch/large_data_toy/test_env_task_set_10_full_reduced_tasks/'\n",
    "files_agents = sorted(glob.glob(init_path + '*'))\n",
    "print(files_agents)\n",
    "for file in files_agents:\n",
    "    print(file)\n",
    "    fn = '/logs_episode.0_iter.0.pik'\n",
    "    fname = file + fn\n",
    "    if os.path.isfile(fname):\n",
    "        img = visualize_trajectory(fname, gen_vid=True, plot_belief=False, full_obs=True)\n",
    "#         plt.imshow(img)"
   ]
  },
  {
   "cell_type": "code",
   "execution_count": null,
   "metadata": {},
   "outputs": [],
   "source": [
    "ls ../../data_scratch/large_data_toy/test_env_task_set_10_full_reduced_tasks_single/6_partial_opencost0_closecostFalse_walkcost0.05_forgetrate0.2v9_particles_v2/"
   ]
  },
  {
   "cell_type": "code",
   "execution_count": null,
   "metadata": {},
   "outputs": [],
   "source": []
  },
  {
   "cell_type": "code",
   "execution_count": 35,
   "metadata": {},
   "outputs": [
    {
     "name": "stdout",
     "output_type": "stream",
     "text": [
      "file_0.json    file_146.json  file_192.json  file_238.json  file_59.json\r\n",
      "file_100.json  file_147.json  file_193.json  file_239.json  file_5.json\r\n",
      "file_101.json  file_148.json  file_194.json  file_23.json   file_60.json\r\n",
      "file_102.json  file_149.json  file_195.json  file_240.json  file_61.json\r\n",
      "file_103.json  file_14.json   file_196.json  file_241.json  file_62.json\r\n",
      "file_104.json  file_150.json  file_197.json  file_242.json  file_63.json\r\n",
      "file_105.json  file_151.json  file_198.json  file_243.json  file_64.json\r\n",
      "file_106.json  file_152.json  file_199.json  file_244.json  file_65.json\r\n",
      "file_107.json  file_153.json  file_19.json   file_245.json  file_66.json\r\n",
      "file_108.json  file_154.json  file_1.json    file_246.json  file_67.json\r\n",
      "file_109.json  file_155.json  file_200.json  file_247.json  file_68.json\r\n",
      "file_10.json   file_156.json  file_201.json  file_248.json  file_69.json\r\n",
      "file_110.json  file_157.json  file_202.json  file_249.json  file_6.json\r\n",
      "file_111.json  file_158.json  file_203.json  file_24.json   file_70.json\r\n",
      "file_112.json  file_159.json  file_204.json  file_25.json   file_71.json\r\n",
      "file_113.json  file_15.json   file_205.json  file_26.json   file_72.json\r\n",
      "file_114.json  file_160.json  file_206.json  file_27.json   file_73.json\r\n",
      "file_115.json  file_161.json  file_207.json  file_28.json   file_74.json\r\n",
      "file_116.json  file_162.json  file_208.json  file_29.json   file_75.json\r\n",
      "file_117.json  file_163.json  file_209.json  file_2.json    file_76.json\r\n",
      "file_118.json  file_164.json  file_20.json   file_30.json   file_77.json\r\n",
      "file_119.json  file_165.json  file_210.json  file_31.json   file_78.json\r\n",
      "file_11.json   file_166.json  file_211.json  file_32.json   file_79.json\r\n",
      "file_120.json  file_167.json  file_212.json  file_33.json   file_7.json\r\n",
      "file_121.json  file_168.json  file_213.json  file_34.json   file_80.json\r\n",
      "file_122.json  file_169.json  file_214.json  file_35.json   file_81.json\r\n",
      "file_123.json  file_16.json   file_215.json  file_36.json   file_82.json\r\n",
      "file_124.json  file_170.json  file_216.json  file_37.json   file_83.json\r\n",
      "file_125.json  file_171.json  file_217.json  file_38.json   file_84.json\r\n",
      "file_126.json  file_172.json  file_218.json  file_39.json   file_85.json\r\n",
      "file_127.json  file_173.json  file_219.json  file_3.json    file_86.json\r\n",
      "file_128.json  file_174.json  file_21.json   file_40.json   file_87.json\r\n",
      "file_129.json  file_175.json  file_220.json  file_41.json   file_88.json\r\n",
      "file_12.json   file_176.json  file_221.json  file_42.json   file_89.json\r\n",
      "file_130.json  file_177.json  file_222.json  file_43.json   file_8.json\r\n",
      "file_131.json  file_178.json  file_223.json  file_44.json   file_90.json\r\n",
      "file_132.json  file_179.json  file_224.json  file_45.json   file_91.json\r\n",
      "file_133.json  file_17.json   file_225.json  file_46.json   file_92.json\r\n",
      "file_134.json  file_180.json  file_226.json  file_47.json   file_93.json\r\n",
      "file_135.json  file_181.json  file_227.json  file_48.json   file_94.json\r\n",
      "file_136.json  file_182.json  file_228.json  file_49.json   file_95.json\r\n",
      "file_137.json  file_183.json  file_229.json  file_4.json    file_96.json\r\n",
      "file_138.json  file_184.json  file_22.json   file_50.json   file_97.json\r\n",
      "file_139.json  file_185.json  file_230.json  file_51.json   file_98.json\r\n",
      "file_13.json   file_186.json  file_231.json  file_52.json   file_99.json\r\n",
      "file_140.json  file_187.json  file_232.json  file_53.json   file_9.json\r\n",
      "file_141.json  file_188.json  file_233.json  file_54.json   init_graph.json\r\n",
      "file_142.json  file_189.json  file_234.json  file_55.json\r\n",
      "file_143.json  file_18.json   file_235.json  file_56.json\r\n",
      "file_144.json  file_190.json  file_236.json  file_57.json\r\n",
      "file_145.json  file_191.json  file_237.json  file_58.json\r\n"
     ]
    }
   ],
   "source": [
    "ls ../../../data_collection_wah/data_analysis/saved_data/planner/logs_agent_58_prepare_food_3/"
   ]
  },
  {
   "cell_type": "code",
   "execution_count": 36,
   "metadata": {},
   "outputs": [
    {
     "name": "stdout",
     "output_type": "stream",
     "text": [
      "{'on_cupcake_73': 0, 'on_juice_73': 0, 'on_pancake_73': 0, 'on_poundcake_73': 1, 'on_wine_73': 0, 'on_pudding_73': 0, 'on_apple_73': 1, 'on_coffeepot_73': 0}\n"
     ]
    }
   ],
   "source": [
    "import ipdb\n",
    "import json\n",
    "import glob\n",
    "\n",
    "def fill_graph(graph, id2node):\n",
    "    for node in graph['nodes']:\n",
    "        node['class_name'] = id2node[node['id']]['class_name']\n",
    "        node['category'] = id2node[node['id']]['category']\n",
    "    return graph\n",
    "def generate_pkl(folder_inp, out_file='out.pkl'):\n",
    "    files = glob.glob(f'{folder_inp}/file*.json')\n",
    "    nsteps = len(files)\n",
    "    actions = []\n",
    "    graphs = []\n",
    "    with open(f'{folder_inp}/init_graph.json', 'r') as f:\n",
    "        content = json.load(f)\n",
    "    id2node = {node['id']: node for node in content['graph']['nodes']}\n",
    "    for step in range(nsteps):\n",
    "#         print(step, nsteps)\n",
    "        with open(f'{folder_inp}/file_{step}.json', 'r') as f:\n",
    "            content = json.load(f)\n",
    "        actions.append(content['instruction'])\n",
    "        graphs.append(fill_graph(content['graph'], id2node))\n",
    "#         ipdb.set_trace()\n",
    "    print(content['predicates'])\n",
    "    final_c = {\n",
    "        'graph': graphs,\n",
    "        'init_graph': graphs[0],\n",
    "        'goals': {0: content['predicates']}\n",
    "    }\n",
    "    with open(out_file, 'wb') as f:\n",
    "        pkl.dump(final_c, f)\n",
    "file_inp = '../../../data_collection_wah/record_graph_iclr2020_backup/single_agent_maite/task_58/time.09.25.2020-20.08.42/'\n",
    "file_inp = '../../../data_collection_wah/data_analysis/saved_data/planner/logs_agent_58_prepare_food_3/'\n",
    "#generate_pkl(file_inp)\n",
    "generate_pkl(file_inp, out_file='out_plan.pkl')"
   ]
  },
  {
   "cell_type": "code",
   "execution_count": 37,
   "metadata": {},
   "outputs": [
    {
     "name": "stderr",
     "output_type": "stream",
     "text": [
      " 60%|██████    | 150/250 [00:10<00:13,  7.33it/s]"
     ]
    },
    {
     "ename": "IndexError",
     "evalue": "index 150 is out of bounds for axis 0 with size 150",
     "output_type": "error",
     "traceback": [
      "\u001b[0;31m---------------------------------------------------------------------------\u001b[0m",
      "\u001b[0;31mIndexError\u001b[0m                                Traceback (most recent call last)",
      "\u001b[0;32m<ipython-input-37-04283b39fbf5>\u001b[0m in \u001b[0;36m<module>\u001b[0;34m\u001b[0m\n\u001b[0;32m----> 1\u001b[0;31m \u001b[0mimg\u001b[0m \u001b[0;34m=\u001b[0m \u001b[0mvisualize_trajectory\u001b[0m\u001b[0;34m(\u001b[0m\u001b[0;34m'out_plan.pkl'\u001b[0m\u001b[0;34m,\u001b[0m \u001b[0mgen_vid\u001b[0m\u001b[0;34m=\u001b[0m\u001b[0;32mTrue\u001b[0m\u001b[0;34m,\u001b[0m \u001b[0mplot_belief\u001b[0m\u001b[0;34m=\u001b[0m\u001b[0;32mFalse\u001b[0m\u001b[0;34m,\u001b[0m \u001b[0mfull_obs\u001b[0m\u001b[0;34m=\u001b[0m\u001b[0;32mTrue\u001b[0m\u001b[0;34m)\u001b[0m\u001b[0;34m\u001b[0m\u001b[0;34m\u001b[0m\u001b[0m\n\u001b[0m",
      "\u001b[0;32m<ipython-input-14-1160ee29de07>\u001b[0m in \u001b[0;36mvisualize_trajectory\u001b[0;34m(file_path, gen_vid, plot_belief, belief_id, full_obs)\u001b[0m\n\u001b[1;32m     70\u001b[0m         \u001b[0;32melse\u001b[0m\u001b[0;34m:\u001b[0m\u001b[0;34m\u001b[0m\u001b[0;34m\u001b[0m\u001b[0m\n\u001b[1;32m     71\u001b[0m             \u001b[0mangle\u001b[0m \u001b[0;34m=\u001b[0m \u001b[0;36m0\u001b[0m\u001b[0;34m\u001b[0m\u001b[0;34m\u001b[0m\u001b[0m\n\u001b[0;32m---> 72\u001b[0;31m         \u001b[0max\u001b[0m\u001b[0;34m.\u001b[0m\u001b[0mscatter\u001b[0m\u001b[0;34m(\u001b[0m\u001b[0mcxy\u001b[0m\u001b[0;34m[\u001b[0m\u001b[0;34m:\u001b[0m\u001b[0;34m,\u001b[0m\u001b[0;36m0\u001b[0m\u001b[0;34m]\u001b[0m\u001b[0;34m,\u001b[0m \u001b[0mcxy\u001b[0m\u001b[0;34m[\u001b[0m\u001b[0;34m:\u001b[0m\u001b[0;34m,\u001b[0m \u001b[0;36m1\u001b[0m\u001b[0;34m]\u001b[0m\u001b[0;34m,\u001b[0m \u001b[0mcolor\u001b[0m\u001b[0;34m=\u001b[0m\u001b[0mcolors\u001b[0m\u001b[0;34m[\u001b[0m\u001b[0mits\u001b[0m\u001b[0;34m]\u001b[0m\u001b[0;34m,\u001b[0m \u001b[0ms\u001b[0m\u001b[0;34m=\u001b[0m\u001b[0;36m50\u001b[0m\u001b[0;34m,\u001b[0m \u001b[0mmarker\u001b[0m\u001b[0;34m=\u001b[0m \u001b[0;34m(\u001b[0m\u001b[0;36m3\u001b[0m\u001b[0;34m,\u001b[0m \u001b[0;36m0\u001b[0m\u001b[0;34m,\u001b[0m \u001b[0;36m270\u001b[0m\u001b[0;34m+\u001b[0m\u001b[0mangle\u001b[0m\u001b[0;34m)\u001b[0m\u001b[0;34m)\u001b[0m\u001b[0;34m\u001b[0m\u001b[0;34m\u001b[0m\u001b[0m\n\u001b[0m\u001b[1;32m     73\u001b[0m         \u001b[0;32mfor\u001b[0m \u001b[0msteps\u001b[0m \u001b[0;32min\u001b[0m \u001b[0mrange\u001b[0m\u001b[0;34m(\u001b[0m\u001b[0msteps_t\u001b[0m\u001b[0;34m+\u001b[0m\u001b[0;36m1\u001b[0m\u001b[0;34m)\u001b[0m\u001b[0;34m:\u001b[0m\u001b[0;34m\u001b[0m\u001b[0;34m\u001b[0m\u001b[0m\n\u001b[1;32m     74\u001b[0m             \u001b[0mit\u001b[0m \u001b[0;34m=\u001b[0m \u001b[0msteps\u001b[0m\u001b[0;34m\u001b[0m\u001b[0;34m\u001b[0m\u001b[0m\n",
      "\u001b[0;31mIndexError\u001b[0m: index 150 is out of bounds for axis 0 with size 150"
     ]
    },
    {
     "data": {
      "image/png": "[encoded data removed]",
      "text/plain": [
       "<Figure size 864x648 with 1 Axes>"
      ]
     },
     "metadata": {
      "needs_background": "light"
     },
     "output_type": "display_data"
    }
   ],
   "source": [
    "img = visualize_trajectory('out_plan.pkl', gen_vid=True, plot_belief=False, full_obs=True)"
   ]
  },
  {
   "cell_type": "code",
   "execution_count": 83,
   "metadata": {},
   "outputs": [],
   "source": [
    "def convert_plot(out_path = 'wah_data/planner_truegoal/', file_input='../data_input/log_agent_0_read_book.pik'):\n",
    "\n",
    "    out_path_all = out_path + file_input.split('/')[-1].replace('.pik', '')\n",
    "    if not os.path.isdir(out_path_all):\n",
    "        os.makedirs(out_path_all)\n",
    "    with open(file_input, 'rb') as f:\n",
    "            content = pkl.load(f)\n",
    "\n",
    "#     ipdb.set_trace()\n",
    "\n",
    "    obs0 = content['obs'][0]\n",
    "#     obs1 = content['obs'][1]\n",
    "    obs_char = [node for node in obs0 if node['id'] == 1][0]\n",
    "#     obs_char2 = [node for node in obs1 if node['id'] == 2][0]\n",
    "\n",
    "    with open('{}/init_graph.json'.format(out_path_all), 'w+') as f:\n",
    "            graph_data = {'graph': content['init_unity_graph']}\n",
    "            graph_data['graph']['nodes'].append(obs_char)\n",
    "#             graph_data['graph']['nodes'].append(obs_char2)\n",
    "            json.dump(graph_data, f)\n",
    "\n",
    "    all_ids = [1, 2] + [node['id'] for node in graph_data['graph']['nodes']]\n",
    "    def convert_data(node):\n",
    "            # print(node)\n",
    "            new_node = {name: node[name] for name in ['id', 'class_name', 'states', 'bounding_box']}\n",
    "            if new_node['id'] in [1,2]:\n",
    "                    new_node['bounding_box']['size'] = [0.75, 0.75, 0.75]\n",
    "            return new_node\n",
    "\n",
    "\n",
    "    # ipdb.set_trace()\n",
    "    # First time an id is used\n",
    "    first_time_id = {}\n",
    "    for it in range(len(content['action'][0])):\n",
    "            ids_obs = [(node['id'], node) for node in content['obs'][it]]\n",
    "            ids_obs2 = [] #[(node['id'], node) for node in content['obs'][it*2 + 1]]\n",
    "            for idi, node in ids_obs + ids_obs2:\n",
    "                    if idi not in first_time_id:\n",
    "                            first_time_id[idi] = node\n",
    "\n",
    "\n",
    "    last_id = {}\n",
    "\n",
    "    for it in range(len(content['action'][0])):\n",
    "            instr = str(content['action'][0][it]) + ' | ' + str(content['action'][0][it])\n",
    "#             ipdb.set_trace()\n",
    "            preds = {it: prd for it, prd in content['goals'][0].items()}\n",
    "            info = {\n",
    "                    'instruction': [instr],\n",
    "                    'predicates': preds\n",
    "            }\n",
    "            obs = content['obs'][it]\n",
    "            obs2 = [] #content['obs'][it]\n",
    "            graph = {\n",
    "                    'nodes': obs + obs2,\n",
    "                    'edges': []\n",
    "            }\n",
    "            graph['nodes'] = [convert_data(node) for node in graph['nodes']]\n",
    "            \n",
    "            missing_ids = set(all_ids) - set([node['id'] for node in graph['nodes']])\n",
    "            for missing_id in missing_ids:\n",
    "                    if missing_id in last_id:\n",
    "                            graph['nodes'].append(last_id[missing_id])\n",
    "                    else:\n",
    "                            if missing_id in first_time_id:\n",
    "                                    graph['nodes'].append(convert_data(first_time_id[missing_id]))\n",
    "\n",
    "            # keep track of last ids\n",
    "            for node in graph['nodes']:\n",
    "                last_id[node['id']] = node\n",
    "\n",
    "            info['graph'] = graph\n",
    "            with open('{}/file_{}.json'.format(out_path_all, it), 'w+') as f:\n",
    "                    json.dump(info, f)\n",
    "# conv"
   ]
  },
  {
   "cell_type": "code",
   "execution_count": 86,
   "metadata": {},
   "outputs": [
    {
     "name": "stdout",
     "output_type": "stream",
     "text": [
      "{'on_cupcake_73': 1, 'on_juice_73': 1, 'on_pancake_73': 0, 'on_poundcake_73': 1, 'on_wine_73': 0, 'on_pudding_73': 1, 'on_apple_73': 1, 'on_coffeepot_73': 0}\n"
     ]
    }
   ],
   "source": [
    "file_inp = '../../../data_collection_wah/record_scratch/rec_good_test/multiAlice_env_task_set_20_check_neurips_test/logs_agent_58_prepare_food_0.pik'\n",
    "# convert_plot(file_input=file_inp)\n",
    "generate_pkl('wah_data/planner_truegoal/logs_agent_58_prepare_food_0/', out_file='out_plan_planner.pkl')\n",
    "#img = visualize_trajectory(file_inp, gen_vid=True, plot_belief=False, full_obs=True)"
   ]
  },
  {
   "cell_type": "code",
   "execution_count": 88,
   "metadata": {},
   "outputs": [
    {
     "name": "stderr",
     "output_type": "stream",
     "text": [
      "\n",
      "  0%|          | 0/122 [00:00<?, ?it/s]\u001b[A\n",
      "  7%|▋         | 8/122 [00:00<00:01, 76.43it/s]\u001b[A\n",
      " 11%|█▏        | 14/122 [00:00<00:01, 69.93it/s]\u001b[A\n",
      " 16%|█▌        | 19/122 [00:00<00:01, 62.25it/s]\u001b[A\n",
      " 20%|█▉        | 24/122 [00:00<00:01, 54.71it/s]\u001b[A\n",
      " 23%|██▎       | 28/122 [00:00<00:01, 48.46it/s]\u001b[A\n",
      " 26%|██▌       | 32/122 [00:00<00:02, 43.10it/s]\u001b[A\n",
      " 30%|██▉       | 36/122 [00:00<00:02, 39.29it/s]\u001b[A\n",
      " 33%|███▎      | 40/122 [00:00<00:02, 35.73it/s]\u001b[A\n",
      " 36%|███▌      | 44/122 [00:01<00:02, 32.98it/s]\u001b[A\n",
      " 39%|███▉      | 48/122 [00:01<00:02, 30.38it/s]\u001b[A\n",
      " 43%|████▎     | 52/122 [00:01<00:05, 13.64it/s]\u001b[A\n",
      " 45%|████▌     | 55/122 [00:02<00:04, 15.38it/s]\u001b[A\n",
      " 48%|████▊     | 58/122 [00:02<00:03, 16.69it/s]\u001b[A\n",
      " 50%|█████     | 61/122 [00:02<00:03, 17.59it/s]\u001b[A\n",
      " 52%|█████▏    | 64/122 [00:02<00:03, 18.08it/s]\u001b[A\n",
      " 55%|█████▍    | 67/122 [00:02<00:02, 18.36it/s]\u001b[A\n",
      " 57%|█████▋    | 70/122 [00:02<00:02, 18.45it/s]\u001b[A\n",
      " 59%|█████▉    | 72/122 [00:02<00:02, 18.16it/s]\u001b[A\n",
      " 61%|██████    | 74/122 [00:03<00:02, 17.68it/s]\u001b[A\n",
      " 62%|██████▏   | 76/122 [00:03<00:02, 17.30it/s]\u001b[A\n",
      " 64%|██████▍   | 78/122 [00:03<00:02, 17.07it/s]\u001b[A\n",
      " 66%|██████▌   | 80/122 [00:03<00:02, 16.82it/s]\u001b[A\n",
      " 67%|██████▋   | 82/122 [00:03<00:02, 16.59it/s]\u001b[A\n",
      " 69%|██████▉   | 84/122 [00:03<00:02, 16.26it/s]\u001b[A\n",
      " 70%|███████   | 86/122 [00:03<00:02, 16.08it/s]\u001b[A\n",
      " 72%|███████▏  | 88/122 [00:03<00:02, 15.99it/s]\u001b[A\n",
      " 74%|███████▍  | 90/122 [00:04<00:02, 15.75it/s]\u001b[A\n",
      " 75%|███████▌  | 92/122 [00:04<00:01, 15.56it/s]\u001b[A\n",
      " 77%|███████▋  | 94/122 [00:04<00:01, 15.36it/s]\u001b[A\n",
      " 79%|███████▊  | 96/122 [00:04<00:01, 14.97it/s]\u001b[A\n",
      " 80%|████████  | 98/122 [00:04<00:01, 14.76it/s]\u001b[A\n",
      " 82%|████████▏ | 100/122 [00:05<00:03,  6.67it/s]\u001b[A\n",
      " 84%|████████▎ | 102/122 [00:05<00:02,  7.87it/s]\u001b[A\n",
      " 85%|████████▌ | 104/122 [00:05<00:02,  8.98it/s]\u001b[A\n",
      " 87%|████████▋ | 106/122 [00:05<00:01,  9.90it/s]\u001b[A\n",
      " 89%|████████▊ | 108/122 [00:05<00:01, 10.67it/s]\u001b[A\n",
      " 90%|█████████ | 110/122 [00:06<00:01, 11.20it/s]\u001b[A\n",
      " 92%|█████████▏| 112/122 [00:06<00:00, 11.67it/s]\u001b[A\n",
      " 93%|█████████▎| 114/122 [00:06<00:00, 12.00it/s]\u001b[A\n",
      " 95%|█████████▌| 116/122 [00:06<00:00, 12.20it/s]\u001b[A\n",
      " 97%|█████████▋| 118/122 [00:06<00:00, 12.27it/s]\u001b[A\n",
      " 98%|█████████▊| 120/122 [00:06<00:00, 12.31it/s]\u001b[A\n",
      "100%|██████████| 122/122 [00:06<00:00, 17.52it/s]\u001b[A\n"
     ]
    },
    {
     "name": "stdout",
     "output_type": "stream",
     "text": [
      "_out_plan_planner.pkl.mp4\n"
     ]
    },
    {
     "data": {
      "image/png": "[encoded data removed]",
      "text/plain": [
       "<Figure size 864x648 with 1 Axes>"
      ]
     },
     "metadata": {
      "needs_background": "light"
     },
     "output_type": "display_data"
    }
   ],
   "source": [
    "img = visualize_trajectory('out_plan_planner.pkl', gen_vid=True, plot_belief=False, full_obs=True)"
   ]
  },
  {
   "cell_type": "code",
   "execution_count": 266,
   "metadata": {},
   "outputs": [],
   "source": [
    "with open('../dataset/train_env_task_set_20_full_reduced_tasks.pik', 'rb') as f:\n",
    "    cont = pkl.load(f)"
   ]
  },
  {
   "cell_type": "code",
   "execution_count": 267,
   "metadata": {},
   "outputs": [],
   "source": [
    "num_preds = []\n",
    "for c in cont:\n",
    "    num_preds.append(sum(c['task_goal'][0].values()))"
   ]
  },
  {
   "cell_type": "code",
   "execution_count": 268,
   "metadata": {},
   "outputs": [
    {
     "data": {
      "text/plain": [
       "Counter({4: 113, 2: 165, 3: 162})"
      ]
     },
     "execution_count": 268,
     "metadata": {},
     "output_type": "execute_result"
    }
   ],
   "source": [
    "from collections import Counter\n",
    "Counter(num_preds)"
   ]
  },
  {
   "cell_type": "code",
   "execution_count": 269,
   "metadata": {},
   "outputs": [
    {
     "data": {
      "text/plain": [
       "{0: {'on_cupcake_294': 1,\n",
       "  'on_juice_294': 0,\n",
       "  'on_wine_294': 0,\n",
       "  'on_pudding_294': 0,\n",
       "  'on_apple_294': 0,\n",
       "  'holds_book_1': 0,\n",
       "  'sit_1_292': 1},\n",
       " 1: {'on_cupcake_294': 1,\n",
       "  'on_juice_294': 0,\n",
       "  'on_wine_294': 0,\n",
       "  'on_pudding_294': 0,\n",
       "  'on_apple_294': 0,\n",
       "  'holds_book_1': 0,\n",
       "  'sit_1_292': 1}}"
      ]
     },
     "execution_count": 269,
     "metadata": {},
     "output_type": "execute_result"
    }
   ],
   "source": [
    "c['task_goal']"
   ]
  },
  {
   "cell_type": "code",
   "execution_count": null,
   "metadata": {},
   "outputs": [],
   "source": []
  }
 ],
 "metadata": {
  "kernelspec": {
   "display_name": "Python 3",
   "language": "python",
   "name": "python3"
  },
  "language_info": {
   "codemirror_mode": {
    "name": "ipython",
    "version": 3
   },
   "file_extension": ".py",
   "mimetype": "text/x-python",
   "name": "python",
   "nbconvert_exporter": "python",
   "pygments_lexer": "ipython3",
   "version": "3.7.6"
  }
 },
 "nbformat": 4,
 "nbformat_minor": 4
}
