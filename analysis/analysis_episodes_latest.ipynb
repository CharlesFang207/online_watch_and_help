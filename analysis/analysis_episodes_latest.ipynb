{
 "cells": [
  {
   "cell_type": "markdown",
   "metadata": {},
   "source": [
    "# Analysis dataset toy"
   ]
  },
  {
   "cell_type": "code",
   "execution_count": 1,
   "metadata": {},
   "outputs": [],
   "source": [
    "import numpy as np\n",
    "import pickle as pkl\n",
    "from multiprocessing import Pool\n",
    "from p_tqdm import p_map\n",
    "from matplotlib import pyplot as plt\n",
    "from collections import Counter\n",
    "import glob"
   ]
  },
  {
   "cell_type": "code",
   "execution_count": 2,
   "metadata": {},
   "outputs": [],
   "source": [
    "path = ('/data/vision/torralba/frames/data_acquisition/SyntheticStories/online_wah/agent_preferences/'\n",
    "        'dataset_episodes_noscratch/data_structured/train_env_task_set_150_full_task.all/*/*')"
   ]
  },
  {
   "cell_type": "code",
   "execution_count": 6,
   "metadata": {},
   "outputs": [],
   "source": [
    "path = ('/data/vision/torralba/frames/data_acquisition/SyntheticStories/online_wah/agent_preferences/'\n",
    "        'dataset_episodes_noscratch/data_structured/test_env_task_set_60_full_task.all/*/*')"
   ]
  },
  {
   "cell_type": "code",
   "execution_count": 7,
   "metadata": {},
   "outputs": [],
   "source": [
    "episodes = glob.glob(path)"
   ]
  },
  {
   "cell_type": "code",
   "execution_count": 8,
   "metadata": {},
   "outputs": [],
   "source": [
    "with open(episodes[0], 'rb') as f:\n",
    "    cont = pkl.load(f)"
   ]
  },
  {
   "cell_type": "code",
   "execution_count": 9,
   "metadata": {},
   "outputs": [
    {
     "data": {
      "text/plain": [
       "336"
      ]
     },
     "execution_count": 9,
     "metadata": {},
     "output_type": "execute_result"
    }
   ],
   "source": [
    "len(episodes)"
   ]
  },
  {
   "cell_type": "code",
   "execution_count": 10,
   "metadata": {},
   "outputs": [],
   "source": [
    "def get_task_type(episode_content):\n",
    "    if type(episode_content) == str:\n",
    "        with open(episode_content, 'rb') as f:\n",
    "            episode_content = pkl.load(f)\n",
    "    goals = episode_content['gt_goals']\n",
    "    num_preds = sum([g['count'] for g in goals.values()])\n",
    "    name_preds = [goal_name.split('_')[1] for goal_name in goals.keys()]\n",
    "    return {'pred_name': episode_content['task_name'], 'num_preds': num_preds}\n",
    "    "
   ]
  },
  {
   "cell_type": "code",
   "execution_count": 27,
   "metadata": {},
   "outputs": [],
   "source": [
    "def get_task_info(episode_content):\n",
    "#     print(episode_content)\n",
    "    file_name = ''\n",
    "    if type(episode_content) == str:\n",
    "        file_name = episode_content\n",
    "        with open(episode_content, 'rb') as f:\n",
    "            episode_content = pkl.load(f)\n",
    "    \n",
    "    if 'action' not in episode_content:\n",
    "        return {}\n",
    "    else:\n",
    "        length = len(episode_content['action'][0])\n",
    "    \n",
    "    # Check distribution of objects\n",
    "    first_graph = episode_content['graph'][0]\n",
    "    objects_interest = ['cupcake', 'salmon', 'apple', 'plate', 'waterglass', \n",
    "                    'cutleryfork', 'wineglass', 'pudding', 'remotecontrol', 'condimentbottle', 'chips']\n",
    "    obj2id = {name:index for index, name in enumerate(objects_interest)}\n",
    "    \n",
    "    object_relation_count = {}\n",
    "    count_obj = [0 for _ in objects_interest]\n",
    "    for object_name in objects_interest: \n",
    "        object_relation_count[object_name] = []\n",
    "        \n",
    "    id2node = {node['id']: node for node in first_graph['nodes']}\n",
    "    \n",
    "    # For every destination object, check the different locations\n",
    "    for edge in first_graph['edges']:\n",
    "        class_name = id2node[edge['from_id']]['class_name']\n",
    "        if class_name in objects_interest:\n",
    "            class_name_dest = id2node[edge['to_id']]['class_name']\n",
    "            relation = edge['relation_type'].lower()\n",
    "            if relation in ['close', 'facing']:\n",
    "                continue\n",
    "            full_relation_name = f'{relation}.{class_name_dest}'\n",
    "            object_relation_count[class_name].append(full_relation_name)\n",
    "    \n",
    "    for node in first_graph['nodes']:\n",
    "        class_name = node['class_name']\n",
    "        if class_name in objects_interest:\n",
    "            class_name_id = obj2id[class_name]\n",
    "            count_obj[class_name_id] += 1\n",
    "            \n",
    "    # Counter over relations\n",
    "    for class_name in objects_interest:\n",
    "        object_relation_count[class_name] = Counter(object_relation_count[class_name])\n",
    "    \n",
    "    info = get_task_type(episode_content)\n",
    "    info.update({'count_obj': count_obj})\n",
    "    info.update({'obj_relations': object_relation_count})\n",
    "    info['len_prog'] = length\n",
    "    info['finished'] = episode_content['finished']\n",
    "    actions_all = episode_content['action'][0]\n",
    "    actions_all = [x for x in actions_all if '[close]' in x]\n",
    "    info['has_close'] = len(actions_all) > 0\n",
    "    info['file_name'] = file_name\n",
    "    return info\n",
    "    "
   ]
  },
  {
   "cell_type": "code",
   "execution_count": null,
   "metadata": {},
   "outputs": [],
   "source": []
  },
  {
   "cell_type": "code",
   "execution_count": 12,
   "metadata": {},
   "outputs": [],
   "source": [
    "# episodes = list(cont.keys())\n",
    "with open(episodes[0], 'rb') as f:\n",
    "    content_episode = pkl.load(f)"
   ]
  },
  {
   "cell_type": "code",
   "execution_count": 28,
   "metadata": {},
   "outputs": [
    {
     "data": {
      "application/vnd.jupyter.widget-view+json": {
       "model_id": "4867c277a5da496db605291954a75fed",
       "version_major": 2,
       "version_minor": 0
      },
      "text/plain": [
       "HBox(children=(IntProgress(value=0, max=336), HTML(value='')))"
      ]
     },
     "metadata": {},
     "output_type": "display_data"
    },
    {
     "name": "stdout",
     "output_type": "stream",
     "text": [
      "\n"
     ]
    }
   ],
   "source": [
    "results = p_map(get_task_info, episodes)\n",
    "# results = [get_task_info(episode) for episode in episodes]"
   ]
  },
  {
   "cell_type": "code",
   "execution_count": 29,
   "metadata": {},
   "outputs": [],
   "source": [
    "results = [res for res in results if len(res) > 0 and res['len_prog'] <= 150]"
   ]
  },
  {
   "cell_type": "code",
   "execution_count": 18,
   "metadata": {},
   "outputs": [
    {
     "data": {
      "text/plain": [
       "290"
      ]
     },
     "execution_count": 18,
     "metadata": {},
     "output_type": "execute_result"
    }
   ],
   "source": [
    "len(results)"
   ]
  },
  {
   "cell_type": "code",
   "execution_count": null,
   "metadata": {},
   "outputs": [],
   "source": [
    "cont = [x['has_close'] for x in results if 'has_close' in x]"
   ]
  },
  {
   "cell_type": "code",
   "execution_count": null,
   "metadata": {},
   "outputs": [],
   "source": [
    "with open(episodes[2], 'rb') as f:\n",
    "    cont2 = pkl.load(f)\n"
   ]
  },
  {
   "cell_type": "code",
   "execution_count": null,
   "metadata": {},
   "outputs": [],
   "source": [
    "episodes[4]"
   ]
  },
  {
   "cell_type": "code",
   "execution_count": null,
   "metadata": {},
   "outputs": [],
   "source": [
    "cont2['action'][0][28:]"
   ]
  },
  {
   "cell_type": "code",
   "execution_count": null,
   "metadata": {},
   "outputs": [],
   "source": [
    "print(cont2['gt_goals']['inside_pudding_163'])\n",
    "print([node for node in cont2['graph'][28]['nodes'] if node['id'] in [163, 1]])\n",
    "\n",
    "print('\\n')\n",
    "print([node for node in cont2['graph'][29]['nodes'] if node['id'] in [163, 1]])\n"
   ]
  },
  {
   "cell_type": "code",
   "execution_count": null,
   "metadata": {},
   "outputs": [],
   "source": [
    "cont2.keys()"
   ]
  },
  {
   "cell_type": "code",
   "execution_count": null,
   "metadata": {},
   "outputs": [],
   "source": [
    "len(cont2['goals_finished'])"
   ]
  },
  {
   "cell_type": "code",
   "execution_count": null,
   "metadata": {},
   "outputs": [],
   "source": [
    "cont2['gt_goals']"
   ]
  },
  {
   "cell_type": "code",
   "execution_count": null,
   "metadata": {},
   "outputs": [],
   "source": [
    "def modify_program(prog_info):\n",
    "    return prog_info"
   ]
  },
  {
   "cell_type": "markdown",
   "metadata": {},
   "source": [
    "# Modify close action\n",
    "### This removes the behavior where the agent will keep closing containers"
   ]
  },
  {
   "cell_type": "code",
   "execution_count": 62,
   "metadata": {},
   "outputs": [],
   "source": [
    "# import copy\n",
    "# import ipdb\n",
    "# def modify_program(prog_info_name):\n",
    "#     with open(prog_info_name, 'rb') as f: \n",
    "#         prog_info = pkl.load(f)\n",
    "#     prog_info = copy.deepcopy(prog_info)\n",
    "#     if 'gt_goals' not in prog_info:\n",
    "#         return 0\n",
    "#     goal = prog_info['gt_goals']\n",
    "#     object_ids_modify = [x for x in goal.keys() if 'inside' in x]\n",
    "#     ids_modify = [goal[x]['container_ids'][0] for x in object_ids_modify]\n",
    "#     if len(ids_modify) == 0 or not prog_info['finished']:\n",
    "#         return 0\n",
    "#     for object_id in ids_modify:\n",
    "#         # Get the first time we open it\n",
    "#         action_id = [index for index, action in enumerate(prog_info['action'][0]) \n",
    "#                      if ('[open]' in action or '[close]' in action) and f'({object_id})' in action]\n",
    "        \n",
    "#         if len(action_id) < 2:\n",
    "#             return 0\n",
    "#         first_close = action_id[1]\n",
    "#         for cgraph in prog_info['graph'][first_close+1:]:\n",
    "#             cnode = [node for node in cgraph['nodes'] if node['id'] == object_id][0]\n",
    "#             cnode['states'] = ['OPEN']\n",
    "            \n",
    "#         delete_positions = action_id[1:]\n",
    "        \n",
    "#         # Delete\n",
    "#         prog_info['goals_finished'] = [action for it, action in enumerate(prog_info['goals_finished']) if it not in delete_positions]\n",
    "#         prog_info['action'][0] = [action for it, action in enumerate(prog_info['action'][0]) if it not in delete_positions]\n",
    "#         prog_info['plan'][0] = [action for it, action in enumerate(prog_info['plan'][0]) if it not in delete_positions]\n",
    "        \n",
    "#         prog_info['graph'] = [action for it, action in enumerate(prog_info['graph']) if it-1 not in delete_positions]\n",
    "#         prog_info['obs'] = [action for it, action in enumerate(prog_info['obs']) if it-1 not in delete_positions]\n",
    "#     with open(prog_info_name, 'wb') as f:\n",
    "#         pkl.dump(prog_info, f)\n",
    "#     return 1"
   ]
  },
  {
   "cell_type": "code",
   "execution_count": 63,
   "metadata": {},
   "outputs": [
    {
     "data": {
      "application/vnd.jupyter.widget-view+json": {
       "model_id": "dda41f58e2824b05b553b06623d22010",
       "version_major": 2,
       "version_minor": 0
      },
      "text/plain": [
       "HBox(children=(IntProgress(value=0, max=336), HTML(value='')))"
      ]
     },
     "metadata": {},
     "output_type": "display_data"
    },
    {
     "name": "stdout",
     "output_type": "stream",
     "text": [
      "\n"
     ]
    },
    {
     "data": {
      "text/plain": [
       "[0,\n",
       " 0,\n",
       " 0,\n",
       " 0,\n",
       " 0,\n",
       " 0,\n",
       " 0,\n",
       " 1,\n",
       " 0,\n",
       " 0,\n",
       " 1,\n",
       " 1,\n",
       " 0,\n",
       " 0,\n",
       " 0,\n",
       " 1,\n",
       " 0,\n",
       " 0,\n",
       " 0,\n",
       " 0,\n",
       " 1,\n",
       " 0,\n",
       " 1,\n",
       " 0,\n",
       " 0,\n",
       " 0,\n",
       " 0,\n",
       " 0,\n",
       " 1,\n",
       " 0,\n",
       " 0,\n",
       " 0,\n",
       " 0,\n",
       " 0,\n",
       " 0,\n",
       " 0,\n",
       " 0,\n",
       " 0,\n",
       " 0,\n",
       " 0,\n",
       " 0,\n",
       " 1,\n",
       " 0,\n",
       " 0,\n",
       " 0,\n",
       " 1,\n",
       " 0,\n",
       " 1,\n",
       " 0,\n",
       " 0,\n",
       " 0,\n",
       " 0,\n",
       " 0,\n",
       " 0,\n",
       " 0,\n",
       " 0,\n",
       " 0,\n",
       " 0,\n",
       " 1,\n",
       " 0,\n",
       " 1,\n",
       " 0,\n",
       " 0,\n",
       " 0,\n",
       " 0,\n",
       " 0,\n",
       " 0,\n",
       " 0,\n",
       " 1,\n",
       " 0,\n",
       " 0,\n",
       " 0,\n",
       " 1,\n",
       " 0,\n",
       " 0,\n",
       " 0,\n",
       " 0,\n",
       " 0,\n",
       " 1,\n",
       " 0,\n",
       " 0,\n",
       " 0,\n",
       " 0,\n",
       " 0,\n",
       " 0,\n",
       " 0,\n",
       " 1,\n",
       " 0,\n",
       " 0,\n",
       " 0,\n",
       " 0,\n",
       " 0,\n",
       " 1,\n",
       " 0,\n",
       " 0,\n",
       " 0,\n",
       " 0,\n",
       " 0,\n",
       " 0,\n",
       " 0,\n",
       " 1,\n",
       " 0,\n",
       " 0,\n",
       " 0,\n",
       " 0,\n",
       " 0,\n",
       " 0,\n",
       " 0,\n",
       " 0,\n",
       " 1,\n",
       " 0,\n",
       " 0,\n",
       " 0,\n",
       " 0,\n",
       " 0,\n",
       " 0,\n",
       " 0,\n",
       " 0,\n",
       " 1,\n",
       " 0,\n",
       " 0,\n",
       " 0,\n",
       " 0,\n",
       " 0,\n",
       " 0,\n",
       " 0,\n",
       " 0,\n",
       " 0,\n",
       " 0,\n",
       " 0,\n",
       " 0,\n",
       " 0,\n",
       " 0,\n",
       " 0,\n",
       " 0,\n",
       " 0,\n",
       " 0,\n",
       " 0,\n",
       " 0,\n",
       " 0,\n",
       " 0,\n",
       " 0,\n",
       " 0,\n",
       " 0,\n",
       " 1,\n",
       " 0,\n",
       " 0,\n",
       " 0,\n",
       " 0,\n",
       " 1,\n",
       " 0,\n",
       " 1,\n",
       " 1,\n",
       " 0,\n",
       " 1,\n",
       " 0,\n",
       " 0,\n",
       " 0,\n",
       " 0,\n",
       " 0,\n",
       " 0,\n",
       " 0,\n",
       " 0,\n",
       " 0,\n",
       " 0,\n",
       " 1,\n",
       " 0,\n",
       " 0,\n",
       " 1,\n",
       " 0,\n",
       " 0,\n",
       " 0,\n",
       " 1,\n",
       " 0,\n",
       " 0,\n",
       " 0,\n",
       " 1,\n",
       " 0,\n",
       " 1,\n",
       " 0,\n",
       " 0,\n",
       " 0,\n",
       " 0,\n",
       " 0,\n",
       " 1,\n",
       " 0,\n",
       " 0,\n",
       " 0,\n",
       " 0,\n",
       " 0,\n",
       " 0,\n",
       " 0,\n",
       " 0,\n",
       " 0,\n",
       " 0,\n",
       " 0,\n",
       " 1,\n",
       " 0,\n",
       " 0,\n",
       " 0,\n",
       " 0,\n",
       " 0,\n",
       " 0,\n",
       " 0,\n",
       " 0,\n",
       " 0,\n",
       " 0,\n",
       " 0,\n",
       " 1,\n",
       " 0,\n",
       " 0,\n",
       " 0,\n",
       " 0,\n",
       " 0,\n",
       " 0,\n",
       " 0,\n",
       " 0,\n",
       " 0,\n",
       " 0,\n",
       " 1,\n",
       " 1,\n",
       " 0,\n",
       " 0,\n",
       " 0,\n",
       " 0,\n",
       " 0,\n",
       " 0,\n",
       " 0,\n",
       " 0,\n",
       " 0,\n",
       " 1,\n",
       " 0,\n",
       " 0,\n",
       " 0,\n",
       " 0,\n",
       " 1,\n",
       " 0,\n",
       " 0,\n",
       " 0,\n",
       " 0,\n",
       " 0,\n",
       " 0,\n",
       " 0,\n",
       " 0,\n",
       " 0,\n",
       " 0,\n",
       " 0,\n",
       " 0,\n",
       " 0,\n",
       " 0,\n",
       " 0,\n",
       " 0,\n",
       " 0,\n",
       " 0,\n",
       " 0,\n",
       " 0,\n",
       " 0,\n",
       " 0,\n",
       " 0,\n",
       " 0,\n",
       " 0,\n",
       " 0,\n",
       " 0,\n",
       " 0,\n",
       " 0,\n",
       " 0,\n",
       " 0,\n",
       " 0,\n",
       " 0,\n",
       " 0,\n",
       " 1,\n",
       " 0,\n",
       " 1,\n",
       " 0,\n",
       " 0,\n",
       " 0,\n",
       " 1,\n",
       " 1,\n",
       " 1,\n",
       " 1,\n",
       " 0,\n",
       " 0,\n",
       " 1,\n",
       " 0,\n",
       " 0,\n",
       " 1,\n",
       " 0,\n",
       " 0,\n",
       " 0,\n",
       " 0,\n",
       " 0,\n",
       " 1,\n",
       " 0,\n",
       " 0,\n",
       " 0,\n",
       " 0,\n",
       " 0,\n",
       " 0,\n",
       " 1,\n",
       " 0,\n",
       " 0,\n",
       " 0,\n",
       " 0,\n",
       " 0,\n",
       " 0,\n",
       " 0,\n",
       " 0,\n",
       " 0,\n",
       " 0,\n",
       " 1,\n",
       " 0,\n",
       " 0,\n",
       " 0,\n",
       " 0,\n",
       " 0,\n",
       " 0,\n",
       " 0,\n",
       " 0,\n",
       " 0,\n",
       " 1,\n",
       " 0,\n",
       " 0,\n",
       " 0,\n",
       " 1,\n",
       " 0,\n",
       " 0,\n",
       " 0,\n",
       " 0,\n",
       " 0,\n",
       " 0,\n",
       " 0,\n",
       " 0,\n",
       " 0,\n",
       " 1,\n",
       " 0,\n",
       " 0]"
      ]
     },
     "execution_count": 63,
     "metadata": {},
     "output_type": "execute_result"
    }
   ],
   "source": [
    "# # ind = 0\n",
    "# # for episode in episodes:\n",
    "# #     print(ind)\n",
    "# #     modify_program(episode)\n",
    "# #     ind += 1\n",
    "\n",
    "# p_map(modify_program, episodes)"
   ]
  },
  {
   "cell_type": "code",
   "execution_count": null,
   "metadata": {},
   "outputs": [],
   "source": [
    "new_cont['action']"
   ]
  },
  {
   "cell_type": "markdown",
   "metadata": {},
   "source": [
    "## DONE"
   ]
  },
  {
   "cell_type": "code",
   "execution_count": 51,
   "metadata": {},
   "outputs": [
    {
     "name": "stdout",
     "output_type": "stream",
     "text": [
      "100\n"
     ]
    }
   ],
   "source": [
    "results = [results[ind] for ind in selected_ind]\n",
    "print(len(results))"
   ]
  },
  {
   "cell_type": "code",
   "execution_count": 52,
   "metadata": {},
   "outputs": [],
   "source": [
    "names = [\"setup_table\", \"put_dishwasher\", \"put_fridge\", \"prepare_food\", \"watch_tv\"]\n",
    "objects_interest = ['cupcake', 'salmon', 'apple', 'plate', 'waterglass', \n",
    "                    'cutleryfork', 'wineglass', 'pudding', 'remotecontrol', 'condimentbottle', 'chips']\n"
   ]
  },
  {
   "cell_type": "code",
   "execution_count": 53,
   "metadata": {},
   "outputs": [],
   "source": [
    "\n",
    "name_dict = {name: it for it, name in enumerate(names)}\n",
    "count_episodes = [0 for _ in names]\n",
    "count_pred = [0 for _ in names]\n",
    "count_length = [0 for _ in names]\n",
    "count_success = [0 for _ in names]\n",
    "episodes_index = [[] for _ in names]\n",
    "for pred_in, pred_dict in enumerate(results):\n",
    "    if 'pred_name' in pred_dict:\n",
    "        res, npred, length = pred_dict['pred_name'], pred_dict['num_preds'], pred_dict['len_prog']\n",
    "        index = name_dict[res]\n",
    "        count_episodes[index] += 1\n",
    "        episodes_index[index].append(pred_in)\n",
    "        count_pred[index] += npred\n",
    "        count_length[index] += length\n",
    "        if pred_dict['finished']:\n",
    "            count_success[index] += 1\n",
    "    \n",
    "for ind in range(len(names)):\n",
    "    count_pred[ind] *= 1.0 / count_episodes[ind]  \n",
    "    count_length[ind] *= 1.0 / count_episodes[ind]  \n",
    "    count_success[ind] *= 1.0 / count_episodes[ind]"
   ]
  },
  {
   "cell_type": "code",
   "execution_count": 54,
   "metadata": {},
   "outputs": [],
   "source": [
    "# Get object counts\n",
    "obj_counts = [[] for _ in names]\n",
    "for result in results:\n",
    "    if 'pred_name' in result:\n",
    "        task_name = result['pred_name']\n",
    "        task_id = name_dict[task_name]\n",
    "        obj_counts[task_id].append(np.array(result['count_obj'])[None, ])\n",
    "    "
   ]
  },
  {
   "cell_type": "code",
   "execution_count": null,
   "metadata": {},
   "outputs": [],
   "source": []
  },
  {
   "cell_type": "code",
   "execution_count": 55,
   "metadata": {},
   "outputs": [
    {
     "name": "stdout",
     "output_type": "stream",
     "text": [
      "(20, 11)\n",
      "(20, 11)\n",
      "(20, 11)\n",
      "(20, 11)\n",
      "(20, 11)\n"
     ]
    }
   ],
   "source": [
    "all_count_max, all_count_mean = [None for _ in names], [None for _ in names]\n",
    "for it in range(len(names)):\n",
    "    all_counts = np.concatenate(obj_counts[it])\n",
    "    print(all_counts.shape)\n",
    "    all_count_mean[it] = np.mean(all_counts, axis=0)\n",
    "    all_count_max[it] = np.max(all_counts, axis=0)"
   ]
  },
  {
   "cell_type": "code",
   "execution_count": 56,
   "metadata": {},
   "outputs": [
    {
     "data": {
      "image/png": "[encoded data removed]",
      "text/plain": [
       "<Figure size 576x216 with 1 Axes>"
      ]
     },
     "metadata": {
      "needs_background": "light"
     },
     "output_type": "display_data"
    }
   ],
   "source": [
    "fig, ax2 = plt.subplots(1,1, figsize=(8,3))\n",
    "x = np.array(range(len(objects_interest)))\n",
    "for idi in range(len(names)):\n",
    "    gap = idi + 0.5 - len(names)/2\n",
    "    gap *= 1./(len(objects_interest))\n",
    "    gp = 1./(len(objects_interest))\n",
    "    ax2.bar(x+gap, list(all_count_mean[idi]), width=gp, label=names[idi])\n",
    "    ax2.set_xticks(x)\n",
    "    ax2.set_xticklabels(objects_interest, rotation=45)\n",
    "    plt.legend()"
   ]
  },
  {
   "cell_type": "code",
   "execution_count": 57,
   "metadata": {},
   "outputs": [
    {
     "data": {
      "image/png": "[encoded data removed]",
      "text/plain": [
       "<Figure size 576x216 with 1 Axes>"
      ]
     },
     "metadata": {
      "needs_background": "light"
     },
     "output_type": "display_data"
    }
   ],
   "source": [
    "fig, ax2 = plt.subplots(1,1, figsize=(8,3))\n",
    "x = np.array(range(len(objects_interest)))\n",
    "for idi in range(len(names)):\n",
    "    gap = idi + 0.5 - len(names)/2\n",
    "    gap *= 1./(len(objects_interest))\n",
    "    gp = 1./(len(objects_interest))\n",
    "    ax2.bar(x+gap, list(all_count_max[idi]), width=gp, label=names[idi])\n",
    "    ax2.set_xticks(x)\n",
    "    ax2.set_xticklabels(objects_interest)\n",
    "    plt.legend()"
   ]
  },
  {
   "cell_type": "code",
   "execution_count": 41,
   "metadata": {},
   "outputs": [],
   "source": [
    "import random\n",
    "selected_ind = []\n",
    "for p in episodes_index:\n",
    "    elements = random.sample(p, 20)\n",
    "    selected_ind += elements\n"
   ]
  },
  {
   "cell_type": "code",
   "execution_count": 46,
   "metadata": {},
   "outputs": [],
   "source": [
    "file_names = [results[ind]['file_name'] for ind in selected_ind]"
   ]
  },
  {
   "cell_type": "code",
   "execution_count": 50,
   "metadata": {},
   "outputs": [],
   "source": [
    "with open('test_set_reduced.txt', 'w+') as f:\n",
    "    f.writelines([x+'\\n' for x in file_names])"
   ]
  },
  {
   "cell_type": "code",
   "execution_count": 58,
   "metadata": {
    "scrolled": true
   },
   "outputs": [
    {
     "data": {
      "text/plain": [
       "Text(0.5, 1.0, 'Length Episode')"
      ]
     },
     "execution_count": 58,
     "metadata": {},
     "output_type": "execute_result"
    },
    {
     "data": {
      "image/png": "[encoded data removed]",
      "text/plain": [
       "<Figure size 864x216 with 4 Axes>"
      ]
     },
     "metadata": {
      "needs_background": "light"
     },
     "output_type": "display_data"
    }
   ],
   "source": [
    "\n",
    "fig, ax2 = plt.subplots(1,4, figsize=(12,3))\n",
    "x = range(len(names))\n",
    "ax = ax2[0]\n",
    "ax.bar(x, count_episodes)\n",
    "ax.set_xticks(x)\n",
    "ax.set_xticklabels(names,  rotation=40)\n",
    "ax.set_title('Number of programs')\n",
    "\n",
    "ax = ax2[1]\n",
    "ax.bar(x, count_pred)\n",
    "ax.set_xticks(x)\n",
    "ax.set_xticklabels(names, rotation=40)\n",
    "ax.set_title('Number of predicates')\n",
    "\n",
    "ax = ax2[2]\n",
    "ax.bar(x, count_length)\n",
    "ax.set_xticks(x)\n",
    "ax.set_xticklabels(names,  rotation=40)\n",
    "ax.set_title('Length Episode')\n",
    "\n",
    "ax = ax2[3]\n",
    "ax.bar(x, count_success)\n",
    "ax.set_xticks(x)\n",
    "ax.set_xticklabels(names,  rotation=40)\n",
    "ax.set_title('Length Episode')"
   ]
  },
  {
   "cell_type": "code",
   "execution_count": null,
   "metadata": {},
   "outputs": [],
   "source": [
    "lents = [cont['len_prog'] for cont in results if len(cont) > 0 and cont['finished'] and cont['len_prog'] < 150]"
   ]
  },
  {
   "cell_type": "code",
   "execution_count": null,
   "metadata": {},
   "outputs": [],
   "source": [
    "len(lents)"
   ]
  },
  {
   "cell_type": "code",
   "execution_count": null,
   "metadata": {},
   "outputs": [],
   "source": [
    "# Agregate relstions\n",
    "aggregate_relations = {}\n",
    "\n",
    "all_relation_names = []\n",
    "for result in results:\n",
    "    result_rel = result['obj_relations']\n",
    "    for result_object, counter_result in result_rel.items():\n",
    "        all_relation_names += list(counter_result.keys())\n",
    "\n",
    "all_relation_names = list(set(all_relation_names))\n",
    "relation_name_to_index = {rel_name: ind for ind, rel_name in enumerate(all_relation_names)}\n",
    "\n",
    "# For every object, a list of counts\n",
    "all_relations = {}\n",
    "for task_name in names:\n",
    "    all_relations[task_name] = {}\n",
    "    for object_name_interest in objects_interest:\n",
    "        all_relations[task_name][object_name_interest] = [0 for _ in all_relation_names]\n",
    "    \n",
    "for result in results:\n",
    "    task_name = result['pred_name']\n",
    "    result_rel = result['obj_relations']\n",
    "    for result_object, counter_result in result_rel.items():\n",
    "        for relation_name, relation_count in counter_result.items():\n",
    "            index = relation_name_to_index[relation_name]\n",
    "            all_relations[task_name][result_object][index] += relation_count\n",
    "\n",
    "# Average over episodes\n",
    "for index_task, task_name in enumerate(names):\n",
    "    count_ep = count_length[index_task]\n",
    "    for object_interest in objects_interest:\n",
    "        all_relations[task_name][object_interest] = np.array(all_relations[task_name][object_interest])/count_ep\n",
    "            \n",
    "            \n",
    "# len(all_relation_names)\n",
    "\n",
    "# for result in results:\n",
    "#     for obj_name in objects_interest:\n",
    "        \n",
    "# results[0]['obj_relations']"
   ]
  },
  {
   "cell_type": "code",
   "execution_count": null,
   "metadata": {},
   "outputs": [],
   "source": [
    "for task_name in [names[0]]:\n",
    "    fig, ax2 = plt.subplots(len(objects_interest),1, figsize=(8, 8))\n",
    "    for it_object_interest, name in enumerate(objects_interest):\n",
    "        print(name)\n",
    "        array_res = all_relations[task_name][name]\n",
    "        print(array_res)\n",
    "        array_res = list(array_res)\n",
    "        for it, elem in enumerate(array_res):\n",
    "            relation_name = all_relation_names[it]\n",
    "            ax2[it_object_interest].bar(it, array_res[it], label=relation_name)\n",
    "            ax.set_xticks([])\n"
   ]
  },
  {
   "cell_type": "code",
   "execution_count": null,
   "metadata": {},
   "outputs": [],
   "source": [
    "print(len(objects_interest))\n",
    "fig, ax2 = plt.subplots(len(objects_interest),1, figsize=(12, 4*len(objects_interest)))\n",
    "for id_task_name, task_name in enumerate(names):\n",
    "    pattern = [\"\", \"//\", '**', '\\\\'][id_task_name]\n",
    "    for it_object_interest, name in enumerate(objects_interest):\n",
    "#         print(name)\n",
    "        array_res = all_relations[task_name][name]\n",
    "#         print(array_res)\n",
    "        array_res = list(array_res)\n",
    "        colors = list(mcd.CSS4_COLORS.values())\n",
    "        for it, elem in enumerate(array_res):\n",
    "            relation_name = all_relation_names[it]\n",
    "#             ax2[it_object_interest].bar(it*2 + id_task_name, array_res[it], label=relation_name, width=0.5)\n",
    "            gp = 1./len(names)\n",
    "            gap = gp * (id_task_name +0.5 - len(names)/2.)\n",
    "            ax2[it_object_interest].bar(it + gap, array_res[it], width=gp, \n",
    "                                        label=relation_name, hatch=pattern,  color=colors[it % len(colors)])\n",
    "        \n",
    "        ax2[it_object_interest].set_title(name)\n",
    "        ax2[it_object_interest].set_ylim([0,2])\n",
    "        ax2[it_object_interest].set_xticks(range(len(array_res)))\n",
    "        ax2[it_object_interest].set_xticklabels(all_relation_names, rotation=40)\n",
    "        ax2[it_object_interest].grid(axis='y')\n",
    "#     if id_task_name == 0:\n",
    "#         plt.legend(ncol=3)"
   ]
  },
  {
   "cell_type": "code",
   "execution_count": null,
   "metadata": {},
   "outputs": [],
   "source": [
    "\n",
    "fig, ax2 = plt.subplots(4,1, figsize=(12, 8))\n",
    "for id_task_name, task_name in enumerate(names):\n",
    "    pattern = [\"\", \"//\"][id_task_name]\n",
    "    for it_object_interest, name in enumerate(objects_interest[:1]):\n",
    "#         print(name)\n",
    "        array_res = all_relations[task_name][name]\n",
    "#         print(array_res)\n",
    "        array_res = list(array_res)\n",
    "        for it, elem in enumerate(array_res):\n",
    "            relation_name = all_relation_names[it]\n",
    "#             ax2[it_object_interest].bar(it*2 + id_task_name, array_res[it], label=relation_name, width=0.5)\n",
    "            ax2[it_object_interest].bar(it*2 + id_task_name, array_res[it], label=relation_name, hatch=pattern)\n",
    "        \n",
    "        ax2[it_object_interest].set_title(name)\n",
    "        ax2[it_object_interest].set_ylim([0,100])\n",
    "        ax2[it_object_interest].set_xticks([])\n",
    "        \n",
    "        ax2[it_object_interest].grid(axis='y')\n",
    "    if id_task_name == 0 and it_object_interest == 0:\n",
    "#         ax2[0].legend(ncol=4)\n",
    "        ax2[0].legend(loc='center left', bbox_to_anchor=(1, 0.5))"
   ]
  },
  {
   "cell_type": "code",
   "execution_count": null,
   "metadata": {},
   "outputs": [],
   "source": []
  }
 ],
 "metadata": {
  "kernelspec": {
   "display_name": "Python 3",
   "language": "python",
   "name": "python3"
  },
  "language_info": {
   "codemirror_mode": {
    "name": "ipython",
    "version": 3
   },
   "file_extension": ".py",
   "mimetype": "text/x-python",
   "name": "python",
   "nbconvert_exporter": "python",
   "pygments_lexer": "ipython3",
   "version": "3.7.1"
  }
 },
 "nbformat": 4,
 "nbformat_minor": 4
}
